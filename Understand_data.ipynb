{
 "cells": [
  {
   "cell_type": "markdown",
   "source": [
    "Understanding the Dataset - Drug Review Dataset\n"
   ],
   "metadata": {
    "collapsed": false
   }
  },
  {
   "cell_type": "markdown",
   "source": [
    "No.1 Drug Review Dataset\n",
    "\n",
    "Attribute Information:\n",
    "\n",
    "1. drugName (categorical): name of drug\n",
    "2. condition (categorical): name of condition\n",
    "3. review (text): patient review\n",
    "4. rating (numerical): 10 star patient rating\n",
    "5. date (date): date of review entry\n",
    "6. usefulCount (numerical): number of users who found review useful"
   ],
   "metadata": {
    "collapsed": false
   }
  },
  {
   "cell_type": "code",
   "execution_count": null,
   "outputs": [],
   "source": [
    "import pandas as pd\n",
    "import matplotlib.pyplot as plt\n",
    "import spacy\n",
    "from wordcloud import WordCloud, STOPWORDS\n",
    "from spacy.util import minibatch, compounding\n",
    "from constant import Drug_Review_Train, Drug_Review_Test"
   ],
   "metadata": {
    "collapsed": false,
    "pycharm": {
     "name": "#%%\n"
    }
   }
  },
  {
   "cell_type": "code",
   "execution_count": null,
   "outputs": [],
   "source": [
    "df_train = pd.read_csv(Drug_Review_Train,sep='\\t')\n",
    "df_train.rename(columns={\"Unnamed: 0\": \"UniqueID\"}, inplace=True)"
   ],
   "metadata": {
    "collapsed": false,
    "pycharm": {
     "name": "#%%\n"
    }
   }
  },
  {
   "cell_type": "code",
   "execution_count": null,
   "outputs": [],
   "source": [
    "df_train.head()"
   ],
   "metadata": {
    "collapsed": false,
    "pycharm": {
     "name": "#%%\n"
    }
   }
  },
  {
   "cell_type": "code",
   "execution_count": null,
   "outputs": [],
   "source": [
    "df_train.info()"
   ],
   "metadata": {
    "collapsed": false,
    "pycharm": {
     "name": "#%%\n"
    }
   }
  },
  {
   "cell_type": "markdown",
   "source": [
    "Data preprocessing"
   ],
   "metadata": {
    "collapsed": false
   }
  },
  {
   "cell_type": "code",
   "execution_count": null,
   "outputs": [],
   "source": [
    "# there are some missing values in condition variable.\n",
    "df_train.isnull().sum()"
   ],
   "metadata": {
    "collapsed": false,
    "pycharm": {
     "name": "#%%\n"
    }
   }
  },
  {
   "cell_type": "markdown",
   "source": [
    "There are 899 missing values in the column: condition."
   ],
   "metadata": {
    "collapsed": false
   }
  },
  {
   "cell_type": "code",
   "execution_count": null,
   "outputs": [],
   "source": [
    "print(\"Missing value (%):\", 899/df_train.shape[0] *100)"
   ],
   "metadata": {
    "collapsed": false,
    "pycharm": {
     "name": "#%%\n"
    }
   }
  },
  {
   "cell_type": "markdown",
   "source": [
    "we will delete the missing values since the percentage of missing values is lower."
   ],
   "metadata": {
    "collapsed": false
   }
  },
  {
   "cell_type": "code",
   "execution_count": null,
   "outputs": [],
   "source": [
    "df_train = df_train.dropna(axis=0)"
   ],
   "metadata": {
    "collapsed": false,
    "pycharm": {
     "name": "#%%\n"
    }
   }
  },
  {
   "cell_type": "code",
   "execution_count": null,
   "outputs": [],
   "source": [
    "# Q1: How many drugs do we have in training set? The number of unique drugs.\n",
    "print(len(df_train['drugName'].unique().tolist()))"
   ],
   "metadata": {
    "collapsed": false,
    "pycharm": {
     "name": "#%%\n"
    }
   }
  },
  {
   "cell_type": "code",
   "execution_count": null,
   "outputs": [],
   "source": [
    "df_train['drugName'].value_counts()"
   ],
   "metadata": {
    "collapsed": false,
    "pycharm": {
     "name": "#%%\n"
    }
   }
  },
  {
   "cell_type": "code",
   "execution_count": null,
   "outputs": [],
   "source": [
    "condition_dn = df_train.groupby(['drugName'])['condition'].nunique().sort_values(ascending=False)\n",
    "condition_dn[0:20].plot(kind=\"bar\", figsize = (14,6), fontsize = 10,color=\"black\")\n",
    "plt.xlabel(\"Drug Name\", fontsize = 20)\n",
    "plt.ylabel(\"Number of Conditions\", fontsize = 20)\n",
    "plt.title(\"Top20 : The number of conditions for each drug\", fontsize = 20)"
   ],
   "metadata": {
    "collapsed": false,
    "pycharm": {
     "name": "#%%\n"
    }
   }
  },
  {
   "cell_type": "markdown",
   "source": [
    "In this figure, we can conclude there are lots of drugs can be used in many conditions. "
   ],
   "metadata": {
    "collapsed": false
   }
  },
  {
   "cell_type": "code",
   "execution_count": null,
   "outputs": [],
   "source": [
    "df_prednisone = df_train.loc[df_train['drugName'] == 'Prednisone']\n",
    "print(df_prednisone)"
   ],
   "metadata": {
    "collapsed": false,
    "pycharm": {
     "name": "#%%\n"
    }
   }
  },
  {
   "cell_type": "markdown",
   "source": [
    "Rating"
   ],
   "metadata": {
    "collapsed": false
   }
  },
  {
   "cell_type": "code",
   "execution_count": null,
   "outputs": [],
   "source": [
    "rating = df_train['rating'].value_counts().sort_values(ascending=False)\n",
    "rating.plot(kind=\"bar\", figsize = (14,6), fontsize = 10,color=\"green\")\n",
    "plt.xlabel(\"Rating\", fontsize = 20)\n",
    "plt.ylabel(\"Number of Unique IDs\", fontsize = 20)\n",
    "plt.title(\"Count of rating values\", fontsize = 20)"
   ],
   "metadata": {
    "collapsed": false,
    "pycharm": {
     "name": "#%%\n"
    }
   }
  },
  {
   "cell_type": "code",
   "execution_count": null,
   "outputs": [],
   "source": [
    "rating_avgs = (df_train['rating'].groupby(df_train['drugName']).mean())\n",
    "df_ave_rate = pd.DataFrame({\"rating_avgs\":rating_avgs}) \n",
    "df_ave_rate"
   ],
   "metadata": {
    "collapsed": false,
    "pycharm": {
     "name": "#%%\n"
    }
   }
  },
  {
   "cell_type": "code",
   "execution_count": null,
   "outputs": [],
   "source": [
    "plt.figsize = (15, 6)\n",
    "plt.scatter(df_train.rating, df_train.usefulCount)\n",
    "plt.xlabel('Rating')\n",
    "plt.ylabel('usefulcount')\n",
    "plt.show()"
   ],
   "metadata": {
    "collapsed": false,
    "pycharm": {
     "name": "#%%\n"
    }
   }
  },
  {
   "cell_type": "markdown",
   "source": [
    "In this scatter plot, we can see the higher the rating, the larger useful counts."
   ],
   "metadata": {
    "collapsed": false
   }
  },
  {
   "cell_type": "markdown",
   "source": [
    "## Text exploration"
   ],
   "metadata": {
    "collapsed": false
   }
  },
  {
   "cell_type": "code",
   "execution_count": null,
   "outputs": [],
   "source": [
    "#Fetch wordcount\n",
    "df_train['word_count'] = df_train['review'].apply(lambda x: len(str(x).split(\" \")))\n",
    "df_train[['review','word_count']].head()"
   ],
   "metadata": {
    "collapsed": false,
    "pycharm": {
     "name": "#%%\n"
    }
   }
  },
  {
   "cell_type": "code",
   "execution_count": null,
   "outputs": [],
   "source": [
    "df_train['word_count'].describe()"
   ],
   "metadata": {
    "collapsed": false,
    "pycharm": {
     "name": "#%%\n"
    }
   }
  },
  {
   "cell_type": "code",
   "execution_count": null,
   "outputs": [],
   "source": [
    "text = df_train['review'][2]"
   ],
   "metadata": {
    "collapsed": false,
    "pycharm": {
     "name": "#%%\n"
    }
   }
  },
  {
   "cell_type": "code",
   "execution_count": null,
   "outputs": [],
   "source": [
    "print(text)"
   ],
   "metadata": {
    "collapsed": false,
    "pycharm": {
     "name": "#%%\n"
    }
   }
  },
  {
   "cell_type": "code",
   "execution_count": null,
   "outputs": [],
   "source": [
    "conda install -c conda-forge spacy-model-en_core_web_sm"
   ],
   "metadata": {
    "collapsed": false,
    "pycharm": {
     "name": "#%%\n"
    }
   }
  },
  {
   "cell_type": "code",
   "execution_count": null,
   "outputs": [],
   "source": [
    "import spacy\n",
    "nlp = spacy.load('en_core_web_sm')\n",
    "doc = nlp(text)"
   ],
   "metadata": {
    "collapsed": false,
    "pycharm": {
     "name": "#%%\n"
    }
   }
  },
  {
   "cell_type": "code",
   "execution_count": null,
   "outputs": [],
   "source": [
    "import nltk\n",
    "nltk.download('punkt')\n",
    "nltk.download('wordnet')\n",
    "nltk.download('averaged_perceptron_tagger')\n",
    "from nltk.tokenize import word_tokenize  \n",
    "from nltk.corpus import stopwords\n",
    "from nltk.stem import WordNetLemmatizer\n",
    "from nltk.stem.snowball import SnowballStemmer\n",
    "from nltk.stem.porter import *"
   ],
   "metadata": {
    "collapsed": false,
    "pycharm": {
     "name": "#%%\n"
    }
   }
  },
  {
   "cell_type": "markdown",
   "source": [
    "Create NLP pipeline for textual features"
   ],
   "metadata": {
    "collapsed": false
   }
  },
  {
   "cell_type": "code",
   "execution_count": null,
   "outputs": [],
   "source": [
    "p_stemmer = PorterStemmer()\n",
    "wordnet_lemmatizer = WordNetLemmatizer()\n",
    "stemedList = []\n",
    "\n",
    "def NLP_pipeline(text):\n",
    "    # tokenization\n",
    "    wordlist = word_tokenize(text)\n",
    "\n",
    "    # stemming\n",
    "    wordlist = [p_stemmer.stem(word) for word in wordlist]\n",
    "    # print out stemming list:\n",
    "    print('stemming:   ',wordlist)\n",
    "\n",
    "    # Lemmatization\n",
    "    wordlist = [wordnet_lemmatizer.lemmatize(word) for word in wordlist]\n",
    "    \n",
    "    # print out lemmatization list:\n",
    "    print('lemmatization:  ',wordlist)\n",
    "\n",
    "    # filter stopwords\n",
    "    filtered_sentence =[] \n",
    "    for word in wordlist:\n",
    "        lexeme = nlp.vocab[word]\n",
    "        if lexeme.is_stop == False:\n",
    "            filtered_sentence.append(word) \n",
    "    wordlist = filtered_sentence\n",
    "    \n",
    "    # print out filter stop words:\n",
    "    print('filter stopwords:   ',wordlist)\n",
    "\n",
    "    text = ' '.join(wordlist)\n",
    "    return text\n",
    "\n",
    "\n",
    "NLP_pipeline(text)"
   ],
   "metadata": {
    "collapsed": false,
    "pycharm": {
     "name": "#%%\n"
    }
   }
  },
  {
   "cell_type": "code",
   "execution_count": null,
   "outputs": [],
   "source": [
    "# pos tagging\n",
    "print(nltk.pos_tag(list(text)))"
   ],
   "metadata": {
    "collapsed": false,
    "pycharm": {
     "name": "#%%\n"
    }
   }
  },
  {
   "cell_type": "markdown",
   "source": [
    " Why to remove stop words?   \n",
    "\n",
    "Stopwords are the most common words in any natural language. For the purpose of analyzing text data and building NLP models, these stopwords might not add much value to the meaning of the document.\n",
    "\n"
   ],
   "metadata": {
    "collapsed": false
   }
  },
  {
   "cell_type": "code",
   "execution_count": null,
   "outputs": [],
   "source": [
    "# dependency parsing"
   ],
   "metadata": {
    "collapsed": false,
    "pycharm": {
     "name": "#%%\n"
    }
   }
  },
  {
   "cell_type": "code",
   "execution_count": null,
   "outputs": [],
   "source": [
    "from spacy import displacy\n",
    "sp = spacy.load('en_core_web_sm')\n",
    "sen = sp(text)\n",
    "displacy.render(sen, style='dep', jupyter=True, options={'distance': 85})"
   ],
   "metadata": {
    "collapsed": false,
    "pycharm": {
     "name": "#%%\n"
    }
   }
  },
  {
   "cell_type": "markdown",
   "source": [
    " TF_IDF"
   ],
   "metadata": {
    "collapsed": false
   }
  },
  {
   "cell_type": "markdown",
   "source": [
    "![image.png](data:image/png;base64,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)"
   ],
   "metadata": {
    "collapsed": false
   }
  },
  {
   "cell_type": "code",
   "execution_count": null,
   "outputs": [],
   "source": [
    "# vectorize data"
   ],
   "metadata": {
    "collapsed": false,
    "pycharm": {
     "name": "#%%\n"
    }
   }
  },
  {
   "cell_type": "code",
   "execution_count": null,
   "outputs": [],
   "source": [
    "from sklearn.feature_extraction.text import TfidfVectorizer\n",
    "corpus = [df_train['review'][0], df_train['review'][1], df_train['review'][2], df_train['review'][3]]\n",
    "vectorizer = TfidfVectorizer()\n",
    "X = vectorizer.fit_transform(corpus)\n",
    "print(vectorizer.get_feature_names())\n",
    "print(X.shape)\n",
    "print(X)"
   ],
   "metadata": {
    "collapsed": false,
    "pycharm": {
     "name": "#%%\n"
    }
   }
  },
  {
   "cell_type": "code",
   "execution_count": null,
   "outputs": [],
   "source": [
    "import spacy\n",
    "from wordcloud import WordCloud, STOPWORDS\n",
    "import re\n",
    "import random"
   ],
   "metadata": {
    "collapsed": false,
    "pycharm": {
     "name": "#%%\n"
    }
   }
  },
  {
   "cell_type": "code",
   "execution_count": null,
   "outputs": [],
   "source": [
    "# process review data\n",
    "processed_review = ' '\n",
    "stopwords = set(STOPWORDS) \n",
    "for review in df_train['review']: \n",
    "    # to lower case\n",
    "    review = str(review).lower() \n",
    "    # split \n",
    "    words = review.split()\n",
    "    processed_review = processed_review + ' '.join(words)\n"
   ],
   "metadata": {
    "collapsed": false,
    "pycharm": {
     "name": "#%%\n"
    }
   }
  },
  {
   "cell_type": "markdown",
   "source": [
    "## generate wordcloud\n"
   ],
   "metadata": {
    "collapsed": false
   }
  },
  {
   "cell_type": "code",
   "execution_count": null,
   "outputs": [],
   "source": [
    "wordcloud = WordCloud(width = 800, height = 800, \n",
    "                background_color ='white', \n",
    "                stopwords = stopwords, \n",
    "                min_font_size = 10).generate(processed_review) \n",
    "  \n",
    "# plot the WordCloud image                        \n",
    "plt.figure(figsize = (8, 8), facecolor = None) \n",
    "plt.imshow(wordcloud) \n",
    "plt.axis(\"off\") \n",
    "plt.tight_layout(pad = 0)   \n",
    "plt.show() "
   ],
   "metadata": {
    "collapsed": false,
    "pycharm": {
     "name": "#%%\n"
    }
   }
  },
  {
   "cell_type": "code",
   "execution_count": null,
   "outputs": [],
   "source": [
    "# Conclusion of understanding attributes and relationships"
   ],
   "metadata": {
    "collapsed": false,
    "pycharm": {
     "name": "#%%\n"
    }
   }
  },
  {
   "cell_type": "markdown",
   "source": [
    "\n",
    "1. Most of the commonest drugs are hormonal drugs.\n",
    "2. The most commonest condition is birth control, followed by depression and pain and anxiety.\n",
    "3. Prednisone can be used in many conditions, for example, asthma, skin rash, bursitis, inflammatory conditions and so on.\n",
    "4. As the rating goes up, the usefulcount goes up.\n"
   ],
   "metadata": {
    "collapsed": false
   }
  },
  {
   "cell_type": "code",
   "execution_count": null,
   "outputs": [],
   "source": [
    "# Vectorize data"
   ],
   "metadata": {
    "collapsed": false,
    "pycharm": {
     "name": "#%%\n"
    }
   }
  },
  {
   "cell_type": "markdown",
   "source": [
    "Term Frequency-Inverse Document Frequency (TF-IDF)\n",
    "![image.png](attachment:image.png)"
   ],
   "metadata": {
    "collapsed": false
   }
  },
  {
   "cell_type": "markdown",
   "source": [
    "Two Reviews: \n",
    "\n",
    "Review 1(ID: 206461) “It has no side effect, I take it in combination of Bystolic 5 Mg and Fish Oil” \n",
    "\n",
    "Review 2(ID: 80520)   “Reduced my pain by 80% and lets me live a normal life again”\n"
   ],
   "metadata": {
    "collapsed": false
   }
  },
  {
   "cell_type": "markdown",
   "source": [
    "Vocabulary: ['80', 'again', 'and', 'by', 'bystolic', 'combination', 'effect', 'fish', 'has', 'in', 'it', 'lets', 'life', 'live', 'me', 'mg', 'my', 'no', 'normal', 'of', 'oil', 'pain', 'reduced', 'side', 'take']\n"
   ],
   "metadata": {
    "collapsed": false
   }
  },
  {
   "cell_type": "markdown",
   "source": [
    "Vectorize text:\n",
    "\n",
    "review_1 = [0,0,0.175, 0, 0.246, 0, 0.246, 0.246, 0.246, 0.246, 0.492, 0, 0, 0, 0, 0.246, 0, 0.246, 0, 0.246, 0.246, 0, 0, 0.246, 0.246]\n",
    "\n",
    "review_2 = [0.295, 0.295, 0.210, 0.295, 0, 0, 0, 0, 0, 0, 0, 0.295, 0.295, 0.295, 0.295, 0, 0.295, 0, 0.295, 0,0, 0.295, 0.295, 0, 0]\n"
   ],
   "metadata": {
    "collapsed": false
   }
  },
  {
   "cell_type": "code",
   "execution_count": null,
   "outputs": [],
   "source": [
    "# codes to generate dataframe"
   ],
   "metadata": {
    "collapsed": false,
    "pycharm": {
     "name": "#%%\n"
    }
   }
  },
  {
   "cell_type": "code",
   "execution_count": null,
   "outputs": [],
   "source": [
    "import pandas as pd\n",
    "from tqdm import tqdm\n",
    "\n",
    "def convert_to_df(file_path: str) -> pd.DataFrame:\n",
    "    \"\"\"Convert documents to DataFrame\n",
    "\n",
    "       Args:\n",
    "\n",
    "       file_path (str): Path to train/dev/test files\n",
    "    \"\"\"\n",
    "    instances = []\n",
    "    with open(file_path, \"r\") as f:\n",
    "    # Process the file line by line\n",
    "        for line in tqdm(f.readlines(), desc=f\"Process {file_path}\"):\n",
    "            if line.startswith(\"###\") or len(line.strip()) == 0:\n",
    "    # Lines with ### or blank lines can be ignored\n",
    "                next\n",
    "            else:\n",
    "                label, text = line.split(\"\\t\")\n",
    "                instances.append({\"sentence\": text, \"label\": label})\n",
    "    return pd.DataFrame(instances)"
   ],
   "metadata": {
    "collapsed": false,
    "pycharm": {
     "name": "#%%\n"
    }
   }
  },
  {
   "cell_type": "code",
   "execution_count": null,
   "outputs": [],
   "source": [],
   "metadata": {
    "collapsed": false,
    "pycharm": {
     "name": "#%%\n"
    }
   }
  },
  {
   "cell_type": "code",
   "execution_count": null,
   "outputs": [],
   "source": [
    "from google.colab import files\n",
    "uploaded = files.upload()"
   ],
   "metadata": {
    "collapsed": false,
    "pycharm": {
     "name": "#%%\n"
    }
   }
  },
  {
   "cell_type": "code",
   "execution_count": null,
   "outputs": [],
   "source": [
    "df_test = pd.read_csv(\"drugsComTest_raw.tsv\",sep='\\t')\n",
    "df_test.rename(columns={\"Unnamed: 0\": \"UniqueID\"}, inplace=True)"
   ],
   "metadata": {
    "collapsed": false,
    "pycharm": {
     "name": "#%%\n"
    }
   }
  },
  {
   "cell_type": "code",
   "execution_count": null,
   "outputs": [],
   "source": [
    "df_test.head()"
   ],
   "metadata": {
    "collapsed": false,
    "pycharm": {
     "name": "#%%\n"
    }
   }
  },
  {
   "cell_type": "code",
   "execution_count": null,
   "outputs": [],
   "source": [
    "df_test.info()"
   ],
   "metadata": {
    "collapsed": false,
    "pycharm": {
     "name": "#%%\n"
    }
   }
  }
 ],
 "metadata": {
  "colab": {
   "name": "Day 1_Group 1.ipynb",
   "provenance": []
  },
  "kernelspec": {
   "display_name": "Python 3",
   "language": "python",
   "name": "python3"
  },
  "language_info": {
   "codemirror_mode": {
    "name": "ipython",
    "version": 3
   },
   "file_extension": ".py",
   "mimetype": "text/x-python",
   "name": "python",
   "nbconvert_exporter": "python",
   "pygments_lexer": "ipython3",
   "version": "3.8.8"
  }
 },
 "nbformat": 4,
 "nbformat_minor": 5
}