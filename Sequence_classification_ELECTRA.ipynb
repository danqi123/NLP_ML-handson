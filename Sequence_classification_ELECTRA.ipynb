{
 "cells": [
  {
   "cell_type": "markdown",
   "metadata": {
    "id": "AyTnBWoII_-O"
   },
   "source": [
    "# Hands-on Machine Learning - (ML) Lab"
   ]
  },
  {
   "cell_type": "markdown",
   "metadata": {
    "id": "OpyyXyW_JABc"
   },
   "source": [
    "# sentence-classification-with-electra"
   ]
  },
  {
   "cell_type": "markdown",
   "metadata": {
    "id": "pvfb7mGY6Zw0"
   },
   "source": [
    "## Load data and model"
   ]
  },
  {
   "cell_type": "code",
   "execution_count": 2,
   "metadata": {
    "executionInfo": {
     "elapsed": 414,
     "status": "ok",
     "timestamp": 1628777909891,
     "user": {
      "displayName": "danqi wang",
      "photoUrl": "",
      "userId": "13389840924263856524"
     },
     "user_tz": -120
    },
    "id": "gyC4IXeUYt7U"
   },
   "outputs": [],
   "source": [
    "import pandas as pd\n",
    "import matplotlib.pyplot as plt"
   ]
  },
  {
   "cell_type": "code",
   "execution_count": 4,
   "metadata": {
    "colab": {
     "base_uri": "https://localhost:8080/",
     "height": 76,
     "resources": {
      "http://localhost:8080/nbextensions/google.colab/files.js": {
       "data": "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",
       "headers": [
        [
         "content-type",
         "application/javascript"
        ]
       ],
       "ok": true,
       "status": 200,
       "status_text": ""
      }
     }
    },
    "executionInfo": {
     "elapsed": 69903,
     "status": "ok",
     "timestamp": 1628778394650,
     "user": {
      "displayName": "danqi wang",
      "photoUrl": "",
      "userId": "13389840924263856524"
     },
     "user_tz": -120
    },
    "id": "dg9DwU3vJLaY",
    "outputId": "71238172-d9d1-4045-cdaa-523911e02e71"
   },
   "outputs": [
    {
     "data": {
      "text/html": [
       "\n",
       "     <input type=\"file\" id=\"files-06dc724a-6dee-4774-937b-f5df13dd5c43\" name=\"files[]\" multiple disabled\n",
       "        style=\"border:none\" />\n",
       "     <output id=\"result-06dc724a-6dee-4774-937b-f5df13dd5c43\">\n",
       "      Upload widget is only available when the cell has been executed in the\n",
       "      current browser session. Please rerun this cell to enable.\n",
       "      </output>\n",
       "      <script src=\"/nbextensions/google.colab/files.js\"></script> "
      ],
      "text/plain": [
       "<IPython.core.display.HTML object>"
      ]
     },
     "metadata": {
      "tags": []
     },
     "output_type": "display_data"
    },
    {
     "name": "stdout",
     "output_type": "stream",
     "text": [
      "Saving test_20k.txt to test_20k.txt\n"
     ]
    }
   ],
   "source": [
    "# only used in colab case\n",
    "from google.colab import files\n",
    "uploaded = files.upload()"
   ]
  },
  {
   "cell_type": "code",
   "execution_count": 5,
   "metadata": {
    "colab": {
     "base_uri": "https://localhost:8080/"
    },
    "executionInfo": {
     "elapsed": 9916,
     "status": "ok",
     "timestamp": 1628778408024,
     "user": {
      "displayName": "danqi wang",
      "photoUrl": "",
      "userId": "13389840924263856524"
     },
     "user_tz": -120
    },
    "id": "OkOfCzonJLcz",
    "outputId": "b3a19e09-f71a-4d6d-cbe8-68ef36b998a6"
   },
   "outputs": [
    {
     "name": "stdout",
     "output_type": "stream",
     "text": [
      "Collecting transformers\n",
      "  Downloading transformers-4.9.2-py3-none-any.whl (2.6 MB)\n",
      "\u001B[K     |████████████████████████████████| 2.6 MB 4.2 MB/s \n",
      "\u001B[?25hCollecting datasets\n",
      "  Downloading datasets-1.11.0-py3-none-any.whl (264 kB)\n",
      "\u001B[K     |████████████████████████████████| 264 kB 29.2 MB/s \n",
      "\u001B[?25hRequirement already satisfied: numpy>=1.17 in /usr/local/lib/python3.7/dist-packages (from transformers) (1.19.5)\n",
      "Requirement already satisfied: filelock in /usr/local/lib/python3.7/dist-packages (from transformers) (3.0.12)\n",
      "Collecting pyyaml>=5.1\n",
      "  Downloading PyYAML-5.4.1-cp37-cp37m-manylinux1_x86_64.whl (636 kB)\n",
      "\u001B[K     |████████████████████████████████| 636 kB 40.4 MB/s \n",
      "\u001B[?25hCollecting tokenizers<0.11,>=0.10.1\n",
      "  Downloading tokenizers-0.10.3-cp37-cp37m-manylinux_2_5_x86_64.manylinux1_x86_64.manylinux_2_12_x86_64.manylinux2010_x86_64.whl (3.3 MB)\n",
      "\u001B[K     |████████████████████████████████| 3.3 MB 37.0 MB/s \n",
      "\u001B[?25hCollecting sacremoses\n",
      "  Downloading sacremoses-0.0.45-py3-none-any.whl (895 kB)\n",
      "\u001B[K     |████████████████████████████████| 895 kB 40.0 MB/s \n",
      "\u001B[?25hRequirement already satisfied: regex!=2019.12.17 in /usr/local/lib/python3.7/dist-packages (from transformers) (2019.12.20)\n",
      "Requirement already satisfied: packaging in /usr/local/lib/python3.7/dist-packages (from transformers) (21.0)\n",
      "Requirement already satisfied: tqdm>=4.27 in /usr/local/lib/python3.7/dist-packages (from transformers) (4.41.1)\n",
      "Requirement already satisfied: requests in /usr/local/lib/python3.7/dist-packages (from transformers) (2.23.0)\n",
      "Requirement already satisfied: importlib-metadata in /usr/local/lib/python3.7/dist-packages (from transformers) (4.6.1)\n",
      "Collecting huggingface-hub==0.0.12\n",
      "  Downloading huggingface_hub-0.0.12-py3-none-any.whl (37 kB)\n",
      "Requirement already satisfied: typing-extensions in /usr/local/lib/python3.7/dist-packages (from huggingface-hub==0.0.12->transformers) (3.7.4.3)\n",
      "Requirement already satisfied: pyparsing>=2.0.2 in /usr/local/lib/python3.7/dist-packages (from packaging->transformers) (2.4.7)\n",
      "Requirement already satisfied: dill in /usr/local/lib/python3.7/dist-packages (from datasets) (0.3.4)\n",
      "Collecting fsspec>=2021.05.0\n",
      "  Downloading fsspec-2021.7.0-py3-none-any.whl (118 kB)\n",
      "\u001B[K     |████████████████████████████████| 118 kB 48.6 MB/s \n",
      "\u001B[?25hRequirement already satisfied: multiprocess in /usr/local/lib/python3.7/dist-packages (from datasets) (0.70.12.2)\n",
      "Requirement already satisfied: pandas in /usr/local/lib/python3.7/dist-packages (from datasets) (1.1.5)\n",
      "Collecting tqdm>=4.27\n",
      "  Downloading tqdm-4.62.0-py2.py3-none-any.whl (76 kB)\n",
      "\u001B[K     |████████████████████████████████| 76 kB 4.1 MB/s \n",
      "\u001B[?25hRequirement already satisfied: pyarrow!=4.0.0,>=1.0.0 in /usr/local/lib/python3.7/dist-packages (from datasets) (3.0.0)\n",
      "Collecting xxhash\n",
      "  Downloading xxhash-2.0.2-cp37-cp37m-manylinux2010_x86_64.whl (243 kB)\n",
      "\u001B[K     |████████████████████████████████| 243 kB 38.2 MB/s \n",
      "\u001B[?25hRequirement already satisfied: idna<3,>=2.5 in /usr/local/lib/python3.7/dist-packages (from requests->transformers) (2.10)\n",
      "Requirement already satisfied: chardet<4,>=3.0.2 in /usr/local/lib/python3.7/dist-packages (from requests->transformers) (3.0.4)\n",
      "Requirement already satisfied: urllib3!=1.25.0,!=1.25.1,<1.26,>=1.21.1 in /usr/local/lib/python3.7/dist-packages (from requests->transformers) (1.24.3)\n",
      "Requirement already satisfied: certifi>=2017.4.17 in /usr/local/lib/python3.7/dist-packages (from requests->transformers) (2021.5.30)\n",
      "Requirement already satisfied: zipp>=0.5 in /usr/local/lib/python3.7/dist-packages (from importlib-metadata->transformers) (3.5.0)\n",
      "Requirement already satisfied: pytz>=2017.2 in /usr/local/lib/python3.7/dist-packages (from pandas->datasets) (2018.9)\n",
      "Requirement already satisfied: python-dateutil>=2.7.3 in /usr/local/lib/python3.7/dist-packages (from pandas->datasets) (2.8.1)\n",
      "Requirement already satisfied: six>=1.5 in /usr/local/lib/python3.7/dist-packages (from python-dateutil>=2.7.3->pandas->datasets) (1.15.0)\n",
      "Requirement already satisfied: joblib in /usr/local/lib/python3.7/dist-packages (from sacremoses->transformers) (1.0.1)\n",
      "Requirement already satisfied: click in /usr/local/lib/python3.7/dist-packages (from sacremoses->transformers) (7.1.2)\n",
      "Installing collected packages: tqdm, xxhash, tokenizers, sacremoses, pyyaml, huggingface-hub, fsspec, transformers, datasets\n",
      "  Attempting uninstall: tqdm\n",
      "    Found existing installation: tqdm 4.41.1\n",
      "    Uninstalling tqdm-4.41.1:\n",
      "      Successfully uninstalled tqdm-4.41.1\n",
      "  Attempting uninstall: pyyaml\n",
      "    Found existing installation: PyYAML 3.13\n",
      "    Uninstalling PyYAML-3.13:\n",
      "      Successfully uninstalled PyYAML-3.13\n",
      "Successfully installed datasets-1.11.0 fsspec-2021.7.0 huggingface-hub-0.0.12 pyyaml-5.4.1 sacremoses-0.0.45 tokenizers-0.10.3 tqdm-4.62.0 transformers-4.9.2 xxhash-2.0.2\n"
     ]
    }
   ],
   "source": [
    "!pip install transformers datasets"
   ]
  },
  {
   "cell_type": "code",
   "execution_count": 6,
   "metadata": {
    "executionInfo": {
     "elapsed": 316,
     "status": "ok",
     "timestamp": 1628778411081,
     "user": {
      "displayName": "danqi wang",
      "photoUrl": "",
      "userId": "13389840924263856524"
     },
     "user_tz": -120
    },
    "id": "RZgc2qW0Y6ro"
   },
   "outputs": [],
   "source": [
    "def preprocessing(filename):\n",
    "    with open(filename, \"r\") as f:\n",
    "        Input = f.readlines() \n",
    "        Abs_lines = \"\" \n",
    "        Abs_samples = []\n",
    "        for line in Input:\n",
    "            if line.startswith(\"###\"):\n",
    "                ID = line\n",
    "                Abs_lines = \"\" \n",
    "            elif line.isspace(): \n",
    "                Abs_line_split = Abs_lines.splitlines()\n",
    "                for Abs_line_number, Abs_line in enumerate(Abs_line_split):\n",
    "                    line_data = {} \n",
    "                    part_text_split = Abs_line.split(\"\\t\") \n",
    "                    line_data[\"labels\"] = part_text_split[0]\n",
    "                    line_data[\"TEXT\"] = part_text_split[1].lower() \n",
    "                    #line_data[\"line_number\"] = Abs_line_number \n",
    "                    #line_data[\"total_numb_lines\"] = len(Abs_line_split) - 1 \n",
    "                    Abs_samples.append(line_data) \n",
    "            else:\n",
    "                Abs_lines += line\n",
    "    return Abs_samples"
   ]
  },
  {
   "cell_type": "code",
   "execution_count": 27,
   "metadata": {
    "colab": {
     "base_uri": "https://localhost:8080/",
     "height": 419
    },
    "executionInfo": {
     "elapsed": 761,
     "status": "ok",
     "timestamp": 1628780203454,
     "user": {
      "displayName": "danqi wang",
      "photoUrl": "",
      "userId": "13389840924263856524"
     },
     "user_tz": -120
    },
    "id": "yyWthf4pejAn",
    "outputId": "37650715-7157-481f-e5a5-00809a387c7d"
   },
   "outputs": [
    {
     "data": {
      "text/html": [
       "<div>\n",
       "<style scoped>\n",
       "    .dataframe tbody tr th:only-of-type {\n",
       "        vertical-align: middle;\n",
       "    }\n",
       "\n",
       "    .dataframe tbody tr th {\n",
       "        vertical-align: top;\n",
       "    }\n",
       "\n",
       "    .dataframe thead th {\n",
       "        text-align: right;\n",
       "    }\n",
       "</style>\n",
       "<table border=\"1\" class=\"dataframe\">\n",
       "  <thead>\n",
       "    <tr style=\"text-align: right;\">\n",
       "      <th></th>\n",
       "      <th>labels</th>\n",
       "      <th>TEXT</th>\n",
       "    </tr>\n",
       "  </thead>\n",
       "  <tbody>\n",
       "    <tr>\n",
       "      <th>0</th>\n",
       "      <td>1</td>\n",
       "      <td>to investigate the efficacy of 6 weeks of dail...</td>\n",
       "    </tr>\n",
       "    <tr>\n",
       "      <th>1</th>\n",
       "      <td>2</td>\n",
       "      <td>a total of 125 patients with primary knee oa w...</td>\n",
       "    </tr>\n",
       "    <tr>\n",
       "      <th>2</th>\n",
       "      <td>2</td>\n",
       "      <td>outcome measures included pain reduction and i...</td>\n",
       "    </tr>\n",
       "    <tr>\n",
       "      <th>3</th>\n",
       "      <td>2</td>\n",
       "      <td>pain was assessed using the visual analog pain...</td>\n",
       "    </tr>\n",
       "    <tr>\n",
       "      <th>4</th>\n",
       "      <td>2</td>\n",
       "      <td>secondary outcome measures included the wester...</td>\n",
       "    </tr>\n",
       "    <tr>\n",
       "      <th>...</th>\n",
       "      <td>...</td>\n",
       "      <td>...</td>\n",
       "    </tr>\n",
       "    <tr>\n",
       "      <th>180035</th>\n",
       "      <td>4</td>\n",
       "      <td>for the absolute change in percent atheroma vo...</td>\n",
       "    </tr>\n",
       "    <tr>\n",
       "      <th>180036</th>\n",
       "      <td>4</td>\n",
       "      <td>for pav , a significantly greater percentage o...</td>\n",
       "    </tr>\n",
       "    <tr>\n",
       "      <th>180037</th>\n",
       "      <td>4</td>\n",
       "      <td>both strategies had acceptable side effect pro...</td>\n",
       "    </tr>\n",
       "    <tr>\n",
       "      <th>180038</th>\n",
       "      <td>3</td>\n",
       "      <td>compared with standard statin monotherapy , th...</td>\n",
       "    </tr>\n",
       "    <tr>\n",
       "      <th>180039</th>\n",
       "      <td>3</td>\n",
       "      <td>( plaque regression with cholesterol absorptio...</td>\n",
       "    </tr>\n",
       "  </tbody>\n",
       "</table>\n",
       "<p>180040 rows × 2 columns</p>\n",
       "</div>"
      ],
      "text/plain": [
       "        labels                                               TEXT\n",
       "0            1  to investigate the efficacy of 6 weeks of dail...\n",
       "1            2  a total of 125 patients with primary knee oa w...\n",
       "2            2  outcome measures included pain reduction and i...\n",
       "3            2  pain was assessed using the visual analog pain...\n",
       "4            2  secondary outcome measures included the wester...\n",
       "...        ...                                                ...\n",
       "180035       4  for the absolute change in percent atheroma vo...\n",
       "180036       4  for pav , a significantly greater percentage o...\n",
       "180037       4  both strategies had acceptable side effect pro...\n",
       "180038       3  compared with standard statin monotherapy , th...\n",
       "180039       3  ( plaque regression with cholesterol absorptio...\n",
       "\n",
       "[180040 rows x 2 columns]"
      ]
     },
     "execution_count": 27,
     "metadata": {
      "tags": []
     },
     "output_type": "execute_result"
    }
   ],
   "source": [
    "train = preprocessing(PubMed_20k_train)\n",
    "Train_dframe = pd.DataFrame(train)\n",
    "Train_dframe['labels'].replace('BACKGROUND',0, inplace = True)\n",
    "Train_dframe['labels'].replace('OBJECTIVE',1, inplace = True)\n",
    "Train_dframe['labels'].replace('METHODS',2, inplace = True)\n",
    "Train_dframe['labels'].replace('CONCLUSIONS',3, inplace = True)\n",
    "Train_dframe['labels'].replace('RESULTS',4, inplace = True)\n",
    "Train_dframe"
   ]
  },
  {
   "cell_type": "code",
   "execution_count": 28,
   "metadata": {
    "colab": {
     "base_uri": "https://localhost:8080/",
     "height": 419
    },
    "executionInfo": {
     "elapsed": 363,
     "status": "ok",
     "timestamp": 1628780208400,
     "user": {
      "displayName": "danqi wang",
      "photoUrl": "",
      "userId": "13389840924263856524"
     },
     "user_tz": -120
    },
    "id": "Yj5Liuq9ejEG",
    "outputId": "2482c989-688f-4d2d-ba8b-51cffbc9ec4e"
   },
   "outputs": [
    {
     "data": {
      "text/html": [
       "<div>\n",
       "<style scoped>\n",
       "    .dataframe tbody tr th:only-of-type {\n",
       "        vertical-align: middle;\n",
       "    }\n",
       "\n",
       "    .dataframe tbody tr th {\n",
       "        vertical-align: top;\n",
       "    }\n",
       "\n",
       "    .dataframe thead th {\n",
       "        text-align: right;\n",
       "    }\n",
       "</style>\n",
       "<table border=\"1\" class=\"dataframe\">\n",
       "  <thead>\n",
       "    <tr style=\"text-align: right;\">\n",
       "      <th></th>\n",
       "      <th>labels</th>\n",
       "      <th>TEXT</th>\n",
       "    </tr>\n",
       "  </thead>\n",
       "  <tbody>\n",
       "    <tr>\n",
       "      <th>0</th>\n",
       "      <td>0</td>\n",
       "      <td>this study analyzed liver function abnormaliti...</td>\n",
       "    </tr>\n",
       "    <tr>\n",
       "      <th>1</th>\n",
       "      <td>4</td>\n",
       "      <td>a post hoc analysis was conducted with the use...</td>\n",
       "    </tr>\n",
       "    <tr>\n",
       "      <th>2</th>\n",
       "      <td>4</td>\n",
       "      <td>liver function tests ( lfts ) were measured at...</td>\n",
       "    </tr>\n",
       "    <tr>\n",
       "      <th>3</th>\n",
       "      <td>4</td>\n",
       "      <td>survival analyses were used to assess the asso...</td>\n",
       "    </tr>\n",
       "    <tr>\n",
       "      <th>4</th>\n",
       "      <td>4</td>\n",
       "      <td>the percentage of patients with abnormal lfts ...</td>\n",
       "    </tr>\n",
       "    <tr>\n",
       "      <th>...</th>\n",
       "      <td>...</td>\n",
       "      <td>...</td>\n",
       "    </tr>\n",
       "    <tr>\n",
       "      <th>30130</th>\n",
       "      <td>4</td>\n",
       "      <td>there was a statistically significant between-...</td>\n",
       "    </tr>\n",
       "    <tr>\n",
       "      <th>30131</th>\n",
       "      <td>4</td>\n",
       "      <td>there were no statistically significant betwee...</td>\n",
       "    </tr>\n",
       "    <tr>\n",
       "      <th>30132</th>\n",
       "      <td>4</td>\n",
       "      <td>there was no significant association between s...</td>\n",
       "    </tr>\n",
       "    <tr>\n",
       "      <th>30133</th>\n",
       "      <td>4</td>\n",
       "      <td>no adverse effects were reported .</td>\n",
       "    </tr>\n",
       "    <tr>\n",
       "      <th>30134</th>\n",
       "      <td>3</td>\n",
       "      <td>performing a 6-week do-as-tolerated program of...</td>\n",
       "    </tr>\n",
       "  </tbody>\n",
       "</table>\n",
       "<p>30135 rows × 2 columns</p>\n",
       "</div>"
      ],
      "text/plain": [
       "       labels                                               TEXT\n",
       "0           0  this study analyzed liver function abnormaliti...\n",
       "1           4  a post hoc analysis was conducted with the use...\n",
       "2           4  liver function tests ( lfts ) were measured at...\n",
       "3           4  survival analyses were used to assess the asso...\n",
       "4           4  the percentage of patients with abnormal lfts ...\n",
       "...       ...                                                ...\n",
       "30130       4  there was a statistically significant between-...\n",
       "30131       4  there were no statistically significant betwee...\n",
       "30132       4  there was no significant association between s...\n",
       "30133       4                 no adverse effects were reported .\n",
       "30134       3  performing a 6-week do-as-tolerated program of...\n",
       "\n",
       "[30135 rows x 2 columns]"
      ]
     },
     "execution_count": 28,
     "metadata": {
      "tags": []
     },
     "output_type": "execute_result"
    }
   ],
   "source": [
    "test = preprocessing(PubMed_20k_test)\n",
    "Test_dframe = pd.DataFrame(test)\n",
    "Test_dframe['labels'].replace('BACKGROUND',0, inplace = True)\n",
    "Test_dframe['labels'].replace('OBJECTIVE',1, inplace = True)\n",
    "Test_dframe['labels'].replace('METHODS',2, inplace = True)\n",
    "Test_dframe['labels'].replace('CONCLUSIONS',3, inplace = True)\n",
    "Test_dframe['labels'].replace('RESULTS',4, inplace = True)\n",
    "Test_dframe"
   ]
  },
  {
   "cell_type": "code",
   "execution_count": 29,
   "metadata": {
    "colab": {
     "base_uri": "https://localhost:8080/"
    },
    "executionInfo": {
     "elapsed": 441,
     "status": "ok",
     "timestamp": 1628780215125,
     "user": {
      "displayName": "danqi wang",
      "photoUrl": "",
      "userId": "13389840924263856524"
     },
     "user_tz": -120
    },
    "id": "RbfGNHMAe2eX",
    "outputId": "451f1613-2b0c-4574-dfbc-409099769821"
   },
   "outputs": [
    {
     "data": {
      "text/plain": [
       "Dataset({\n",
       "    features: ['labels', 'TEXT'],\n",
       "    num_rows: 180040\n",
       "})"
      ]
     },
     "execution_count": 29,
     "metadata": {
      "tags": []
     },
     "output_type": "execute_result"
    }
   ],
   "source": [
    "from datasets import Dataset\n",
    "dataset_train = Dataset.from_pandas(Train_dframe)\n",
    "dataset_train"
   ]
  },
  {
   "cell_type": "code",
   "execution_count": 30,
   "metadata": {
    "colab": {
     "base_uri": "https://localhost:8080/"
    },
    "executionInfo": {
     "elapsed": 337,
     "status": "ok",
     "timestamp": 1628780217037,
     "user": {
      "displayName": "danqi wang",
      "photoUrl": "",
      "userId": "13389840924263856524"
     },
     "user_tz": -120
    },
    "id": "hN2kO0NFVIFj",
    "outputId": "899c760d-4fde-4d48-d83b-acc15e946593"
   },
   "outputs": [
    {
     "data": {
      "text/plain": [
       "Dataset({\n",
       "    features: ['labels', 'TEXT'],\n",
       "    num_rows: 30135\n",
       "})"
      ]
     },
     "execution_count": 30,
     "metadata": {
      "tags": []
     },
     "output_type": "execute_result"
    }
   ],
   "source": [
    "dataset_test = Dataset.from_pandas(Test_dframe)\n",
    "dataset_test"
   ]
  },
  {
   "cell_type": "markdown",
   "metadata": {
    "id": "8HPSs0syG2yW"
   },
   "source": [
    "## load model"
   ]
  },
  {
   "cell_type": "code",
   "execution_count": 11,
   "metadata": {
    "colab": {
     "base_uri": "https://localhost:8080/",
     "height": 282,
     "referenced_widgets": [
      "616780f1af1a4500833e9dabcb71524b",
      "bc33a00ef4e548ad9f5e1dbce87b7d74",
      "d899fff0c9bc4ee59fbb3230b893ecfc",
      "4a7c370f7a354ec3b05d4803539552a4",
      "cc7833a2dd10469ab3719ce615011941",
      "364ac4a7a150436d84eb769dd1c35769",
      "8ee46ecd9ac84e0599be171e2157ac12",
      "f36e759cf51741158a5d2ea668ee836e",
      "5421004a0eba4cb8876e0f4c2d9e4b2b",
      "d95a604c1af1448f9577feead8ed683e",
      "4bf461f2222b46cc870a11a8e9dfc0c8",
      "5ee6fac8d2bb4072956b164ec0848d3e",
      "d3d7010388be49d48cf1e30944c3aa6e",
      "ddfc7ad340cf450ba4f3b59bfb06838b",
      "9b3683752077490c9420bffce0c67cc5",
      "b0a7d5b2c2714461812759bc5dbe54d2",
      "29d0865068b0454b8095f1b4dd001ddb",
      "f494cbe6b60748d29ba478c7e0045d6f",
      "ebc9ff5ba4fd40fca47c4e93f06592e3",
      "2a0932b8ab5a45fdb5a187b6b6588877",
      "e1dbe9bd2fa44785b0fd1d48f4634832",
      "5f140fcd6cb04648bb1814b6282455bd",
      "1074aee7af7342489b59b21f4498e812",
      "513e65602e7e4ee2a670f26210a37530",
      "3a4626d4cfb949e58fa686a6cb35199e",
      "e1c5895278494266a040d611ddfbdc3e",
      "f42337d915954d1bb6c90ab7d73f1353",
      "0b19fe94406c44a8a256f2b651557601",
      "bdfdb155301e424ba468c7004749c337",
      "44e74ec988694b3abdace8b42546e22d",
      "e36b534f40b64a1b9729aff1dc4c093f",
      "174f40f1b21644b7bc91716f2d5261d1",
      "7e05491a4bd64fd7bad365fc97bbe952",
      "5eecaed8d8724d51a291b183ec2e1943",
      "a30ed48eef3047fe9769cb8776a1e434",
      "a33c0ad511f841e3a4ac3c0baedd0fd4",
      "f2b8365124d1441abedcf47f8998f4d7",
      "0b8eed33afa54bb8aad7a934ea44fb7d",
      "e2a550fb8ec542f1a14c37d31cec21fb",
      "2ea22a387a574b8a901c755aab2050a9",
      "5c16991a38094e80bd2d3cb10ece25ce",
      "dcf526f179b3422bbcd0c7b506513d3a",
      "641b4b0a8075479c8183c61dd793efaa",
      "7e1eed0fa34f410a940bdb308eecd0ae",
      "96dcb926e6dd417db8fbd7e14cf94823",
      "df353070ff264be8870f243b484aa435",
      "3ca93601823542b4bf0cd6b3992f016a",
      "d4d6497e9d1349b189df0404564fee75",
      "14db13419a244e5ca2246f74f749bba2",
      "d29a8e7f9a504cbf8daa976d9ed502a9",
      "581a8f49d283432c8af570cc65f2cd5b",
      "dcd9213012e449569ffa67a69e937391",
      "232405c1aa064b7c8fa834182a94b68c",
      "59b6a1ab5a274ee6b7ee42bbaeada508",
      "18586baabf284829bf12ae55d81398e2"
     ]
    },
    "executionInfo": {
     "elapsed": 17255,
     "status": "ok",
     "timestamp": 1628778443857,
     "user": {
      "displayName": "danqi wang",
      "photoUrl": "",
      "userId": "13389840924263856524"
     },
     "user_tz": -120
    },
    "id": "T74ENIIuf7fc",
    "outputId": "99802457-5408-40a0-8f1c-54206ccee05c"
   },
   "outputs": [
    {
     "data": {
      "application/vnd.jupyter.widget-view+json": {
       "model_id": "616780f1af1a4500833e9dabcb71524b",
       "version_major": 2,
       "version_minor": 0
      },
      "text/plain": [
       "Downloading:   0%|          | 0.00/239k [00:00<?, ?B/s]"
      ]
     },
     "metadata": {
      "tags": []
     },
     "output_type": "display_data"
    },
    {
     "data": {
      "application/vnd.jupyter.widget-view+json": {
       "model_id": "5ee6fac8d2bb4072956b164ec0848d3e",
       "version_major": 2,
       "version_minor": 0
      },
      "text/plain": [
       "Downloading:   0%|          | 0.00/112 [00:00<?, ?B/s]"
      ]
     },
     "metadata": {
      "tags": []
     },
     "output_type": "display_data"
    },
    {
     "data": {
      "application/vnd.jupyter.widget-view+json": {
       "model_id": "1074aee7af7342489b59b21f4498e812",
       "version_major": 2,
       "version_minor": 0
      },
      "text/plain": [
       "Downloading:   0%|          | 0.00/453 [00:00<?, ?B/s]"
      ]
     },
     "metadata": {
      "tags": []
     },
     "output_type": "display_data"
    },
    {
     "data": {
      "application/vnd.jupyter.widget-view+json": {
       "model_id": "5eecaed8d8724d51a291b183ec2e1943",
       "version_major": 2,
       "version_minor": 0
      },
      "text/plain": [
       "Downloading:   0%|          | 0.00/731 [00:00<?, ?B/s]"
      ]
     },
     "metadata": {
      "tags": []
     },
     "output_type": "display_data"
    },
    {
     "data": {
      "application/vnd.jupyter.widget-view+json": {
       "model_id": "96dcb926e6dd417db8fbd7e14cf94823",
       "version_major": 2,
       "version_minor": 0
      },
      "text/plain": [
       "Downloading:   0%|          | 0.00/18.4M [00:00<?, ?B/s]"
      ]
     },
     "metadata": {
      "tags": []
     },
     "output_type": "display_data"
    },
    {
     "name": "stderr",
     "output_type": "stream",
     "text": [
      "Some weights of the model checkpoint at molly-hayward/bioelectra-small-generator were not used when initializing ElectraForSequenceClassification: ['discriminator_predictions.dense_prediction.weight', 'discriminator_predictions.dense.bias', 'discriminator_predictions.dense_prediction.bias', 'discriminator_predictions.dense.weight']\n",
      "- This IS expected if you are initializing ElectraForSequenceClassification from the checkpoint of a model trained on another task or with another architecture (e.g. initializing a BertForSequenceClassification model from a BertForPreTraining model).\n",
      "- This IS NOT expected if you are initializing ElectraForSequenceClassification from the checkpoint of a model that you expect to be exactly identical (initializing a BertForSequenceClassification model from a BertForSequenceClassification model).\n",
      "Some weights of ElectraForSequenceClassification were not initialized from the model checkpoint at molly-hayward/bioelectra-small-generator and are newly initialized: ['classifier.dense.weight', 'classifier.dense.bias', 'classifier.out_proj.bias', 'classifier.out_proj.weight']\n",
      "You should probably TRAIN this model on a down-stream task to be able to use it for predictions and inference.\n"
     ]
    }
   ],
   "source": [
    "from transformers import ElectraTokenizer, ElectraForSequenceClassification\n",
    "tokenizer = ElectraTokenizer.from_pretrained(\"molly-hayward/bioelectra-small-generator\")\n",
    "model = ElectraForSequenceClassification.from_pretrained('molly-hayward/bioelectra-small-generator', num_labels = 5)"
   ]
  },
  {
   "cell_type": "code",
   "execution_count": 32,
   "metadata": {
    "colab": {
     "base_uri": "https://localhost:8080/",
     "height": 49,
     "referenced_widgets": [
      "6f33cfb4da65457085eae065966d88cc",
      "aab1ea0b27244088924f682105b17fa1",
      "06c7c43558984ffbb051f2a1284034fe",
      "b2db9d94936d4b0cae677c0cb89dfbfa",
      "920f74190f624e57acb5ed2ae1bde5b7",
      "f39654235a9e409c80de82566e83075b",
      "2d08d8c70a334959a0d0d31c1abb03b2",
      "a5176ce7428c44d092c4c7994388ba0d",
      "542e02f080c842fc9d34901d4674c1d2",
      "793105a2cccd458f9b6fe73848165297",
      "1469569d95e24bbaadc02c0c323d8fdb"
     ]
    },
    "executionInfo": {
     "elapsed": 218085,
     "status": "ok",
     "timestamp": 1628780486811,
     "user": {
      "displayName": "danqi wang",
      "photoUrl": "",
      "userId": "13389840924263856524"
     },
     "user_tz": -120
    },
    "id": "q-2dsVi3f7jN",
    "outputId": "248f6038-3e51-4865-9a80-40214d3f1259"
   },
   "outputs": [
    {
     "data": {
      "application/vnd.jupyter.widget-view+json": {
       "model_id": "6f33cfb4da65457085eae065966d88cc",
       "version_major": 2,
       "version_minor": 0
      },
      "text/plain": [
       "  0%|          | 0/180040 [00:00<?, ?ex/s]"
      ]
     },
     "metadata": {
      "tags": []
     },
     "output_type": "display_data"
    }
   ],
   "source": [
    "dataset_train = dataset_train.map(lambda x: tokenizer(x['TEXT'].strip(), max_length=128, truncation=True, padding=\"max_length\"))"
   ]
  },
  {
   "cell_type": "code",
   "execution_count": 33,
   "metadata": {
    "executionInfo": {
     "elapsed": 511,
     "status": "ok",
     "timestamp": 1628780494581,
     "user": {
      "displayName": "danqi wang",
      "photoUrl": "",
      "userId": "13389840924263856524"
     },
     "user_tz": -120
    },
    "id": "kJiHIRVSgk3i"
   },
   "outputs": [],
   "source": [
    "# Transform to pytorch tensors and only output the required columns\n",
    "dataset_train.set_format(type=\"torch\", columns=[\"input_ids\", \"attention_mask\", \"labels\"])"
   ]
  },
  {
   "cell_type": "code",
   "execution_count": 34,
   "metadata": {
    "colab": {
     "base_uri": "https://localhost:8080/",
     "height": 49,
     "referenced_widgets": [
      "cc12f4762fc34949993a0ac2eebfc746",
      "cd2d0c5b10984079bb6799d1c1422ed9",
      "aad8b885e92d4a7ea71867bbce148d79",
      "440cda554d3043a981690cd4fb30eda0",
      "9d271e5a84b14fb7beb146a6a2809737",
      "e15c2a0a26ae4282bef6cbc03a5ed82f",
      "d2687843e9854fbfa1c74631792a3abe",
      "51fd1343d6be4f36a9bfafc0057e6d2b",
      "51a626d98f8a4f58bf0b5f6e5212bbaa",
      "4aa03f6f92124972bc0dc62c25f1c36d",
      "76f29ea5637d4f2f95c578071a67346b"
     ]
    },
    "executionInfo": {
     "elapsed": 36453,
     "status": "ok",
     "timestamp": 1628780532677,
     "user": {
      "displayName": "danqi wang",
      "photoUrl": "",
      "userId": "13389840924263856524"
     },
     "user_tz": -120
    },
    "id": "Sbh-MM7xU1gj",
    "outputId": "5234d1c5-4b38-4134-a6ce-4f46b7d8fa72"
   },
   "outputs": [
    {
     "data": {
      "application/vnd.jupyter.widget-view+json": {
       "model_id": "cc12f4762fc34949993a0ac2eebfc746",
       "version_major": 2,
       "version_minor": 0
      },
      "text/plain": [
       "  0%|          | 0/30135 [00:00<?, ?ex/s]"
      ]
     },
     "metadata": {
      "tags": []
     },
     "output_type": "display_data"
    }
   ],
   "source": [
    "dataset_test = dataset_test.map(lambda x: tokenizer(x['TEXT'].strip(), max_length=128, truncation=True, padding=\"max_length\"))"
   ]
  },
  {
   "cell_type": "code",
   "execution_count": 35,
   "metadata": {
    "executionInfo": {
     "elapsed": 411,
     "status": "ok",
     "timestamp": 1628780535952,
     "user": {
      "displayName": "danqi wang",
      "photoUrl": "",
      "userId": "13389840924263856524"
     },
     "user_tz": -120
    },
    "id": "D4fQ2fb1goxr"
   },
   "outputs": [],
   "source": [
    "dataset_test.set_format(type=\"torch\", columns=[\"input_ids\",\"attention_mask\", \"labels\"])"
   ]
  },
  {
   "cell_type": "code",
   "execution_count": 36,
   "metadata": {
    "colab": {
     "base_uri": "https://localhost:8080/"
    },
    "executionInfo": {
     "elapsed": 336,
     "status": "ok",
     "timestamp": 1628780538335,
     "user": {
      "displayName": "danqi wang",
      "photoUrl": "",
      "userId": "13389840924263856524"
     },
     "user_tz": -120
    },
    "id": "ThZXJ2ZPf7mu",
    "outputId": "0d5f717a-552b-4606-dd34-efc585cb2d27"
   },
   "outputs": [
    {
     "data": {
      "text/plain": [
       "Dataset({\n",
       "    features: ['labels', 'TEXT', 'input_ids', 'token_type_ids', 'attention_mask'],\n",
       "    num_rows: 180040\n",
       "})"
      ]
     },
     "execution_count": 36,
     "metadata": {
      "tags": []
     },
     "output_type": "execute_result"
    }
   ],
   "source": [
    "dataset_train"
   ]
  },
  {
   "cell_type": "markdown",
   "metadata": {
    "id": "sc1t51-36XSO"
   },
   "source": [
    "## Train the model"
   ]
  },
  {
   "cell_type": "code",
   "execution_count": 17,
   "metadata": {
    "executionInfo": {
     "elapsed": 441,
     "status": "ok",
     "timestamp": 1628778744475,
     "user": {
      "displayName": "danqi wang",
      "photoUrl": "",
      "userId": "13389840924263856524"
     },
     "user_tz": -120
    },
    "id": "V4BPQUEhdQtF"
   },
   "outputs": [],
   "source": [
    "from transformers import Trainer, TrainingArguments, EvalPrediction\n",
    "import numpy as np"
   ]
  },
  {
   "cell_type": "code",
   "execution_count": 37,
   "metadata": {
    "colab": {
     "base_uri": "https://localhost:8080/"
    },
    "executionInfo": {
     "elapsed": 413,
     "status": "ok",
     "timestamp": 1628780547832,
     "user": {
      "displayName": "danqi wang",
      "photoUrl": "",
      "userId": "13389840924263856524"
     },
     "user_tz": -120
    },
    "id": "rq5zCjYpHlPD",
    "outputId": "50950758-30b0-4996-a5a7-639cce583ba0"
   },
   "outputs": [
    {
     "name": "stderr",
     "output_type": "stream",
     "text": [
      "PyTorch: setting up devices\n",
      "The default value for the training argument `--report_to` will change in v5 (from all installed integrations to none). In v5, you will need to use `--report_to all` to get the same behavior as now. You should start updating your code and make this info disappear :-).\n"
     ]
    }
   ],
   "source": [
    "# checking the paper:\n",
    "argument = TrainingArguments(output_dir = '/Users/wangdanqi/Desktop/dir.txt', do_train = True, do_eval = False, learning_rate = 5e-4, num_train_epochs=10, per_device_train_batch_size=128, per_device_eval_batch_size=128, remove_unused_columns=False)"
   ]
  },
  {
   "cell_type": "code",
   "execution_count": 38,
   "metadata": {
    "executionInfo": {
     "elapsed": 413,
     "status": "ok",
     "timestamp": 1628780554078,
     "user": {
      "displayName": "danqi wang",
      "photoUrl": "",
      "userId": "13389840924263856524"
     },
     "user_tz": -120
    },
    "id": "eU_m8OowMxZ4"
   },
   "outputs": [],
   "source": [
    "def compute_accuracy(p:EvalPrediction):\n",
    "    preds = np.argmax(p.predictions, axis=1)\n",
    "    return {\"acc\": (preds == p.label_ids).mean()}"
   ]
  },
  {
   "cell_type": "code",
   "execution_count": 39,
   "metadata": {
    "executionInfo": {
     "elapsed": 323,
     "status": "ok",
     "timestamp": 1628780557493,
     "user": {
      "displayName": "danqi wang",
      "photoUrl": "",
      "userId": "13389840924263856524"
     },
     "user_tz": -120
    },
    "id": "yEfzWRcpdQvR"
   },
   "outputs": [],
   "source": [
    "trainer = Trainer(model = model, args = argument, train_dataset = dataset_train, eval_dataset = dataset_test, tokenizer = tokenizer, compute_metrics = compute_accuracy)"
   ]
  },
  {
   "cell_type": "code",
   "execution_count": 40,
   "metadata": {
    "colab": {
     "base_uri": "https://localhost:8080/",
     "height": 1000
    },
    "executionInfo": {
     "elapsed": 4144636,
     "status": "ok",
     "timestamp": 1628784704304,
     "user": {
      "displayName": "danqi wang",
      "photoUrl": "",
      "userId": "13389840924263856524"
     },
     "user_tz": -120
    },
    "id": "ncqLiw3-dQxi",
    "outputId": "88db08c1-16b9-4f8d-ec8f-7d5a33dac7c6"
   },
   "outputs": [
    {
     "name": "stderr",
     "output_type": "stream",
     "text": [
      "***** Running training *****\n",
      "  Num examples = 180040\n",
      "  Num Epochs = 10\n",
      "  Instantaneous batch size per device = 128\n",
      "  Total train batch size (w. parallel, distributed & accumulation) = 128\n",
      "  Gradient Accumulation steps = 1\n",
      "  Total optimization steps = 14070\n"
     ]
    },
    {
     "data": {
      "text/html": [
       "\n",
       "    <div>\n",
       "      \n",
       "      <progress value='14070' max='14070' style='width:300px; height:20px; vertical-align: middle;'></progress>\n",
       "      [14070/14070 1:09:03, Epoch 10/10]\n",
       "    </div>\n",
       "    <table border=\"1\" class=\"dataframe\">\n",
       "  <thead>\n",
       "    <tr style=\"text-align: left;\">\n",
       "      <th>Step</th>\n",
       "      <th>Training Loss</th>\n",
       "    </tr>\n",
       "  </thead>\n",
       "  <tbody>\n",
       "    <tr>\n",
       "      <td>500</td>\n",
       "      <td>0.439800</td>\n",
       "    </tr>\n",
       "    <tr>\n",
       "      <td>1000</td>\n",
       "      <td>0.442100</td>\n",
       "    </tr>\n",
       "    <tr>\n",
       "      <td>1500</td>\n",
       "      <td>0.437900</td>\n",
       "    </tr>\n",
       "    <tr>\n",
       "      <td>2000</td>\n",
       "      <td>0.396600</td>\n",
       "    </tr>\n",
       "    <tr>\n",
       "      <td>2500</td>\n",
       "      <td>0.392600</td>\n",
       "    </tr>\n",
       "    <tr>\n",
       "      <td>3000</td>\n",
       "      <td>0.374200</td>\n",
       "    </tr>\n",
       "    <tr>\n",
       "      <td>3500</td>\n",
       "      <td>0.350300</td>\n",
       "    </tr>\n",
       "    <tr>\n",
       "      <td>4000</td>\n",
       "      <td>0.358100</td>\n",
       "    </tr>\n",
       "    <tr>\n",
       "      <td>4500</td>\n",
       "      <td>0.338900</td>\n",
       "    </tr>\n",
       "    <tr>\n",
       "      <td>5000</td>\n",
       "      <td>0.321700</td>\n",
       "    </tr>\n",
       "    <tr>\n",
       "      <td>5500</td>\n",
       "      <td>0.325500</td>\n",
       "    </tr>\n",
       "    <tr>\n",
       "      <td>6000</td>\n",
       "      <td>0.292200</td>\n",
       "    </tr>\n",
       "    <tr>\n",
       "      <td>6500</td>\n",
       "      <td>0.294100</td>\n",
       "    </tr>\n",
       "    <tr>\n",
       "      <td>7000</td>\n",
       "      <td>0.297200</td>\n",
       "    </tr>\n",
       "    <tr>\n",
       "      <td>7500</td>\n",
       "      <td>0.264200</td>\n",
       "    </tr>\n",
       "    <tr>\n",
       "      <td>8000</td>\n",
       "      <td>0.260400</td>\n",
       "    </tr>\n",
       "    <tr>\n",
       "      <td>8500</td>\n",
       "      <td>0.266800</td>\n",
       "    </tr>\n",
       "    <tr>\n",
       "      <td>9000</td>\n",
       "      <td>0.239700</td>\n",
       "    </tr>\n",
       "    <tr>\n",
       "      <td>9500</td>\n",
       "      <td>0.240500</td>\n",
       "    </tr>\n",
       "    <tr>\n",
       "      <td>10000</td>\n",
       "      <td>0.233300</td>\n",
       "    </tr>\n",
       "    <tr>\n",
       "      <td>10500</td>\n",
       "      <td>0.217900</td>\n",
       "    </tr>\n",
       "    <tr>\n",
       "      <td>11000</td>\n",
       "      <td>0.222400</td>\n",
       "    </tr>\n",
       "    <tr>\n",
       "      <td>11500</td>\n",
       "      <td>0.212000</td>\n",
       "    </tr>\n",
       "    <tr>\n",
       "      <td>12000</td>\n",
       "      <td>0.201500</td>\n",
       "    </tr>\n",
       "    <tr>\n",
       "      <td>12500</td>\n",
       "      <td>0.201500</td>\n",
       "    </tr>\n",
       "    <tr>\n",
       "      <td>13000</td>\n",
       "      <td>0.190500</td>\n",
       "    </tr>\n",
       "    <tr>\n",
       "      <td>13500</td>\n",
       "      <td>0.188000</td>\n",
       "    </tr>\n",
       "    <tr>\n",
       "      <td>14000</td>\n",
       "      <td>0.186300</td>\n",
       "    </tr>\n",
       "  </tbody>\n",
       "</table><p>"
      ],
      "text/plain": [
       "<IPython.core.display.HTML object>"
      ]
     },
     "metadata": {
      "tags": []
     },
     "output_type": "display_data"
    },
    {
     "name": "stderr",
     "output_type": "stream",
     "text": [
      "Saving model checkpoint to /Users/wangdanqi/Desktop/dir.txt/checkpoint-500\n",
      "Configuration saved in /Users/wangdanqi/Desktop/dir.txt/checkpoint-500/config.json\n",
      "Model weights saved in /Users/wangdanqi/Desktop/dir.txt/checkpoint-500/pytorch_model.bin\n",
      "tokenizer config file saved in /Users/wangdanqi/Desktop/dir.txt/checkpoint-500/tokenizer_config.json\n",
      "Special tokens file saved in /Users/wangdanqi/Desktop/dir.txt/checkpoint-500/special_tokens_map.json\n",
      "Saving model checkpoint to /Users/wangdanqi/Desktop/dir.txt/checkpoint-1000\n",
      "Configuration saved in /Users/wangdanqi/Desktop/dir.txt/checkpoint-1000/config.json\n",
      "Model weights saved in /Users/wangdanqi/Desktop/dir.txt/checkpoint-1000/pytorch_model.bin\n",
      "tokenizer config file saved in /Users/wangdanqi/Desktop/dir.txt/checkpoint-1000/tokenizer_config.json\n",
      "Special tokens file saved in /Users/wangdanqi/Desktop/dir.txt/checkpoint-1000/special_tokens_map.json\n",
      "Saving model checkpoint to /Users/wangdanqi/Desktop/dir.txt/checkpoint-1500\n",
      "Configuration saved in /Users/wangdanqi/Desktop/dir.txt/checkpoint-1500/config.json\n",
      "Model weights saved in /Users/wangdanqi/Desktop/dir.txt/checkpoint-1500/pytorch_model.bin\n",
      "tokenizer config file saved in /Users/wangdanqi/Desktop/dir.txt/checkpoint-1500/tokenizer_config.json\n",
      "Special tokens file saved in /Users/wangdanqi/Desktop/dir.txt/checkpoint-1500/special_tokens_map.json\n",
      "Saving model checkpoint to /Users/wangdanqi/Desktop/dir.txt/checkpoint-2000\n",
      "Configuration saved in /Users/wangdanqi/Desktop/dir.txt/checkpoint-2000/config.json\n",
      "Model weights saved in /Users/wangdanqi/Desktop/dir.txt/checkpoint-2000/pytorch_model.bin\n",
      "tokenizer config file saved in /Users/wangdanqi/Desktop/dir.txt/checkpoint-2000/tokenizer_config.json\n",
      "Special tokens file saved in /Users/wangdanqi/Desktop/dir.txt/checkpoint-2000/special_tokens_map.json\n",
      "Saving model checkpoint to /Users/wangdanqi/Desktop/dir.txt/checkpoint-2500\n",
      "Configuration saved in /Users/wangdanqi/Desktop/dir.txt/checkpoint-2500/config.json\n",
      "Model weights saved in /Users/wangdanqi/Desktop/dir.txt/checkpoint-2500/pytorch_model.bin\n",
      "tokenizer config file saved in /Users/wangdanqi/Desktop/dir.txt/checkpoint-2500/tokenizer_config.json\n",
      "Special tokens file saved in /Users/wangdanqi/Desktop/dir.txt/checkpoint-2500/special_tokens_map.json\n",
      "Saving model checkpoint to /Users/wangdanqi/Desktop/dir.txt/checkpoint-3000\n",
      "Configuration saved in /Users/wangdanqi/Desktop/dir.txt/checkpoint-3000/config.json\n",
      "Model weights saved in /Users/wangdanqi/Desktop/dir.txt/checkpoint-3000/pytorch_model.bin\n",
      "tokenizer config file saved in /Users/wangdanqi/Desktop/dir.txt/checkpoint-3000/tokenizer_config.json\n",
      "Special tokens file saved in /Users/wangdanqi/Desktop/dir.txt/checkpoint-3000/special_tokens_map.json\n",
      "Saving model checkpoint to /Users/wangdanqi/Desktop/dir.txt/checkpoint-3500\n",
      "Configuration saved in /Users/wangdanqi/Desktop/dir.txt/checkpoint-3500/config.json\n",
      "Model weights saved in /Users/wangdanqi/Desktop/dir.txt/checkpoint-3500/pytorch_model.bin\n",
      "tokenizer config file saved in /Users/wangdanqi/Desktop/dir.txt/checkpoint-3500/tokenizer_config.json\n",
      "Special tokens file saved in /Users/wangdanqi/Desktop/dir.txt/checkpoint-3500/special_tokens_map.json\n",
      "Saving model checkpoint to /Users/wangdanqi/Desktop/dir.txt/checkpoint-4000\n",
      "Configuration saved in /Users/wangdanqi/Desktop/dir.txt/checkpoint-4000/config.json\n",
      "Model weights saved in /Users/wangdanqi/Desktop/dir.txt/checkpoint-4000/pytorch_model.bin\n",
      "tokenizer config file saved in /Users/wangdanqi/Desktop/dir.txt/checkpoint-4000/tokenizer_config.json\n",
      "Special tokens file saved in /Users/wangdanqi/Desktop/dir.txt/checkpoint-4000/special_tokens_map.json\n",
      "Saving model checkpoint to /Users/wangdanqi/Desktop/dir.txt/checkpoint-4500\n",
      "Configuration saved in /Users/wangdanqi/Desktop/dir.txt/checkpoint-4500/config.json\n",
      "Model weights saved in /Users/wangdanqi/Desktop/dir.txt/checkpoint-4500/pytorch_model.bin\n",
      "tokenizer config file saved in /Users/wangdanqi/Desktop/dir.txt/checkpoint-4500/tokenizer_config.json\n",
      "Special tokens file saved in /Users/wangdanqi/Desktop/dir.txt/checkpoint-4500/special_tokens_map.json\n",
      "Saving model checkpoint to /Users/wangdanqi/Desktop/dir.txt/checkpoint-5000\n",
      "Configuration saved in /Users/wangdanqi/Desktop/dir.txt/checkpoint-5000/config.json\n",
      "Model weights saved in /Users/wangdanqi/Desktop/dir.txt/checkpoint-5000/pytorch_model.bin\n",
      "tokenizer config file saved in /Users/wangdanqi/Desktop/dir.txt/checkpoint-5000/tokenizer_config.json\n",
      "Special tokens file saved in /Users/wangdanqi/Desktop/dir.txt/checkpoint-5000/special_tokens_map.json\n",
      "Saving model checkpoint to /Users/wangdanqi/Desktop/dir.txt/checkpoint-5500\n",
      "Configuration saved in /Users/wangdanqi/Desktop/dir.txt/checkpoint-5500/config.json\n",
      "Model weights saved in /Users/wangdanqi/Desktop/dir.txt/checkpoint-5500/pytorch_model.bin\n",
      "tokenizer config file saved in /Users/wangdanqi/Desktop/dir.txt/checkpoint-5500/tokenizer_config.json\n",
      "Special tokens file saved in /Users/wangdanqi/Desktop/dir.txt/checkpoint-5500/special_tokens_map.json\n",
      "Saving model checkpoint to /Users/wangdanqi/Desktop/dir.txt/checkpoint-6000\n",
      "Configuration saved in /Users/wangdanqi/Desktop/dir.txt/checkpoint-6000/config.json\n",
      "Model weights saved in /Users/wangdanqi/Desktop/dir.txt/checkpoint-6000/pytorch_model.bin\n",
      "tokenizer config file saved in /Users/wangdanqi/Desktop/dir.txt/checkpoint-6000/tokenizer_config.json\n",
      "Special tokens file saved in /Users/wangdanqi/Desktop/dir.txt/checkpoint-6000/special_tokens_map.json\n",
      "Saving model checkpoint to /Users/wangdanqi/Desktop/dir.txt/checkpoint-6500\n",
      "Configuration saved in /Users/wangdanqi/Desktop/dir.txt/checkpoint-6500/config.json\n",
      "Model weights saved in /Users/wangdanqi/Desktop/dir.txt/checkpoint-6500/pytorch_model.bin\n",
      "tokenizer config file saved in /Users/wangdanqi/Desktop/dir.txt/checkpoint-6500/tokenizer_config.json\n",
      "Special tokens file saved in /Users/wangdanqi/Desktop/dir.txt/checkpoint-6500/special_tokens_map.json\n",
      "Saving model checkpoint to /Users/wangdanqi/Desktop/dir.txt/checkpoint-7000\n",
      "Configuration saved in /Users/wangdanqi/Desktop/dir.txt/checkpoint-7000/config.json\n",
      "Model weights saved in /Users/wangdanqi/Desktop/dir.txt/checkpoint-7000/pytorch_model.bin\n",
      "tokenizer config file saved in /Users/wangdanqi/Desktop/dir.txt/checkpoint-7000/tokenizer_config.json\n",
      "Special tokens file saved in /Users/wangdanqi/Desktop/dir.txt/checkpoint-7000/special_tokens_map.json\n",
      "Saving model checkpoint to /Users/wangdanqi/Desktop/dir.txt/checkpoint-7500\n",
      "Configuration saved in /Users/wangdanqi/Desktop/dir.txt/checkpoint-7500/config.json\n",
      "Model weights saved in /Users/wangdanqi/Desktop/dir.txt/checkpoint-7500/pytorch_model.bin\n",
      "tokenizer config file saved in /Users/wangdanqi/Desktop/dir.txt/checkpoint-7500/tokenizer_config.json\n",
      "Special tokens file saved in /Users/wangdanqi/Desktop/dir.txt/checkpoint-7500/special_tokens_map.json\n",
      "Saving model checkpoint to /Users/wangdanqi/Desktop/dir.txt/checkpoint-8000\n",
      "Configuration saved in /Users/wangdanqi/Desktop/dir.txt/checkpoint-8000/config.json\n",
      "Model weights saved in /Users/wangdanqi/Desktop/dir.txt/checkpoint-8000/pytorch_model.bin\n",
      "tokenizer config file saved in /Users/wangdanqi/Desktop/dir.txt/checkpoint-8000/tokenizer_config.json\n",
      "Special tokens file saved in /Users/wangdanqi/Desktop/dir.txt/checkpoint-8000/special_tokens_map.json\n",
      "Saving model checkpoint to /Users/wangdanqi/Desktop/dir.txt/checkpoint-8500\n",
      "Configuration saved in /Users/wangdanqi/Desktop/dir.txt/checkpoint-8500/config.json\n",
      "Model weights saved in /Users/wangdanqi/Desktop/dir.txt/checkpoint-8500/pytorch_model.bin\n",
      "tokenizer config file saved in /Users/wangdanqi/Desktop/dir.txt/checkpoint-8500/tokenizer_config.json\n",
      "Special tokens file saved in /Users/wangdanqi/Desktop/dir.txt/checkpoint-8500/special_tokens_map.json\n",
      "Saving model checkpoint to /Users/wangdanqi/Desktop/dir.txt/checkpoint-9000\n",
      "Configuration saved in /Users/wangdanqi/Desktop/dir.txt/checkpoint-9000/config.json\n",
      "Model weights saved in /Users/wangdanqi/Desktop/dir.txt/checkpoint-9000/pytorch_model.bin\n",
      "tokenizer config file saved in /Users/wangdanqi/Desktop/dir.txt/checkpoint-9000/tokenizer_config.json\n",
      "Special tokens file saved in /Users/wangdanqi/Desktop/dir.txt/checkpoint-9000/special_tokens_map.json\n",
      "Saving model checkpoint to /Users/wangdanqi/Desktop/dir.txt/checkpoint-9500\n",
      "Configuration saved in /Users/wangdanqi/Desktop/dir.txt/checkpoint-9500/config.json\n",
      "Model weights saved in /Users/wangdanqi/Desktop/dir.txt/checkpoint-9500/pytorch_model.bin\n",
      "tokenizer config file saved in /Users/wangdanqi/Desktop/dir.txt/checkpoint-9500/tokenizer_config.json\n",
      "Special tokens file saved in /Users/wangdanqi/Desktop/dir.txt/checkpoint-9500/special_tokens_map.json\n",
      "Saving model checkpoint to /Users/wangdanqi/Desktop/dir.txt/checkpoint-10000\n",
      "Configuration saved in /Users/wangdanqi/Desktop/dir.txt/checkpoint-10000/config.json\n",
      "Model weights saved in /Users/wangdanqi/Desktop/dir.txt/checkpoint-10000/pytorch_model.bin\n",
      "tokenizer config file saved in /Users/wangdanqi/Desktop/dir.txt/checkpoint-10000/tokenizer_config.json\n",
      "Special tokens file saved in /Users/wangdanqi/Desktop/dir.txt/checkpoint-10000/special_tokens_map.json\n",
      "Saving model checkpoint to /Users/wangdanqi/Desktop/dir.txt/checkpoint-10500\n",
      "Configuration saved in /Users/wangdanqi/Desktop/dir.txt/checkpoint-10500/config.json\n",
      "Model weights saved in /Users/wangdanqi/Desktop/dir.txt/checkpoint-10500/pytorch_model.bin\n",
      "tokenizer config file saved in /Users/wangdanqi/Desktop/dir.txt/checkpoint-10500/tokenizer_config.json\n",
      "Special tokens file saved in /Users/wangdanqi/Desktop/dir.txt/checkpoint-10500/special_tokens_map.json\n",
      "Saving model checkpoint to /Users/wangdanqi/Desktop/dir.txt/checkpoint-11000\n",
      "Configuration saved in /Users/wangdanqi/Desktop/dir.txt/checkpoint-11000/config.json\n",
      "Model weights saved in /Users/wangdanqi/Desktop/dir.txt/checkpoint-11000/pytorch_model.bin\n",
      "tokenizer config file saved in /Users/wangdanqi/Desktop/dir.txt/checkpoint-11000/tokenizer_config.json\n",
      "Special tokens file saved in /Users/wangdanqi/Desktop/dir.txt/checkpoint-11000/special_tokens_map.json\n",
      "Saving model checkpoint to /Users/wangdanqi/Desktop/dir.txt/checkpoint-11500\n",
      "Configuration saved in /Users/wangdanqi/Desktop/dir.txt/checkpoint-11500/config.json\n",
      "Model weights saved in /Users/wangdanqi/Desktop/dir.txt/checkpoint-11500/pytorch_model.bin\n",
      "tokenizer config file saved in /Users/wangdanqi/Desktop/dir.txt/checkpoint-11500/tokenizer_config.json\n",
      "Special tokens file saved in /Users/wangdanqi/Desktop/dir.txt/checkpoint-11500/special_tokens_map.json\n",
      "Saving model checkpoint to /Users/wangdanqi/Desktop/dir.txt/checkpoint-12000\n",
      "Configuration saved in /Users/wangdanqi/Desktop/dir.txt/checkpoint-12000/config.json\n",
      "Model weights saved in /Users/wangdanqi/Desktop/dir.txt/checkpoint-12000/pytorch_model.bin\n",
      "tokenizer config file saved in /Users/wangdanqi/Desktop/dir.txt/checkpoint-12000/tokenizer_config.json\n",
      "Special tokens file saved in /Users/wangdanqi/Desktop/dir.txt/checkpoint-12000/special_tokens_map.json\n",
      "Saving model checkpoint to /Users/wangdanqi/Desktop/dir.txt/checkpoint-12500\n",
      "Configuration saved in /Users/wangdanqi/Desktop/dir.txt/checkpoint-12500/config.json\n",
      "Model weights saved in /Users/wangdanqi/Desktop/dir.txt/checkpoint-12500/pytorch_model.bin\n",
      "tokenizer config file saved in /Users/wangdanqi/Desktop/dir.txt/checkpoint-12500/tokenizer_config.json\n",
      "Special tokens file saved in /Users/wangdanqi/Desktop/dir.txt/checkpoint-12500/special_tokens_map.json\n",
      "Saving model checkpoint to /Users/wangdanqi/Desktop/dir.txt/checkpoint-13000\n",
      "Configuration saved in /Users/wangdanqi/Desktop/dir.txt/checkpoint-13000/config.json\n",
      "Model weights saved in /Users/wangdanqi/Desktop/dir.txt/checkpoint-13000/pytorch_model.bin\n",
      "tokenizer config file saved in /Users/wangdanqi/Desktop/dir.txt/checkpoint-13000/tokenizer_config.json\n",
      "Special tokens file saved in /Users/wangdanqi/Desktop/dir.txt/checkpoint-13000/special_tokens_map.json\n",
      "Saving model checkpoint to /Users/wangdanqi/Desktop/dir.txt/checkpoint-13500\n",
      "Configuration saved in /Users/wangdanqi/Desktop/dir.txt/checkpoint-13500/config.json\n",
      "Model weights saved in /Users/wangdanqi/Desktop/dir.txt/checkpoint-13500/pytorch_model.bin\n",
      "tokenizer config file saved in /Users/wangdanqi/Desktop/dir.txt/checkpoint-13500/tokenizer_config.json\n",
      "Special tokens file saved in /Users/wangdanqi/Desktop/dir.txt/checkpoint-13500/special_tokens_map.json\n",
      "Saving model checkpoint to /Users/wangdanqi/Desktop/dir.txt/checkpoint-14000\n",
      "Configuration saved in /Users/wangdanqi/Desktop/dir.txt/checkpoint-14000/config.json\n",
      "Model weights saved in /Users/wangdanqi/Desktop/dir.txt/checkpoint-14000/pytorch_model.bin\n",
      "tokenizer config file saved in /Users/wangdanqi/Desktop/dir.txt/checkpoint-14000/tokenizer_config.json\n",
      "Special tokens file saved in /Users/wangdanqi/Desktop/dir.txt/checkpoint-14000/special_tokens_map.json\n",
      "\n",
      "\n",
      "Training completed. Do not forget to share your model on huggingface.co/models =)\n",
      "\n",
      "\n"
     ]
    },
    {
     "data": {
      "text/plain": [
       "TrainOutput(global_step=14070, training_loss=0.29183637284181946, metrics={'train_runtime': 4144.3715, 'train_samples_per_second': 434.421, 'train_steps_per_second': 3.395, 'total_flos': 847329885696000.0, 'train_loss': 0.29183637284181946, 'epoch': 10.0})"
      ]
     },
     "execution_count": 40,
     "metadata": {
      "tags": []
     },
     "output_type": "execute_result"
    }
   ],
   "source": [
    "trainer.train()"
   ]
  },
  {
   "cell_type": "markdown",
   "metadata": {
    "id": "_4Tg5N3aTE7t"
   },
   "source": [
    "## Evaluate the model"
   ]
  },
  {
   "cell_type": "code",
   "execution_count": 41,
   "metadata": {
    "colab": {
     "base_uri": "https://localhost:8080/",
     "height": 190
    },
    "executionInfo": {
     "elapsed": 29734,
     "status": "ok",
     "timestamp": 1628784769595,
     "user": {
      "displayName": "danqi wang",
      "photoUrl": "",
      "userId": "13389840924263856524"
     },
     "user_tz": -120
    },
    "id": "hf2-FyV-dQzq",
    "outputId": "6bd5b2e1-b1db-42aa-dc93-32f45da92d59"
   },
   "outputs": [
    {
     "name": "stderr",
     "output_type": "stream",
     "text": [
      "***** Running Evaluation *****\n",
      "  Num examples = 30135\n",
      "  Batch size = 128\n"
     ]
    },
    {
     "data": {
      "text/html": [
       "\n",
       "    <div>\n",
       "      \n",
       "      <progress value='236' max='236' style='width:300px; height:20px; vertical-align: middle;'></progress>\n",
       "      [236/236 00:29]\n",
       "    </div>\n",
       "    "
      ],
      "text/plain": [
       "<IPython.core.display.HTML object>"
      ]
     },
     "metadata": {
      "tags": []
     },
     "output_type": "display_data"
    },
    {
     "data": {
      "text/plain": [
       "{'epoch': 10.0,\n",
       " 'eval_acc': 0.839522150323544,\n",
       " 'eval_loss': 0.5631722211837769,\n",
       " 'eval_runtime': 29.8367,\n",
       " 'eval_samples_per_second': 1009.996,\n",
       " 'eval_steps_per_second': 7.91}"
      ]
     },
     "execution_count": 41,
     "metadata": {
      "tags": []
     },
     "output_type": "execute_result"
    }
   ],
   "source": [
    "# run evaluation\n",
    "trainer.evaluate()"
   ]
  },
  {
   "cell_type": "code",
   "execution_count": 50,
   "metadata": {
    "colab": {
     "base_uri": "https://localhost:8080/",
     "height": 88
    },
    "executionInfo": {
     "elapsed": 29909,
     "status": "ok",
     "timestamp": 1628786770737,
     "user": {
      "displayName": "danqi wang",
      "photoUrl": "",
      "userId": "13389840924263856524"
     },
     "user_tz": -120
    },
    "id": "0cyWj0EDLPTV",
    "outputId": "901888d8-2f0a-44ab-eff8-001967a08516"
   },
   "outputs": [
    {
     "name": "stderr",
     "output_type": "stream",
     "text": [
      "***** Running Prediction *****\n",
      "  Num examples = 30135\n",
      "  Batch size = 128\n"
     ]
    },
    {
     "data": {
      "text/html": [
       "\n",
       "    <div>\n",
       "      \n",
       "      <progress value='708' max='236' style='width:300px; height:20px; vertical-align: middle;'></progress>\n",
       "      [236/236 33:50]\n",
       "    </div>\n",
       "    "
      ],
      "text/plain": [
       "<IPython.core.display.HTML object>"
      ]
     },
     "metadata": {
      "tags": []
     },
     "output_type": "display_data"
    }
   ],
   "source": [
    "# predict on test set\n",
    "prediction = trainer.predict(dataset_test)"
   ]
  },
  {
   "cell_type": "markdown",
   "metadata": {
    "id": "J5VxndnjTF2U"
   },
   "source": [
    "### Calculate the average and class-wise F1 scores"
   ]
  },
  {
   "cell_type": "code",
   "execution_count": 65,
   "metadata": {
    "colab": {
     "base_uri": "https://localhost:8080/"
    },
    "executionInfo": {
     "elapsed": 838,
     "status": "ok",
     "timestamp": 1628787420264,
     "user": {
      "displayName": "danqi wang",
      "photoUrl": "",
      "userId": "13389840924263856524"
     },
     "user_tz": -120
    },
    "id": "ryb1cCLJPVPJ",
    "outputId": "9872af28-ed15-4e1a-a54f-263e87e859cf"
   },
   "outputs": [
    {
     "name": "stderr",
     "output_type": "stream",
     "text": [
      "/usr/local/lib/python3.7/dist-packages/ipykernel_launcher.py:3: VisibleDeprecationWarning: Creating an ndarray from ragged nested sequences (which is a list-or-tuple of lists-or-tuples-or ndarrays with different lengths or shapes) is deprecated. If you meant to do this, you must specify 'dtype=object' when creating the ndarray\n",
      "  This is separate from the ipykernel package so we can avoid doing imports until\n"
     ]
    }
   ],
   "source": [
    "from sklearn.metrics import classification_report\n",
    "\n",
    "y_true = dataset_test['labels']\n",
    "# get y_pred data:\n",
    "pre = np.array(prediction)\n",
    "data = pre[0]\n",
    "n, m = np.shape(data)\n",
    "y_pred = []\n",
    "\n",
    "for i in range(n):\n",
    "    for j in range(m):\n",
    "        if data[i,j] == max(data[i,:]):\n",
    "        y_pred.append(j)"
   ]
  },
  {
   "cell_type": "code",
   "execution_count": 66,
   "metadata": {
    "colab": {
     "base_uri": "https://localhost:8080/"
    },
    "executionInfo": {
     "elapsed": 456,
     "status": "ok",
     "timestamp": 1628787428574,
     "user": {
      "displayName": "danqi wang",
      "photoUrl": "",
      "userId": "13389840924263856524"
     },
     "user_tz": -120
    },
    "id": "kou9a-E8Q-F_",
    "outputId": "a34727d8-d249-4771-8e79-ea09de5568f8"
   },
   "outputs": [
    {
     "name": "stdout",
     "output_type": "stream",
     "text": [
      "              precision    recall  f1-score   support\n",
      "\n",
      "  BACKGROUND       0.65      0.69      0.67      3621\n",
      "   OBJECTIVE       0.65      0.59      0.62      2333\n",
      "     METHODS       0.91      0.93      0.92      9897\n",
      " CONCLUSIONS       0.78      0.79      0.79      4571\n",
      "     RESULTS       0.91      0.89      0.90      9713\n",
      "\n",
      "    accuracy                           0.84     30135\n",
      "   macro avg       0.78      0.78      0.78     30135\n",
      "weighted avg       0.84      0.84      0.84     30135\n",
      "\n"
     ]
    }
   ],
   "source": [
    "target_names = ['BACKGROUND', 'OBJECTIVE', 'METHODS', 'CONCLUSIONS', 'RESULTS']\n",
    "print(classification_report(y_true, y_pred, target_names=target_names))\n"
   ]
  },
  {
   "cell_type": "markdown",
   "metadata": {
    "id": "zNtaCsOCJczb"
   },
   "source": [
    "## Make a new prediction using our model"
   ]
  },
  {
   "cell_type": "code",
   "execution_count": 43,
   "metadata": {
    "colab": {
     "base_uri": "https://localhost:8080/"
    },
    "executionInfo": {
     "elapsed": 354,
     "status": "ok",
     "timestamp": 1628784906925,
     "user": {
      "displayName": "danqi wang",
      "photoUrl": "",
      "userId": "13389840924263856524"
     },
     "user_tz": -120
    },
    "id": "kr7p2AludQ1-",
    "outputId": "2c5a0fd0-c1a8-460b-e143-f598ef78d78c"
   },
   "outputs": [
    {
     "data": {
      "text/plain": [
       "[{'label': 'LABEL_3', 'score': 0.7144426107406616}]"
      ]
     },
     "execution_count": 43,
     "metadata": {
      "tags": []
     },
     "output_type": "execute_result"
    }
   ],
   "source": [
    "from transformers import TextClassificationPipeline\n",
    "\n",
    "classifier = TextClassificationPipeline(model=model, tokenizer=tokenizer, device=argument.device.index)\n",
    "\n",
    "classifier(\"This result looks good!\")"
   ]
  },
  {
   "cell_type": "markdown",
   "metadata": {
    "id": "liZwWpS0Ta05"
   },
   "source": [
    "# Visualization of scores"
   ]
  },
  {
   "cell_type": "code",
   "execution_count": 68,
   "metadata": {
    "executionInfo": {
     "elapsed": 413,
     "status": "ok",
     "timestamp": 1628787723776,
     "user": {
      "displayName": "danqi wang",
      "photoUrl": "",
      "userId": "13389840924263856524"
     },
     "user_tz": -120
    },
    "id": "sPidETjHTfGc"
   },
   "outputs": [],
   "source": [
    "from sklearn.metrics import precision_recall_fscore_support as score\n",
    "precision,recall,fscore,support=score(y_true, y_pred)"
   ]
  },
  {
   "cell_type": "code",
   "execution_count": 73,
   "metadata": {
    "colab": {
     "base_uri": "https://localhost:8080/",
     "height": 455
    },
    "executionInfo": {
     "elapsed": 894,
     "status": "ok",
     "timestamp": 1628788645852,
     "user": {
      "displayName": "danqi wang",
      "photoUrl": "",
      "userId": "13389840924263856524"
     },
     "user_tz": -120
    },
    "id": "mPTmvHI4TfJI",
    "outputId": "3ccb5100-2681-4c80-adb2-5e5996e19b7c"
   },
   "outputs": [
    {
     "data": {
      "image/png": "[encoded data removed]",
      "text/plain": [
       "<Figure size 2160x1080 with 3 Axes>"
      ]
     },
     "metadata": {
      "needs_background": "light",
      "tags": []
     },
     "output_type": "display_data"
    }
   ],
   "source": [
    "import matplotlib.pyplot as plt\n",
    "x = np.arange(len(target_names)) \n",
    "width = 0.5 \n",
    "\n",
    "plt.figure(figsize=(30,15))\n",
    "\n",
    "plt.subplot(231)\n",
    "plt.title('Precision')\n",
    "plt.bar(x-width , precision, width, tick_label = target_names,fc = 'y')\n",
    "\n",
    "plt.subplot(232)\n",
    "plt.title('Recall')\n",
    "plt.bar(x-width, recall, width, tick_label = target_names,fc = 'r')\n",
    "\n",
    "plt.subplot(233)\n",
    "plt.title('F1-score')\n",
    "plt.bar(x - width, fscore, width, tick_label = target_names,fc = 'g')\n",
    "plt.show()"
   ]
  },
  {
   "cell_type": "markdown",
   "metadata": {
    "id": "Cfk10k1Aar3p"
   },
   "source": [
    "## Comparison of different algorithms"
   ]
  },
  {
   "cell_type": "code",
   "execution_count": 99,
   "metadata": {
    "colab": {
     "base_uri": "https://localhost:8080/",
     "height": 504
    },
    "executionInfo": {
     "elapsed": 374,
     "status": "ok",
     "timestamp": 1628790488817,
     "user": {
      "displayName": "danqi wang",
      "photoUrl": "",
      "userId": "13389840924263856524"
     },
     "user_tz": -120
    },
    "id": "6iY1KdV2arGS",
    "outputId": "ee6b24bb-0b90-4dd4-9da2-55020bc4e297"
   },
   "outputs": [
    {
     "data": {
      "image/png": "[encoded data removed]",
      "text/plain": [
       "<Figure size 576x576 with 1 Axes>"
      ]
     },
     "metadata": {
      "needs_background": "light",
      "tags": []
     },
     "output_type": "display_data"
    }
   ],
   "source": [
    "list_names = ['Logistic Regression', 'Random Forest', 'Naive Bayers', 'Electra']\n",
    "x = [1, 2, 3, 4]\n",
    "y = [0.73, 0.72, 0.70, 0.84]\n",
    "\n",
    "plt.figure(figsize=(8,8))\n",
    "width = 0.4\n",
    "plt.title('Comparison of different algorithms', fontsize = 20)\n",
    "\n",
    "plt.ylabel('Accuracy',fontsize = 20)\n",
    "\n",
    "plt.bar(x, y, width,fc='r', tick_label = list_names)\n",
    "plt.show()\n",
    "\n"
   ]
  },
  {
   "cell_type": "markdown",
   "metadata": {
    "id": "3mAqTHzMiZv_"
   },
   "source": [
    "## Conclusion"
   ]
  },
  {
   "cell_type": "markdown",
   "metadata": {
    "id": "QypFr_tSif0h"
   },
   "source": [
    "1. Our ELECTRA model has accuracy of 0.84.\n",
    "2. Among all classes, Methods and Results can be classfied well (highest precision, F1 score and Recall).\n",
    "3. Compared with other algorithms, ELECTRA performs best."
   ]
  }
 ],
 "metadata": {
  "accelerator": "GPU",
  "colab": {
   "collapsed_sections": [],
   "name": "Day 3 - Danqi Group 1.ipynb",
   "provenance": []
  },
  "kernelspec": {
   "display_name": "Python 3",
   "language": "python",
   "name": "python3"
  },
  "language_info": {
   "codemirror_mode": {
    "name": "ipython",
    "version": 3
   },
   "file_extension": ".py",
   "mimetype": "text/x-python",
   "name": "python",
   "nbconvert_exporter": "python",
   "pygments_lexer": "ipython3",
   "version": "3.8.8"
  },
  "widgets": {
   "application/vnd.jupyter.widget-state+json": {
    "06c7c43558984ffbb051f2a1284034fe": {
     "model_module": "@jupyter-widgets/controls",
     "model_module_version": "1.5.0",
     "model_name": "HTMLModel",
     "state": {
      "_dom_classes": [],
      "_model_module": "@jupyter-widgets/controls",
      "_model_module_version": "1.5.0",
      "_model_name": "HTMLModel",
      "_view_count": null,
      "_view_module": "@jupyter-widgets/controls",
      "_view_module_version": "1.5.0",
      "_view_name": "HTMLView",
      "description": "",
      "description_tooltip": null,
      "layout": "IPY_MODEL_2d08d8c70a334959a0d0d31c1abb03b2",
      "placeholder": "​",
      "style": "IPY_MODEL_f39654235a9e409c80de82566e83075b",
      "value": "100%"
     }
    },
    "0b19fe94406c44a8a256f2b651557601": {
     "model_module": "@jupyter-widgets/controls",
     "model_module_version": "1.5.0",
     "model_name": "DescriptionStyleModel",
     "state": {
      "_model_module": "@jupyter-widgets/controls",
      "_model_module_version": "1.5.0",
      "_model_name": "DescriptionStyleModel",
      "_view_count": null,
      "_view_module": "@jupyter-widgets/base",
      "_view_module_version": "1.2.0",
      "_view_name": "StyleView",
      "description_width": ""
     }
    },
    "0b8eed33afa54bb8aad7a934ea44fb7d": {
     "model_module": "@jupyter-widgets/controls",
     "model_module_version": "1.5.0",
     "model_name": "HTMLModel",
     "state": {
      "_dom_classes": [],
      "_model_module": "@jupyter-widgets/controls",
      "_model_module_version": "1.5.0",
      "_model_name": "HTMLModel",
      "_view_count": null,
      "_view_module": "@jupyter-widgets/controls",
      "_view_module_version": "1.5.0",
      "_view_name": "HTMLView",
      "description": "",
      "description_tooltip": null,
      "layout": "IPY_MODEL_7e1eed0fa34f410a940bdb308eecd0ae",
      "placeholder": "​",
      "style": "IPY_MODEL_641b4b0a8075479c8183c61dd793efaa",
      "value": " 731/731 [00:00&lt;00:00, 18.3kB/s]"
     }
    },
    "1074aee7af7342489b59b21f4498e812": {
     "model_module": "@jupyter-widgets/controls",
     "model_module_version": "1.5.0",
     "model_name": "HBoxModel",
     "state": {
      "_dom_classes": [],
      "_model_module": "@jupyter-widgets/controls",
      "_model_module_version": "1.5.0",
      "_model_name": "HBoxModel",
      "_view_count": null,
      "_view_module": "@jupyter-widgets/controls",
      "_view_module_version": "1.5.0",
      "_view_name": "HBoxView",
      "box_style": "",
      "children": [
       "IPY_MODEL_3a4626d4cfb949e58fa686a6cb35199e",
       "IPY_MODEL_e1c5895278494266a040d611ddfbdc3e",
       "IPY_MODEL_f42337d915954d1bb6c90ab7d73f1353"
      ],
      "layout": "IPY_MODEL_513e65602e7e4ee2a670f26210a37530"
     }
    },
    "1469569d95e24bbaadc02c0c323d8fdb": {
     "model_module": "@jupyter-widgets/base",
     "model_module_version": "1.2.0",
     "model_name": "LayoutModel",
     "state": {
      "_model_module": "@jupyter-widgets/base",
      "_model_module_version": "1.2.0",
      "_model_name": "LayoutModel",
      "_view_count": null,
      "_view_module": "@jupyter-widgets/base",
      "_view_module_version": "1.2.0",
      "_view_name": "LayoutView",
      "align_content": null,
      "align_items": null,
      "align_self": null,
      "border": null,
      "bottom": null,
      "display": null,
      "flex": null,
      "flex_flow": null,
      "grid_area": null,
      "grid_auto_columns": null,
      "grid_auto_flow": null,
      "grid_auto_rows": null,
      "grid_column": null,
      "grid_gap": null,
      "grid_row": null,
      "grid_template_areas": null,
      "grid_template_columns": null,
      "grid_template_rows": null,
      "height": null,
      "justify_content": null,
      "justify_items": null,
      "left": null,
      "margin": null,
      "max_height": null,
      "max_width": null,
      "min_height": null,
      "min_width": null,
      "object_fit": null,
      "object_position": null,
      "order": null,
      "overflow": null,
      "overflow_x": null,
      "overflow_y": null,
      "padding": null,
      "right": null,
      "top": null,
      "visibility": null,
      "width": null
     }
    },
    "14db13419a244e5ca2246f74f749bba2": {
     "model_module": "@jupyter-widgets/controls",
     "model_module_version": "1.5.0",
     "model_name": "HTMLModel",
     "state": {
      "_dom_classes": [],
      "_model_module": "@jupyter-widgets/controls",
      "_model_module_version": "1.5.0",
      "_model_name": "HTMLModel",
      "_view_count": null,
      "_view_module": "@jupyter-widgets/controls",
      "_view_module_version": "1.5.0",
      "_view_name": "HTMLView",
      "description": "",
      "description_tooltip": null,
      "layout": "IPY_MODEL_18586baabf284829bf12ae55d81398e2",
      "placeholder": "​",
      "style": "IPY_MODEL_59b6a1ab5a274ee6b7ee42bbaeada508",
      "value": " 18.4M/18.4M [00:00&lt;00:00, 30.2MB/s]"
     }
    },
    "174f40f1b21644b7bc91716f2d5261d1": {
     "model_module": "@jupyter-widgets/controls",
     "model_module_version": "1.5.0",
     "model_name": "DescriptionStyleModel",
     "state": {
      "_model_module": "@jupyter-widgets/controls",
      "_model_module_version": "1.5.0",
      "_model_name": "DescriptionStyleModel",
      "_view_count": null,
      "_view_module": "@jupyter-widgets/base",
      "_view_module_version": "1.2.0",
      "_view_name": "StyleView",
      "description_width": ""
     }
    },
    "18586baabf284829bf12ae55d81398e2": {
     "model_module": "@jupyter-widgets/base",
     "model_module_version": "1.2.0",
     "model_name": "LayoutModel",
     "state": {
      "_model_module": "@jupyter-widgets/base",
      "_model_module_version": "1.2.0",
      "_model_name": "LayoutModel",
      "_view_count": null,
      "_view_module": "@jupyter-widgets/base",
      "_view_module_version": "1.2.0",
      "_view_name": "LayoutView",
      "align_content": null,
      "align_items": null,
      "align_self": null,
      "border": null,
      "bottom": null,
      "display": null,
      "flex": null,
      "flex_flow": null,
      "grid_area": null,
      "grid_auto_columns": null,
      "grid_auto_flow": null,
      "grid_auto_rows": null,
      "grid_column": null,
      "grid_gap": null,
      "grid_row": null,
      "grid_template_areas": null,
      "grid_template_columns": null,
      "grid_template_rows": null,
      "height": null,
      "justify_content": null,
      "justify_items": null,
      "left": null,
      "margin": null,
      "max_height": null,
      "max_width": null,
      "min_height": null,
      "min_width": null,
      "object_fit": null,
      "object_position": null,
      "order": null,
      "overflow": null,
      "overflow_x": null,
      "overflow_y": null,
      "padding": null,
      "right": null,
      "top": null,
      "visibility": null,
      "width": null
     }
    },
    "232405c1aa064b7c8fa834182a94b68c": {
     "model_module": "@jupyter-widgets/base",
     "model_module_version": "1.2.0",
     "model_name": "LayoutModel",
     "state": {
      "_model_module": "@jupyter-widgets/base",
      "_model_module_version": "1.2.0",
      "_model_name": "LayoutModel",
      "_view_count": null,
      "_view_module": "@jupyter-widgets/base",
      "_view_module_version": "1.2.0",
      "_view_name": "LayoutView",
      "align_content": null,
      "align_items": null,
      "align_self": null,
      "border": null,
      "bottom": null,
      "display": null,
      "flex": null,
      "flex_flow": null,
      "grid_area": null,
      "grid_auto_columns": null,
      "grid_auto_flow": null,
      "grid_auto_rows": null,
      "grid_column": null,
      "grid_gap": null,
      "grid_row": null,
      "grid_template_areas": null,
      "grid_template_columns": null,
      "grid_template_rows": null,
      "height": null,
      "justify_content": null,
      "justify_items": null,
      "left": null,
      "margin": null,
      "max_height": null,
      "max_width": null,
      "min_height": null,
      "min_width": null,
      "object_fit": null,
      "object_position": null,
      "order": null,
      "overflow": null,
      "overflow_x": null,
      "overflow_y": null,
      "padding": null,
      "right": null,
      "top": null,
      "visibility": null,
      "width": null
     }
    },
    "29d0865068b0454b8095f1b4dd001ddb": {
     "model_module": "@jupyter-widgets/controls",
     "model_module_version": "1.5.0",
     "model_name": "DescriptionStyleModel",
     "state": {
      "_model_module": "@jupyter-widgets/controls",
      "_model_module_version": "1.5.0",
      "_model_name": "DescriptionStyleModel",
      "_view_count": null,
      "_view_module": "@jupyter-widgets/base",
      "_view_module_version": "1.2.0",
      "_view_name": "StyleView",
      "description_width": ""
     }
    },
    "2a0932b8ab5a45fdb5a187b6b6588877": {
     "model_module": "@jupyter-widgets/base",
     "model_module_version": "1.2.0",
     "model_name": "LayoutModel",
     "state": {
      "_model_module": "@jupyter-widgets/base",
      "_model_module_version": "1.2.0",
      "_model_name": "LayoutModel",
      "_view_count": null,
      "_view_module": "@jupyter-widgets/base",
      "_view_module_version": "1.2.0",
      "_view_name": "LayoutView",
      "align_content": null,
      "align_items": null,
      "align_self": null,
      "border": null,
      "bottom": null,
      "display": null,
      "flex": null,
      "flex_flow": null,
      "grid_area": null,
      "grid_auto_columns": null,
      "grid_auto_flow": null,
      "grid_auto_rows": null,
      "grid_column": null,
      "grid_gap": null,
      "grid_row": null,
      "grid_template_areas": null,
      "grid_template_columns": null,
      "grid_template_rows": null,
      "height": null,
      "justify_content": null,
      "justify_items": null,
      "left": null,
      "margin": null,
      "max_height": null,
      "max_width": null,
      "min_height": null,
      "min_width": null,
      "object_fit": null,
      "object_position": null,
      "order": null,
      "overflow": null,
      "overflow_x": null,
      "overflow_y": null,
      "padding": null,
      "right": null,
      "top": null,
      "visibility": null,
      "width": null
     }
    },
    "2d08d8c70a334959a0d0d31c1abb03b2": {
     "model_module": "@jupyter-widgets/base",
     "model_module_version": "1.2.0",
     "model_name": "LayoutModel",
     "state": {
      "_model_module": "@jupyter-widgets/base",
      "_model_module_version": "1.2.0",
      "_model_name": "LayoutModel",
      "_view_count": null,
      "_view_module": "@jupyter-widgets/base",
      "_view_module_version": "1.2.0",
      "_view_name": "LayoutView",
      "align_content": null,
      "align_items": null,
      "align_self": null,
      "border": null,
      "bottom": null,
      "display": null,
      "flex": null,
      "flex_flow": null,
      "grid_area": null,
      "grid_auto_columns": null,
      "grid_auto_flow": null,
      "grid_auto_rows": null,
      "grid_column": null,
      "grid_gap": null,
      "grid_row": null,
      "grid_template_areas": null,
      "grid_template_columns": null,
      "grid_template_rows": null,
      "height": null,
      "justify_content": null,
      "justify_items": null,
      "left": null,
      "margin": null,
      "max_height": null,
      "max_width": null,
      "min_height": null,
      "min_width": null,
      "object_fit": null,
      "object_position": null,
      "order": null,
      "overflow": null,
      "overflow_x": null,
      "overflow_y": null,
      "padding": null,
      "right": null,
      "top": null,
      "visibility": null,
      "width": null
     }
    },
    "2ea22a387a574b8a901c755aab2050a9": {
     "model_module": "@jupyter-widgets/base",
     "model_module_version": "1.2.0",
     "model_name": "LayoutModel",
     "state": {
      "_model_module": "@jupyter-widgets/base",
      "_model_module_version": "1.2.0",
      "_model_name": "LayoutModel",
      "_view_count": null,
      "_view_module": "@jupyter-widgets/base",
      "_view_module_version": "1.2.0",
      "_view_name": "LayoutView",
      "align_content": null,
      "align_items": null,
      "align_self": null,
      "border": null,
      "bottom": null,
      "display": null,
      "flex": null,
      "flex_flow": null,
      "grid_area": null,
      "grid_auto_columns": null,
      "grid_auto_flow": null,
      "grid_auto_rows": null,
      "grid_column": null,
      "grid_gap": null,
      "grid_row": null,
      "grid_template_areas": null,
      "grid_template_columns": null,
      "grid_template_rows": null,
      "height": null,
      "justify_content": null,
      "justify_items": null,
      "left": null,
      "margin": null,
      "max_height": null,
      "max_width": null,
      "min_height": null,
      "min_width": null,
      "object_fit": null,
      "object_position": null,
      "order": null,
      "overflow": null,
      "overflow_x": null,
      "overflow_y": null,
      "padding": null,
      "right": null,
      "top": null,
      "visibility": null,
      "width": null
     }
    },
    "364ac4a7a150436d84eb769dd1c35769": {
     "model_module": "@jupyter-widgets/controls",
     "model_module_version": "1.5.0",
     "model_name": "DescriptionStyleModel",
     "state": {
      "_model_module": "@jupyter-widgets/controls",
      "_model_module_version": "1.5.0",
      "_model_name": "DescriptionStyleModel",
      "_view_count": null,
      "_view_module": "@jupyter-widgets/base",
      "_view_module_version": "1.2.0",
      "_view_name": "StyleView",
      "description_width": ""
     }
    },
    "3a4626d4cfb949e58fa686a6cb35199e": {
     "model_module": "@jupyter-widgets/controls",
     "model_module_version": "1.5.0",
     "model_name": "HTMLModel",
     "state": {
      "_dom_classes": [],
      "_model_module": "@jupyter-widgets/controls",
      "_model_module_version": "1.5.0",
      "_model_name": "HTMLModel",
      "_view_count": null,
      "_view_module": "@jupyter-widgets/controls",
      "_view_module_version": "1.5.0",
      "_view_name": "HTMLView",
      "description": "",
      "description_tooltip": null,
      "layout": "IPY_MODEL_bdfdb155301e424ba468c7004749c337",
      "placeholder": "​",
      "style": "IPY_MODEL_0b19fe94406c44a8a256f2b651557601",
      "value": "Downloading: 100%"
     }
    },
    "3ca93601823542b4bf0cd6b3992f016a": {
     "model_module": "@jupyter-widgets/controls",
     "model_module_version": "1.5.0",
     "model_name": "HTMLModel",
     "state": {
      "_dom_classes": [],
      "_model_module": "@jupyter-widgets/controls",
      "_model_module_version": "1.5.0",
      "_model_name": "HTMLModel",
      "_view_count": null,
      "_view_module": "@jupyter-widgets/controls",
      "_view_module_version": "1.5.0",
      "_view_name": "HTMLView",
      "description": "",
      "description_tooltip": null,
      "layout": "IPY_MODEL_581a8f49d283432c8af570cc65f2cd5b",
      "placeholder": "​",
      "style": "IPY_MODEL_d29a8e7f9a504cbf8daa976d9ed502a9",
      "value": "Downloading: 100%"
     }
    },
    "440cda554d3043a981690cd4fb30eda0": {
     "model_module": "@jupyter-widgets/controls",
     "model_module_version": "1.5.0",
     "model_name": "FloatProgressModel",
     "state": {
      "_dom_classes": [],
      "_model_module": "@jupyter-widgets/controls",
      "_model_module_version": "1.5.0",
      "_model_name": "FloatProgressModel",
      "_view_count": null,
      "_view_module": "@jupyter-widgets/controls",
      "_view_module_version": "1.5.0",
      "_view_name": "ProgressView",
      "bar_style": "success",
      "description": "",
      "description_tooltip": null,
      "layout": "IPY_MODEL_51a626d98f8a4f58bf0b5f6e5212bbaa",
      "max": 30135,
      "min": 0,
      "orientation": "horizontal",
      "style": "IPY_MODEL_51fd1343d6be4f36a9bfafc0057e6d2b",
      "value": 30135
     }
    },
    "44e74ec988694b3abdace8b42546e22d": {
     "model_module": "@jupyter-widgets/controls",
     "model_module_version": "1.5.0",
     "model_name": "ProgressStyleModel",
     "state": {
      "_model_module": "@jupyter-widgets/controls",
      "_model_module_version": "1.5.0",
      "_model_name": "ProgressStyleModel",
      "_view_count": null,
      "_view_module": "@jupyter-widgets/base",
      "_view_module_version": "1.2.0",
      "_view_name": "StyleView",
      "bar_color": null,
      "description_width": ""
     }
    },
    "4a7c370f7a354ec3b05d4803539552a4": {
     "model_module": "@jupyter-widgets/controls",
     "model_module_version": "1.5.0",
     "model_name": "FloatProgressModel",
     "state": {
      "_dom_classes": [],
      "_model_module": "@jupyter-widgets/controls",
      "_model_module_version": "1.5.0",
      "_model_name": "FloatProgressModel",
      "_view_count": null,
      "_view_module": "@jupyter-widgets/controls",
      "_view_module_version": "1.5.0",
      "_view_name": "ProgressView",
      "bar_style": "success",
      "description": "",
      "description_tooltip": null,
      "layout": "IPY_MODEL_5421004a0eba4cb8876e0f4c2d9e4b2b",
      "max": 238940,
      "min": 0,
      "orientation": "horizontal",
      "style": "IPY_MODEL_f36e759cf51741158a5d2ea668ee836e",
      "value": 238940
     }
    },
    "4aa03f6f92124972bc0dc62c25f1c36d": {
     "model_module": "@jupyter-widgets/controls",
     "model_module_version": "1.5.0",
     "model_name": "DescriptionStyleModel",
     "state": {
      "_model_module": "@jupyter-widgets/controls",
      "_model_module_version": "1.5.0",
      "_model_name": "DescriptionStyleModel",
      "_view_count": null,
      "_view_module": "@jupyter-widgets/base",
      "_view_module_version": "1.2.0",
      "_view_name": "StyleView",
      "description_width": ""
     }
    },
    "4bf461f2222b46cc870a11a8e9dfc0c8": {
     "model_module": "@jupyter-widgets/base",
     "model_module_version": "1.2.0",
     "model_name": "LayoutModel",
     "state": {
      "_model_module": "@jupyter-widgets/base",
      "_model_module_version": "1.2.0",
      "_model_name": "LayoutModel",
      "_view_count": null,
      "_view_module": "@jupyter-widgets/base",
      "_view_module_version": "1.2.0",
      "_view_name": "LayoutView",
      "align_content": null,
      "align_items": null,
      "align_self": null,
      "border": null,
      "bottom": null,
      "display": null,
      "flex": null,
      "flex_flow": null,
      "grid_area": null,
      "grid_auto_columns": null,
      "grid_auto_flow": null,
      "grid_auto_rows": null,
      "grid_column": null,
      "grid_gap": null,
      "grid_row": null,
      "grid_template_areas": null,
      "grid_template_columns": null,
      "grid_template_rows": null,
      "height": null,
      "justify_content": null,
      "justify_items": null,
      "left": null,
      "margin": null,
      "max_height": null,
      "max_width": null,
      "min_height": null,
      "min_width": null,
      "object_fit": null,
      "object_position": null,
      "order": null,
      "overflow": null,
      "overflow_x": null,
      "overflow_y": null,
      "padding": null,
      "right": null,
      "top": null,
      "visibility": null,
      "width": null
     }
    },
    "513e65602e7e4ee2a670f26210a37530": {
     "model_module": "@jupyter-widgets/base",
     "model_module_version": "1.2.0",
     "model_name": "LayoutModel",
     "state": {
      "_model_module": "@jupyter-widgets/base",
      "_model_module_version": "1.2.0",
      "_model_name": "LayoutModel",
      "_view_count": null,
      "_view_module": "@jupyter-widgets/base",
      "_view_module_version": "1.2.0",
      "_view_name": "LayoutView",
      "align_content": null,
      "align_items": null,
      "align_self": null,
      "border": null,
      "bottom": null,
      "display": null,
      "flex": null,
      "flex_flow": null,
      "grid_area": null,
      "grid_auto_columns": null,
      "grid_auto_flow": null,
      "grid_auto_rows": null,
      "grid_column": null,
      "grid_gap": null,
      "grid_row": null,
      "grid_template_areas": null,
      "grid_template_columns": null,
      "grid_template_rows": null,
      "height": null,
      "justify_content": null,
      "justify_items": null,
      "left": null,
      "margin": null,
      "max_height": null,
      "max_width": null,
      "min_height": null,
      "min_width": null,
      "object_fit": null,
      "object_position": null,
      "order": null,
      "overflow": null,
      "overflow_x": null,
      "overflow_y": null,
      "padding": null,
      "right": null,
      "top": null,
      "visibility": null,
      "width": null
     }
    },
    "51a626d98f8a4f58bf0b5f6e5212bbaa": {
     "model_module": "@jupyter-widgets/base",
     "model_module_version": "1.2.0",
     "model_name": "LayoutModel",
     "state": {
      "_model_module": "@jupyter-widgets/base",
      "_model_module_version": "1.2.0",
      "_model_name": "LayoutModel",
      "_view_count": null,
      "_view_module": "@jupyter-widgets/base",
      "_view_module_version": "1.2.0",
      "_view_name": "LayoutView",
      "align_content": null,
      "align_items": null,
      "align_self": null,
      "border": null,
      "bottom": null,
      "display": null,
      "flex": null,
      "flex_flow": null,
      "grid_area": null,
      "grid_auto_columns": null,
      "grid_auto_flow": null,
      "grid_auto_rows": null,
      "grid_column": null,
      "grid_gap": null,
      "grid_row": null,
      "grid_template_areas": null,
      "grid_template_columns": null,
      "grid_template_rows": null,
      "height": null,
      "justify_content": null,
      "justify_items": null,
      "left": null,
      "margin": null,
      "max_height": null,
      "max_width": null,
      "min_height": null,
      "min_width": null,
      "object_fit": null,
      "object_position": null,
      "order": null,
      "overflow": null,
      "overflow_x": null,
      "overflow_y": null,
      "padding": null,
      "right": null,
      "top": null,
      "visibility": null,
      "width": null
     }
    },
    "51fd1343d6be4f36a9bfafc0057e6d2b": {
     "model_module": "@jupyter-widgets/controls",
     "model_module_version": "1.5.0",
     "model_name": "ProgressStyleModel",
     "state": {
      "_model_module": "@jupyter-widgets/controls",
      "_model_module_version": "1.5.0",
      "_model_name": "ProgressStyleModel",
      "_view_count": null,
      "_view_module": "@jupyter-widgets/base",
      "_view_module_version": "1.2.0",
      "_view_name": "StyleView",
      "bar_color": null,
      "description_width": ""
     }
    },
    "5421004a0eba4cb8876e0f4c2d9e4b2b": {
     "model_module": "@jupyter-widgets/base",
     "model_module_version": "1.2.0",
     "model_name": "LayoutModel",
     "state": {
      "_model_module": "@jupyter-widgets/base",
      "_model_module_version": "1.2.0",
      "_model_name": "LayoutModel",
      "_view_count": null,
      "_view_module": "@jupyter-widgets/base",
      "_view_module_version": "1.2.0",
      "_view_name": "LayoutView",
      "align_content": null,
      "align_items": null,
      "align_self": null,
      "border": null,
      "bottom": null,
      "display": null,
      "flex": null,
      "flex_flow": null,
      "grid_area": null,
      "grid_auto_columns": null,
      "grid_auto_flow": null,
      "grid_auto_rows": null,
      "grid_column": null,
      "grid_gap": null,
      "grid_row": null,
      "grid_template_areas": null,
      "grid_template_columns": null,
      "grid_template_rows": null,
      "height": null,
      "justify_content": null,
      "justify_items": null,
      "left": null,
      "margin": null,
      "max_height": null,
      "max_width": null,
      "min_height": null,
      "min_width": null,
      "object_fit": null,
      "object_position": null,
      "order": null,
      "overflow": null,
      "overflow_x": null,
      "overflow_y": null,
      "padding": null,
      "right": null,
      "top": null,
      "visibility": null,
      "width": null
     }
    },
    "542e02f080c842fc9d34901d4674c1d2": {
     "model_module": "@jupyter-widgets/base",
     "model_module_version": "1.2.0",
     "model_name": "LayoutModel",
     "state": {
      "_model_module": "@jupyter-widgets/base",
      "_model_module_version": "1.2.0",
      "_model_name": "LayoutModel",
      "_view_count": null,
      "_view_module": "@jupyter-widgets/base",
      "_view_module_version": "1.2.0",
      "_view_name": "LayoutView",
      "align_content": null,
      "align_items": null,
      "align_self": null,
      "border": null,
      "bottom": null,
      "display": null,
      "flex": null,
      "flex_flow": null,
      "grid_area": null,
      "grid_auto_columns": null,
      "grid_auto_flow": null,
      "grid_auto_rows": null,
      "grid_column": null,
      "grid_gap": null,
      "grid_row": null,
      "grid_template_areas": null,
      "grid_template_columns": null,
      "grid_template_rows": null,
      "height": null,
      "justify_content": null,
      "justify_items": null,
      "left": null,
      "margin": null,
      "max_height": null,
      "max_width": null,
      "min_height": null,
      "min_width": null,
      "object_fit": null,
      "object_position": null,
      "order": null,
      "overflow": null,
      "overflow_x": null,
      "overflow_y": null,
      "padding": null,
      "right": null,
      "top": null,
      "visibility": null,
      "width": null
     }
    },
    "581a8f49d283432c8af570cc65f2cd5b": {
     "model_module": "@jupyter-widgets/base",
     "model_module_version": "1.2.0",
     "model_name": "LayoutModel",
     "state": {
      "_model_module": "@jupyter-widgets/base",
      "_model_module_version": "1.2.0",
      "_model_name": "LayoutModel",
      "_view_count": null,
      "_view_module": "@jupyter-widgets/base",
      "_view_module_version": "1.2.0",
      "_view_name": "LayoutView",
      "align_content": null,
      "align_items": null,
      "align_self": null,
      "border": null,
      "bottom": null,
      "display": null,
      "flex": null,
      "flex_flow": null,
      "grid_area": null,
      "grid_auto_columns": null,
      "grid_auto_flow": null,
      "grid_auto_rows": null,
      "grid_column": null,
      "grid_gap": null,
      "grid_row": null,
      "grid_template_areas": null,
      "grid_template_columns": null,
      "grid_template_rows": null,
      "height": null,
      "justify_content": null,
      "justify_items": null,
      "left": null,
      "margin": null,
      "max_height": null,
      "max_width": null,
      "min_height": null,
      "min_width": null,
      "object_fit": null,
      "object_position": null,
      "order": null,
      "overflow": null,
      "overflow_x": null,
      "overflow_y": null,
      "padding": null,
      "right": null,
      "top": null,
      "visibility": null,
      "width": null
     }
    },
    "59b6a1ab5a274ee6b7ee42bbaeada508": {
     "model_module": "@jupyter-widgets/controls",
     "model_module_version": "1.5.0",
     "model_name": "DescriptionStyleModel",
     "state": {
      "_model_module": "@jupyter-widgets/controls",
      "_model_module_version": "1.5.0",
      "_model_name": "DescriptionStyleModel",
      "_view_count": null,
      "_view_module": "@jupyter-widgets/base",
      "_view_module_version": "1.2.0",
      "_view_name": "StyleView",
      "description_width": ""
     }
    },
    "5c16991a38094e80bd2d3cb10ece25ce": {
     "model_module": "@jupyter-widgets/controls",
     "model_module_version": "1.5.0",
     "model_name": "ProgressStyleModel",
     "state": {
      "_model_module": "@jupyter-widgets/controls",
      "_model_module_version": "1.5.0",
      "_model_name": "ProgressStyleModel",
      "_view_count": null,
      "_view_module": "@jupyter-widgets/base",
      "_view_module_version": "1.2.0",
      "_view_name": "StyleView",
      "bar_color": null,
      "description_width": ""
     }
    },
    "5ee6fac8d2bb4072956b164ec0848d3e": {
     "model_module": "@jupyter-widgets/controls",
     "model_module_version": "1.5.0",
     "model_name": "HBoxModel",
     "state": {
      "_dom_classes": [],
      "_model_module": "@jupyter-widgets/controls",
      "_model_module_version": "1.5.0",
      "_model_name": "HBoxModel",
      "_view_count": null,
      "_view_module": "@jupyter-widgets/controls",
      "_view_module_version": "1.5.0",
      "_view_name": "HBoxView",
      "box_style": "",
      "children": [
       "IPY_MODEL_ddfc7ad340cf450ba4f3b59bfb06838b",
       "IPY_MODEL_9b3683752077490c9420bffce0c67cc5",
       "IPY_MODEL_b0a7d5b2c2714461812759bc5dbe54d2"
      ],
      "layout": "IPY_MODEL_d3d7010388be49d48cf1e30944c3aa6e"
     }
    },
    "5eecaed8d8724d51a291b183ec2e1943": {
     "model_module": "@jupyter-widgets/controls",
     "model_module_version": "1.5.0",
     "model_name": "HBoxModel",
     "state": {
      "_dom_classes": [],
      "_model_module": "@jupyter-widgets/controls",
      "_model_module_version": "1.5.0",
      "_model_name": "HBoxModel",
      "_view_count": null,
      "_view_module": "@jupyter-widgets/controls",
      "_view_module_version": "1.5.0",
      "_view_name": "HBoxView",
      "box_style": "",
      "children": [
       "IPY_MODEL_a33c0ad511f841e3a4ac3c0baedd0fd4",
       "IPY_MODEL_f2b8365124d1441abedcf47f8998f4d7",
       "IPY_MODEL_0b8eed33afa54bb8aad7a934ea44fb7d"
      ],
      "layout": "IPY_MODEL_a30ed48eef3047fe9769cb8776a1e434"
     }
    },
    "5f140fcd6cb04648bb1814b6282455bd": {
     "model_module": "@jupyter-widgets/base",
     "model_module_version": "1.2.0",
     "model_name": "LayoutModel",
     "state": {
      "_model_module": "@jupyter-widgets/base",
      "_model_module_version": "1.2.0",
      "_model_name": "LayoutModel",
      "_view_count": null,
      "_view_module": "@jupyter-widgets/base",
      "_view_module_version": "1.2.0",
      "_view_name": "LayoutView",
      "align_content": null,
      "align_items": null,
      "align_self": null,
      "border": null,
      "bottom": null,
      "display": null,
      "flex": null,
      "flex_flow": null,
      "grid_area": null,
      "grid_auto_columns": null,
      "grid_auto_flow": null,
      "grid_auto_rows": null,
      "grid_column": null,
      "grid_gap": null,
      "grid_row": null,
      "grid_template_areas": null,
      "grid_template_columns": null,
      "grid_template_rows": null,
      "height": null,
      "justify_content": null,
      "justify_items": null,
      "left": null,
      "margin": null,
      "max_height": null,
      "max_width": null,
      "min_height": null,
      "min_width": null,
      "object_fit": null,
      "object_position": null,
      "order": null,
      "overflow": null,
      "overflow_x": null,
      "overflow_y": null,
      "padding": null,
      "right": null,
      "top": null,
      "visibility": null,
      "width": null
     }
    },
    "616780f1af1a4500833e9dabcb71524b": {
     "model_module": "@jupyter-widgets/controls",
     "model_module_version": "1.5.0",
     "model_name": "HBoxModel",
     "state": {
      "_dom_classes": [],
      "_model_module": "@jupyter-widgets/controls",
      "_model_module_version": "1.5.0",
      "_model_name": "HBoxModel",
      "_view_count": null,
      "_view_module": "@jupyter-widgets/controls",
      "_view_module_version": "1.5.0",
      "_view_name": "HBoxView",
      "box_style": "",
      "children": [
       "IPY_MODEL_d899fff0c9bc4ee59fbb3230b893ecfc",
       "IPY_MODEL_4a7c370f7a354ec3b05d4803539552a4",
       "IPY_MODEL_cc7833a2dd10469ab3719ce615011941"
      ],
      "layout": "IPY_MODEL_bc33a00ef4e548ad9f5e1dbce87b7d74"
     }
    },
    "641b4b0a8075479c8183c61dd793efaa": {
     "model_module": "@jupyter-widgets/controls",
     "model_module_version": "1.5.0",
     "model_name": "DescriptionStyleModel",
     "state": {
      "_model_module": "@jupyter-widgets/controls",
      "_model_module_version": "1.5.0",
      "_model_name": "DescriptionStyleModel",
      "_view_count": null,
      "_view_module": "@jupyter-widgets/base",
      "_view_module_version": "1.2.0",
      "_view_name": "StyleView",
      "description_width": ""
     }
    },
    "6f33cfb4da65457085eae065966d88cc": {
     "model_module": "@jupyter-widgets/controls",
     "model_module_version": "1.5.0",
     "model_name": "HBoxModel",
     "state": {
      "_dom_classes": [],
      "_model_module": "@jupyter-widgets/controls",
      "_model_module_version": "1.5.0",
      "_model_name": "HBoxModel",
      "_view_count": null,
      "_view_module": "@jupyter-widgets/controls",
      "_view_module_version": "1.5.0",
      "_view_name": "HBoxView",
      "box_style": "",
      "children": [
       "IPY_MODEL_06c7c43558984ffbb051f2a1284034fe",
       "IPY_MODEL_b2db9d94936d4b0cae677c0cb89dfbfa",
       "IPY_MODEL_920f74190f624e57acb5ed2ae1bde5b7"
      ],
      "layout": "IPY_MODEL_aab1ea0b27244088924f682105b17fa1"
     }
    },
    "76f29ea5637d4f2f95c578071a67346b": {
     "model_module": "@jupyter-widgets/base",
     "model_module_version": "1.2.0",
     "model_name": "LayoutModel",
     "state": {
      "_model_module": "@jupyter-widgets/base",
      "_model_module_version": "1.2.0",
      "_model_name": "LayoutModel",
      "_view_count": null,
      "_view_module": "@jupyter-widgets/base",
      "_view_module_version": "1.2.0",
      "_view_name": "LayoutView",
      "align_content": null,
      "align_items": null,
      "align_self": null,
      "border": null,
      "bottom": null,
      "display": null,
      "flex": null,
      "flex_flow": null,
      "grid_area": null,
      "grid_auto_columns": null,
      "grid_auto_flow": null,
      "grid_auto_rows": null,
      "grid_column": null,
      "grid_gap": null,
      "grid_row": null,
      "grid_template_areas": null,
      "grid_template_columns": null,
      "grid_template_rows": null,
      "height": null,
      "justify_content": null,
      "justify_items": null,
      "left": null,
      "margin": null,
      "max_height": null,
      "max_width": null,
      "min_height": null,
      "min_width": null,
      "object_fit": null,
      "object_position": null,
      "order": null,
      "overflow": null,
      "overflow_x": null,
      "overflow_y": null,
      "padding": null,
      "right": null,
      "top": null,
      "visibility": null,
      "width": null
     }
    },
    "793105a2cccd458f9b6fe73848165297": {
     "model_module": "@jupyter-widgets/controls",
     "model_module_version": "1.5.0",
     "model_name": "DescriptionStyleModel",
     "state": {
      "_model_module": "@jupyter-widgets/controls",
      "_model_module_version": "1.5.0",
      "_model_name": "DescriptionStyleModel",
      "_view_count": null,
      "_view_module": "@jupyter-widgets/base",
      "_view_module_version": "1.2.0",
      "_view_name": "StyleView",
      "description_width": ""
     }
    },
    "7e05491a4bd64fd7bad365fc97bbe952": {
     "model_module": "@jupyter-widgets/base",
     "model_module_version": "1.2.0",
     "model_name": "LayoutModel",
     "state": {
      "_model_module": "@jupyter-widgets/base",
      "_model_module_version": "1.2.0",
      "_model_name": "LayoutModel",
      "_view_count": null,
      "_view_module": "@jupyter-widgets/base",
      "_view_module_version": "1.2.0",
      "_view_name": "LayoutView",
      "align_content": null,
      "align_items": null,
      "align_self": null,
      "border": null,
      "bottom": null,
      "display": null,
      "flex": null,
      "flex_flow": null,
      "grid_area": null,
      "grid_auto_columns": null,
      "grid_auto_flow": null,
      "grid_auto_rows": null,
      "grid_column": null,
      "grid_gap": null,
      "grid_row": null,
      "grid_template_areas": null,
      "grid_template_columns": null,
      "grid_template_rows": null,
      "height": null,
      "justify_content": null,
      "justify_items": null,
      "left": null,
      "margin": null,
      "max_height": null,
      "max_width": null,
      "min_height": null,
      "min_width": null,
      "object_fit": null,
      "object_position": null,
      "order": null,
      "overflow": null,
      "overflow_x": null,
      "overflow_y": null,
      "padding": null,
      "right": null,
      "top": null,
      "visibility": null,
      "width": null
     }
    },
    "7e1eed0fa34f410a940bdb308eecd0ae": {
     "model_module": "@jupyter-widgets/base",
     "model_module_version": "1.2.0",
     "model_name": "LayoutModel",
     "state": {
      "_model_module": "@jupyter-widgets/base",
      "_model_module_version": "1.2.0",
      "_model_name": "LayoutModel",
      "_view_count": null,
      "_view_module": "@jupyter-widgets/base",
      "_view_module_version": "1.2.0",
      "_view_name": "LayoutView",
      "align_content": null,
      "align_items": null,
      "align_self": null,
      "border": null,
      "bottom": null,
      "display": null,
      "flex": null,
      "flex_flow": null,
      "grid_area": null,
      "grid_auto_columns": null,
      "grid_auto_flow": null,
      "grid_auto_rows": null,
      "grid_column": null,
      "grid_gap": null,
      "grid_row": null,
      "grid_template_areas": null,
      "grid_template_columns": null,
      "grid_template_rows": null,
      "height": null,
      "justify_content": null,
      "justify_items": null,
      "left": null,
      "margin": null,
      "max_height": null,
      "max_width": null,
      "min_height": null,
      "min_width": null,
      "object_fit": null,
      "object_position": null,
      "order": null,
      "overflow": null,
      "overflow_x": null,
      "overflow_y": null,
      "padding": null,
      "right": null,
      "top": null,
      "visibility": null,
      "width": null
     }
    },
    "8ee46ecd9ac84e0599be171e2157ac12": {
     "model_module": "@jupyter-widgets/base",
     "model_module_version": "1.2.0",
     "model_name": "LayoutModel",
     "state": {
      "_model_module": "@jupyter-widgets/base",
      "_model_module_version": "1.2.0",
      "_model_name": "LayoutModel",
      "_view_count": null,
      "_view_module": "@jupyter-widgets/base",
      "_view_module_version": "1.2.0",
      "_view_name": "LayoutView",
      "align_content": null,
      "align_items": null,
      "align_self": null,
      "border": null,
      "bottom": null,
      "display": null,
      "flex": null,
      "flex_flow": null,
      "grid_area": null,
      "grid_auto_columns": null,
      "grid_auto_flow": null,
      "grid_auto_rows": null,
      "grid_column": null,
      "grid_gap": null,
      "grid_row": null,
      "grid_template_areas": null,
      "grid_template_columns": null,
      "grid_template_rows": null,
      "height": null,
      "justify_content": null,
      "justify_items": null,
      "left": null,
      "margin": null,
      "max_height": null,
      "max_width": null,
      "min_height": null,
      "min_width": null,
      "object_fit": null,
      "object_position": null,
      "order": null,
      "overflow": null,
      "overflow_x": null,
      "overflow_y": null,
      "padding": null,
      "right": null,
      "top": null,
      "visibility": null,
      "width": null
     }
    },
    "920f74190f624e57acb5ed2ae1bde5b7": {
     "model_module": "@jupyter-widgets/controls",
     "model_module_version": "1.5.0",
     "model_name": "HTMLModel",
     "state": {
      "_dom_classes": [],
      "_model_module": "@jupyter-widgets/controls",
      "_model_module_version": "1.5.0",
      "_model_name": "HTMLModel",
      "_view_count": null,
      "_view_module": "@jupyter-widgets/controls",
      "_view_module_version": "1.5.0",
      "_view_name": "HTMLView",
      "description": "",
      "description_tooltip": null,
      "layout": "IPY_MODEL_1469569d95e24bbaadc02c0c323d8fdb",
      "placeholder": "​",
      "style": "IPY_MODEL_793105a2cccd458f9b6fe73848165297",
      "value": " 180040/180040 [03:37&lt;00:00, 751.91ex/s]"
     }
    },
    "96dcb926e6dd417db8fbd7e14cf94823": {
     "model_module": "@jupyter-widgets/controls",
     "model_module_version": "1.5.0",
     "model_name": "HBoxModel",
     "state": {
      "_dom_classes": [],
      "_model_module": "@jupyter-widgets/controls",
      "_model_module_version": "1.5.0",
      "_model_name": "HBoxModel",
      "_view_count": null,
      "_view_module": "@jupyter-widgets/controls",
      "_view_module_version": "1.5.0",
      "_view_name": "HBoxView",
      "box_style": "",
      "children": [
       "IPY_MODEL_3ca93601823542b4bf0cd6b3992f016a",
       "IPY_MODEL_d4d6497e9d1349b189df0404564fee75",
       "IPY_MODEL_14db13419a244e5ca2246f74f749bba2"
      ],
      "layout": "IPY_MODEL_df353070ff264be8870f243b484aa435"
     }
    },
    "9b3683752077490c9420bffce0c67cc5": {
     "model_module": "@jupyter-widgets/controls",
     "model_module_version": "1.5.0",
     "model_name": "FloatProgressModel",
     "state": {
      "_dom_classes": [],
      "_model_module": "@jupyter-widgets/controls",
      "_model_module_version": "1.5.0",
      "_model_name": "FloatProgressModel",
      "_view_count": null,
      "_view_module": "@jupyter-widgets/controls",
      "_view_module_version": "1.5.0",
      "_view_name": "ProgressView",
      "bar_style": "success",
      "description": "",
      "description_tooltip": null,
      "layout": "IPY_MODEL_2a0932b8ab5a45fdb5a187b6b6588877",
      "max": 112,
      "min": 0,
      "orientation": "horizontal",
      "style": "IPY_MODEL_ebc9ff5ba4fd40fca47c4e93f06592e3",
      "value": 112
     }
    },
    "9d271e5a84b14fb7beb146a6a2809737": {
     "model_module": "@jupyter-widgets/controls",
     "model_module_version": "1.5.0",
     "model_name": "HTMLModel",
     "state": {
      "_dom_classes": [],
      "_model_module": "@jupyter-widgets/controls",
      "_model_module_version": "1.5.0",
      "_model_name": "HTMLModel",
      "_view_count": null,
      "_view_module": "@jupyter-widgets/controls",
      "_view_module_version": "1.5.0",
      "_view_name": "HTMLView",
      "description": "",
      "description_tooltip": null,
      "layout": "IPY_MODEL_76f29ea5637d4f2f95c578071a67346b",
      "placeholder": "​",
      "style": "IPY_MODEL_4aa03f6f92124972bc0dc62c25f1c36d",
      "value": " 30135/30135 [00:35&lt;00:00, 776.45ex/s]"
     }
    },
    "a30ed48eef3047fe9769cb8776a1e434": {
     "model_module": "@jupyter-widgets/base",
     "model_module_version": "1.2.0",
     "model_name": "LayoutModel",
     "state": {
      "_model_module": "@jupyter-widgets/base",
      "_model_module_version": "1.2.0",
      "_model_name": "LayoutModel",
      "_view_count": null,
      "_view_module": "@jupyter-widgets/base",
      "_view_module_version": "1.2.0",
      "_view_name": "LayoutView",
      "align_content": null,
      "align_items": null,
      "align_self": null,
      "border": null,
      "bottom": null,
      "display": null,
      "flex": null,
      "flex_flow": null,
      "grid_area": null,
      "grid_auto_columns": null,
      "grid_auto_flow": null,
      "grid_auto_rows": null,
      "grid_column": null,
      "grid_gap": null,
      "grid_row": null,
      "grid_template_areas": null,
      "grid_template_columns": null,
      "grid_template_rows": null,
      "height": null,
      "justify_content": null,
      "justify_items": null,
      "left": null,
      "margin": null,
      "max_height": null,
      "max_width": null,
      "min_height": null,
      "min_width": null,
      "object_fit": null,
      "object_position": null,
      "order": null,
      "overflow": null,
      "overflow_x": null,
      "overflow_y": null,
      "padding": null,
      "right": null,
      "top": null,
      "visibility": null,
      "width": null
     }
    },
    "a33c0ad511f841e3a4ac3c0baedd0fd4": {
     "model_module": "@jupyter-widgets/controls",
     "model_module_version": "1.5.0",
     "model_name": "HTMLModel",
     "state": {
      "_dom_classes": [],
      "_model_module": "@jupyter-widgets/controls",
      "_model_module_version": "1.5.0",
      "_model_name": "HTMLModel",
      "_view_count": null,
      "_view_module": "@jupyter-widgets/controls",
      "_view_module_version": "1.5.0",
      "_view_name": "HTMLView",
      "description": "",
      "description_tooltip": null,
      "layout": "IPY_MODEL_2ea22a387a574b8a901c755aab2050a9",
      "placeholder": "​",
      "style": "IPY_MODEL_e2a550fb8ec542f1a14c37d31cec21fb",
      "value": "Downloading: 100%"
     }
    },
    "a5176ce7428c44d092c4c7994388ba0d": {
     "model_module": "@jupyter-widgets/controls",
     "model_module_version": "1.5.0",
     "model_name": "ProgressStyleModel",
     "state": {
      "_model_module": "@jupyter-widgets/controls",
      "_model_module_version": "1.5.0",
      "_model_name": "ProgressStyleModel",
      "_view_count": null,
      "_view_module": "@jupyter-widgets/base",
      "_view_module_version": "1.2.0",
      "_view_name": "StyleView",
      "bar_color": null,
      "description_width": ""
     }
    },
    "aab1ea0b27244088924f682105b17fa1": {
     "model_module": "@jupyter-widgets/base",
     "model_module_version": "1.2.0",
     "model_name": "LayoutModel",
     "state": {
      "_model_module": "@jupyter-widgets/base",
      "_model_module_version": "1.2.0",
      "_model_name": "LayoutModel",
      "_view_count": null,
      "_view_module": "@jupyter-widgets/base",
      "_view_module_version": "1.2.0",
      "_view_name": "LayoutView",
      "align_content": null,
      "align_items": null,
      "align_self": null,
      "border": null,
      "bottom": null,
      "display": null,
      "flex": null,
      "flex_flow": null,
      "grid_area": null,
      "grid_auto_columns": null,
      "grid_auto_flow": null,
      "grid_auto_rows": null,
      "grid_column": null,
      "grid_gap": null,
      "grid_row": null,
      "grid_template_areas": null,
      "grid_template_columns": null,
      "grid_template_rows": null,
      "height": null,
      "justify_content": null,
      "justify_items": null,
      "left": null,
      "margin": null,
      "max_height": null,
      "max_width": null,
      "min_height": null,
      "min_width": null,
      "object_fit": null,
      "object_position": null,
      "order": null,
      "overflow": null,
      "overflow_x": null,
      "overflow_y": null,
      "padding": null,
      "right": null,
      "top": null,
      "visibility": null,
      "width": null
     }
    },
    "aad8b885e92d4a7ea71867bbce148d79": {
     "model_module": "@jupyter-widgets/controls",
     "model_module_version": "1.5.0",
     "model_name": "HTMLModel",
     "state": {
      "_dom_classes": [],
      "_model_module": "@jupyter-widgets/controls",
      "_model_module_version": "1.5.0",
      "_model_name": "HTMLModel",
      "_view_count": null,
      "_view_module": "@jupyter-widgets/controls",
      "_view_module_version": "1.5.0",
      "_view_name": "HTMLView",
      "description": "",
      "description_tooltip": null,
      "layout": "IPY_MODEL_d2687843e9854fbfa1c74631792a3abe",
      "placeholder": "​",
      "style": "IPY_MODEL_e15c2a0a26ae4282bef6cbc03a5ed82f",
      "value": "100%"
     }
    },
    "b0a7d5b2c2714461812759bc5dbe54d2": {
     "model_module": "@jupyter-widgets/controls",
     "model_module_version": "1.5.0",
     "model_name": "HTMLModel",
     "state": {
      "_dom_classes": [],
      "_model_module": "@jupyter-widgets/controls",
      "_model_module_version": "1.5.0",
      "_model_name": "HTMLModel",
      "_view_count": null,
      "_view_module": "@jupyter-widgets/controls",
      "_view_module_version": "1.5.0",
      "_view_name": "HTMLView",
      "description": "",
      "description_tooltip": null,
      "layout": "IPY_MODEL_5f140fcd6cb04648bb1814b6282455bd",
      "placeholder": "​",
      "style": "IPY_MODEL_e1dbe9bd2fa44785b0fd1d48f4634832",
      "value": " 112/112 [00:00&lt;00:00, 2.46kB/s]"
     }
    },
    "b2db9d94936d4b0cae677c0cb89dfbfa": {
     "model_module": "@jupyter-widgets/controls",
     "model_module_version": "1.5.0",
     "model_name": "FloatProgressModel",
     "state": {
      "_dom_classes": [],
      "_model_module": "@jupyter-widgets/controls",
      "_model_module_version": "1.5.0",
      "_model_name": "FloatProgressModel",
      "_view_count": null,
      "_view_module": "@jupyter-widgets/controls",
      "_view_module_version": "1.5.0",
      "_view_name": "ProgressView",
      "bar_style": "success",
      "description": "",
      "description_tooltip": null,
      "layout": "IPY_MODEL_542e02f080c842fc9d34901d4674c1d2",
      "max": 180040,
      "min": 0,
      "orientation": "horizontal",
      "style": "IPY_MODEL_a5176ce7428c44d092c4c7994388ba0d",
      "value": 180040
     }
    },
    "bc33a00ef4e548ad9f5e1dbce87b7d74": {
     "model_module": "@jupyter-widgets/base",
     "model_module_version": "1.2.0",
     "model_name": "LayoutModel",
     "state": {
      "_model_module": "@jupyter-widgets/base",
      "_model_module_version": "1.2.0",
      "_model_name": "LayoutModel",
      "_view_count": null,
      "_view_module": "@jupyter-widgets/base",
      "_view_module_version": "1.2.0",
      "_view_name": "LayoutView",
      "align_content": null,
      "align_items": null,
      "align_self": null,
      "border": null,
      "bottom": null,
      "display": null,
      "flex": null,
      "flex_flow": null,
      "grid_area": null,
      "grid_auto_columns": null,
      "grid_auto_flow": null,
      "grid_auto_rows": null,
      "grid_column": null,
      "grid_gap": null,
      "grid_row": null,
      "grid_template_areas": null,
      "grid_template_columns": null,
      "grid_template_rows": null,
      "height": null,
      "justify_content": null,
      "justify_items": null,
      "left": null,
      "margin": null,
      "max_height": null,
      "max_width": null,
      "min_height": null,
      "min_width": null,
      "object_fit": null,
      "object_position": null,
      "order": null,
      "overflow": null,
      "overflow_x": null,
      "overflow_y": null,
      "padding": null,
      "right": null,
      "top": null,
      "visibility": null,
      "width": null
     }
    },
    "bdfdb155301e424ba468c7004749c337": {
     "model_module": "@jupyter-widgets/base",
     "model_module_version": "1.2.0",
     "model_name": "LayoutModel",
     "state": {
      "_model_module": "@jupyter-widgets/base",
      "_model_module_version": "1.2.0",
      "_model_name": "LayoutModel",
      "_view_count": null,
      "_view_module": "@jupyter-widgets/base",
      "_view_module_version": "1.2.0",
      "_view_name": "LayoutView",
      "align_content": null,
      "align_items": null,
      "align_self": null,
      "border": null,
      "bottom": null,
      "display": null,
      "flex": null,
      "flex_flow": null,
      "grid_area": null,
      "grid_auto_columns": null,
      "grid_auto_flow": null,
      "grid_auto_rows": null,
      "grid_column": null,
      "grid_gap": null,
      "grid_row": null,
      "grid_template_areas": null,
      "grid_template_columns": null,
      "grid_template_rows": null,
      "height": null,
      "justify_content": null,
      "justify_items": null,
      "left": null,
      "margin": null,
      "max_height": null,
      "max_width": null,
      "min_height": null,
      "min_width": null,
      "object_fit": null,
      "object_position": null,
      "order": null,
      "overflow": null,
      "overflow_x": null,
      "overflow_y": null,
      "padding": null,
      "right": null,
      "top": null,
      "visibility": null,
      "width": null
     }
    },
    "cc12f4762fc34949993a0ac2eebfc746": {
     "model_module": "@jupyter-widgets/controls",
     "model_module_version": "1.5.0",
     "model_name": "HBoxModel",
     "state": {
      "_dom_classes": [],
      "_model_module": "@jupyter-widgets/controls",
      "_model_module_version": "1.5.0",
      "_model_name": "HBoxModel",
      "_view_count": null,
      "_view_module": "@jupyter-widgets/controls",
      "_view_module_version": "1.5.0",
      "_view_name": "HBoxView",
      "box_style": "",
      "children": [
       "IPY_MODEL_aad8b885e92d4a7ea71867bbce148d79",
       "IPY_MODEL_440cda554d3043a981690cd4fb30eda0",
       "IPY_MODEL_9d271e5a84b14fb7beb146a6a2809737"
      ],
      "layout": "IPY_MODEL_cd2d0c5b10984079bb6799d1c1422ed9"
     }
    },
    "cc7833a2dd10469ab3719ce615011941": {
     "model_module": "@jupyter-widgets/controls",
     "model_module_version": "1.5.0",
     "model_name": "HTMLModel",
     "state": {
      "_dom_classes": [],
      "_model_module": "@jupyter-widgets/controls",
      "_model_module_version": "1.5.0",
      "_model_name": "HTMLModel",
      "_view_count": null,
      "_view_module": "@jupyter-widgets/controls",
      "_view_module_version": "1.5.0",
      "_view_name": "HTMLView",
      "description": "",
      "description_tooltip": null,
      "layout": "IPY_MODEL_4bf461f2222b46cc870a11a8e9dfc0c8",
      "placeholder": "​",
      "style": "IPY_MODEL_d95a604c1af1448f9577feead8ed683e",
      "value": " 239k/239k [00:00&lt;00:00, 569kB/s]"
     }
    },
    "cd2d0c5b10984079bb6799d1c1422ed9": {
     "model_module": "@jupyter-widgets/base",
     "model_module_version": "1.2.0",
     "model_name": "LayoutModel",
     "state": {
      "_model_module": "@jupyter-widgets/base",
      "_model_module_version": "1.2.0",
      "_model_name": "LayoutModel",
      "_view_count": null,
      "_view_module": "@jupyter-widgets/base",
      "_view_module_version": "1.2.0",
      "_view_name": "LayoutView",
      "align_content": null,
      "align_items": null,
      "align_self": null,
      "border": null,
      "bottom": null,
      "display": null,
      "flex": null,
      "flex_flow": null,
      "grid_area": null,
      "grid_auto_columns": null,
      "grid_auto_flow": null,
      "grid_auto_rows": null,
      "grid_column": null,
      "grid_gap": null,
      "grid_row": null,
      "grid_template_areas": null,
      "grid_template_columns": null,
      "grid_template_rows": null,
      "height": null,
      "justify_content": null,
      "justify_items": null,
      "left": null,
      "margin": null,
      "max_height": null,
      "max_width": null,
      "min_height": null,
      "min_width": null,
      "object_fit": null,
      "object_position": null,
      "order": null,
      "overflow": null,
      "overflow_x": null,
      "overflow_y": null,
      "padding": null,
      "right": null,
      "top": null,
      "visibility": null,
      "width": null
     }
    },
    "d2687843e9854fbfa1c74631792a3abe": {
     "model_module": "@jupyter-widgets/base",
     "model_module_version": "1.2.0",
     "model_name": "LayoutModel",
     "state": {
      "_model_module": "@jupyter-widgets/base",
      "_model_module_version": "1.2.0",
      "_model_name": "LayoutModel",
      "_view_count": null,
      "_view_module": "@jupyter-widgets/base",
      "_view_module_version": "1.2.0",
      "_view_name": "LayoutView",
      "align_content": null,
      "align_items": null,
      "align_self": null,
      "border": null,
      "bottom": null,
      "display": null,
      "flex": null,
      "flex_flow": null,
      "grid_area": null,
      "grid_auto_columns": null,
      "grid_auto_flow": null,
      "grid_auto_rows": null,
      "grid_column": null,
      "grid_gap": null,
      "grid_row": null,
      "grid_template_areas": null,
      "grid_template_columns": null,
      "grid_template_rows": null,
      "height": null,
      "justify_content": null,
      "justify_items": null,
      "left": null,
      "margin": null,
      "max_height": null,
      "max_width": null,
      "min_height": null,
      "min_width": null,
      "object_fit": null,
      "object_position": null,
      "order": null,
      "overflow": null,
      "overflow_x": null,
      "overflow_y": null,
      "padding": null,
      "right": null,
      "top": null,
      "visibility": null,
      "width": null
     }
    },
    "d29a8e7f9a504cbf8daa976d9ed502a9": {
     "model_module": "@jupyter-widgets/controls",
     "model_module_version": "1.5.0",
     "model_name": "DescriptionStyleModel",
     "state": {
      "_model_module": "@jupyter-widgets/controls",
      "_model_module_version": "1.5.0",
      "_model_name": "DescriptionStyleModel",
      "_view_count": null,
      "_view_module": "@jupyter-widgets/base",
      "_view_module_version": "1.2.0",
      "_view_name": "StyleView",
      "description_width": ""
     }
    },
    "d3d7010388be49d48cf1e30944c3aa6e": {
     "model_module": "@jupyter-widgets/base",
     "model_module_version": "1.2.0",
     "model_name": "LayoutModel",
     "state": {
      "_model_module": "@jupyter-widgets/base",
      "_model_module_version": "1.2.0",
      "_model_name": "LayoutModel",
      "_view_count": null,
      "_view_module": "@jupyter-widgets/base",
      "_view_module_version": "1.2.0",
      "_view_name": "LayoutView",
      "align_content": null,
      "align_items": null,
      "align_self": null,
      "border": null,
      "bottom": null,
      "display": null,
      "flex": null,
      "flex_flow": null,
      "grid_area": null,
      "grid_auto_columns": null,
      "grid_auto_flow": null,
      "grid_auto_rows": null,
      "grid_column": null,
      "grid_gap": null,
      "grid_row": null,
      "grid_template_areas": null,
      "grid_template_columns": null,
      "grid_template_rows": null,
      "height": null,
      "justify_content": null,
      "justify_items": null,
      "left": null,
      "margin": null,
      "max_height": null,
      "max_width": null,
      "min_height": null,
      "min_width": null,
      "object_fit": null,
      "object_position": null,
      "order": null,
      "overflow": null,
      "overflow_x": null,
      "overflow_y": null,
      "padding": null,
      "right": null,
      "top": null,
      "visibility": null,
      "width": null
     }
    },
    "d4d6497e9d1349b189df0404564fee75": {
     "model_module": "@jupyter-widgets/controls",
     "model_module_version": "1.5.0",
     "model_name": "FloatProgressModel",
     "state": {
      "_dom_classes": [],
      "_model_module": "@jupyter-widgets/controls",
      "_model_module_version": "1.5.0",
      "_model_name": "FloatProgressModel",
      "_view_count": null,
      "_view_module": "@jupyter-widgets/controls",
      "_view_module_version": "1.5.0",
      "_view_name": "ProgressView",
      "bar_style": "success",
      "description": "",
      "description_tooltip": null,
      "layout": "IPY_MODEL_232405c1aa064b7c8fa834182a94b68c",
      "max": 18429031,
      "min": 0,
      "orientation": "horizontal",
      "style": "IPY_MODEL_dcd9213012e449569ffa67a69e937391",
      "value": 18429031
     }
    },
    "d899fff0c9bc4ee59fbb3230b893ecfc": {
     "model_module": "@jupyter-widgets/controls",
     "model_module_version": "1.5.0",
     "model_name": "HTMLModel",
     "state": {
      "_dom_classes": [],
      "_model_module": "@jupyter-widgets/controls",
      "_model_module_version": "1.5.0",
      "_model_name": "HTMLModel",
      "_view_count": null,
      "_view_module": "@jupyter-widgets/controls",
      "_view_module_version": "1.5.0",
      "_view_name": "HTMLView",
      "description": "",
      "description_tooltip": null,
      "layout": "IPY_MODEL_8ee46ecd9ac84e0599be171e2157ac12",
      "placeholder": "​",
      "style": "IPY_MODEL_364ac4a7a150436d84eb769dd1c35769",
      "value": "Downloading: 100%"
     }
    },
    "d95a604c1af1448f9577feead8ed683e": {
     "model_module": "@jupyter-widgets/controls",
     "model_module_version": "1.5.0",
     "model_name": "DescriptionStyleModel",
     "state": {
      "_model_module": "@jupyter-widgets/controls",
      "_model_module_version": "1.5.0",
      "_model_name": "DescriptionStyleModel",
      "_view_count": null,
      "_view_module": "@jupyter-widgets/base",
      "_view_module_version": "1.2.0",
      "_view_name": "StyleView",
      "description_width": ""
     }
    },
    "dcd9213012e449569ffa67a69e937391": {
     "model_module": "@jupyter-widgets/controls",
     "model_module_version": "1.5.0",
     "model_name": "ProgressStyleModel",
     "state": {
      "_model_module": "@jupyter-widgets/controls",
      "_model_module_version": "1.5.0",
      "_model_name": "ProgressStyleModel",
      "_view_count": null,
      "_view_module": "@jupyter-widgets/base",
      "_view_module_version": "1.2.0",
      "_view_name": "StyleView",
      "bar_color": null,
      "description_width": ""
     }
    },
    "dcf526f179b3422bbcd0c7b506513d3a": {
     "model_module": "@jupyter-widgets/base",
     "model_module_version": "1.2.0",
     "model_name": "LayoutModel",
     "state": {
      "_model_module": "@jupyter-widgets/base",
      "_model_module_version": "1.2.0",
      "_model_name": "LayoutModel",
      "_view_count": null,
      "_view_module": "@jupyter-widgets/base",
      "_view_module_version": "1.2.0",
      "_view_name": "LayoutView",
      "align_content": null,
      "align_items": null,
      "align_self": null,
      "border": null,
      "bottom": null,
      "display": null,
      "flex": null,
      "flex_flow": null,
      "grid_area": null,
      "grid_auto_columns": null,
      "grid_auto_flow": null,
      "grid_auto_rows": null,
      "grid_column": null,
      "grid_gap": null,
      "grid_row": null,
      "grid_template_areas": null,
      "grid_template_columns": null,
      "grid_template_rows": null,
      "height": null,
      "justify_content": null,
      "justify_items": null,
      "left": null,
      "margin": null,
      "max_height": null,
      "max_width": null,
      "min_height": null,
      "min_width": null,
      "object_fit": null,
      "object_position": null,
      "order": null,
      "overflow": null,
      "overflow_x": null,
      "overflow_y": null,
      "padding": null,
      "right": null,
      "top": null,
      "visibility": null,
      "width": null
     }
    },
    "ddfc7ad340cf450ba4f3b59bfb06838b": {
     "model_module": "@jupyter-widgets/controls",
     "model_module_version": "1.5.0",
     "model_name": "HTMLModel",
     "state": {
      "_dom_classes": [],
      "_model_module": "@jupyter-widgets/controls",
      "_model_module_version": "1.5.0",
      "_model_name": "HTMLModel",
      "_view_count": null,
      "_view_module": "@jupyter-widgets/controls",
      "_view_module_version": "1.5.0",
      "_view_name": "HTMLView",
      "description": "",
      "description_tooltip": null,
      "layout": "IPY_MODEL_f494cbe6b60748d29ba478c7e0045d6f",
      "placeholder": "​",
      "style": "IPY_MODEL_29d0865068b0454b8095f1b4dd001ddb",
      "value": "Downloading: 100%"
     }
    },
    "df353070ff264be8870f243b484aa435": {
     "model_module": "@jupyter-widgets/base",
     "model_module_version": "1.2.0",
     "model_name": "LayoutModel",
     "state": {
      "_model_module": "@jupyter-widgets/base",
      "_model_module_version": "1.2.0",
      "_model_name": "LayoutModel",
      "_view_count": null,
      "_view_module": "@jupyter-widgets/base",
      "_view_module_version": "1.2.0",
      "_view_name": "LayoutView",
      "align_content": null,
      "align_items": null,
      "align_self": null,
      "border": null,
      "bottom": null,
      "display": null,
      "flex": null,
      "flex_flow": null,
      "grid_area": null,
      "grid_auto_columns": null,
      "grid_auto_flow": null,
      "grid_auto_rows": null,
      "grid_column": null,
      "grid_gap": null,
      "grid_row": null,
      "grid_template_areas": null,
      "grid_template_columns": null,
      "grid_template_rows": null,
      "height": null,
      "justify_content": null,
      "justify_items": null,
      "left": null,
      "margin": null,
      "max_height": null,
      "max_width": null,
      "min_height": null,
      "min_width": null,
      "object_fit": null,
      "object_position": null,
      "order": null,
      "overflow": null,
      "overflow_x": null,
      "overflow_y": null,
      "padding": null,
      "right": null,
      "top": null,
      "visibility": null,
      "width": null
     }
    },
    "e15c2a0a26ae4282bef6cbc03a5ed82f": {
     "model_module": "@jupyter-widgets/controls",
     "model_module_version": "1.5.0",
     "model_name": "DescriptionStyleModel",
     "state": {
      "_model_module": "@jupyter-widgets/controls",
      "_model_module_version": "1.5.0",
      "_model_name": "DescriptionStyleModel",
      "_view_count": null,
      "_view_module": "@jupyter-widgets/base",
      "_view_module_version": "1.2.0",
      "_view_name": "StyleView",
      "description_width": ""
     }
    },
    "e1c5895278494266a040d611ddfbdc3e": {
     "model_module": "@jupyter-widgets/controls",
     "model_module_version": "1.5.0",
     "model_name": "FloatProgressModel",
     "state": {
      "_dom_classes": [],
      "_model_module": "@jupyter-widgets/controls",
      "_model_module_version": "1.5.0",
      "_model_name": "FloatProgressModel",
      "_view_count": null,
      "_view_module": "@jupyter-widgets/controls",
      "_view_module_version": "1.5.0",
      "_view_name": "ProgressView",
      "bar_style": "success",
      "description": "",
      "description_tooltip": null,
      "layout": "IPY_MODEL_e36b534f40b64a1b9729aff1dc4c093f",
      "max": 453,
      "min": 0,
      "orientation": "horizontal",
      "style": "IPY_MODEL_44e74ec988694b3abdace8b42546e22d",
      "value": 453
     }
    },
    "e1dbe9bd2fa44785b0fd1d48f4634832": {
     "model_module": "@jupyter-widgets/controls",
     "model_module_version": "1.5.0",
     "model_name": "DescriptionStyleModel",
     "state": {
      "_model_module": "@jupyter-widgets/controls",
      "_model_module_version": "1.5.0",
      "_model_name": "DescriptionStyleModel",
      "_view_count": null,
      "_view_module": "@jupyter-widgets/base",
      "_view_module_version": "1.2.0",
      "_view_name": "StyleView",
      "description_width": ""
     }
    },
    "e2a550fb8ec542f1a14c37d31cec21fb": {
     "model_module": "@jupyter-widgets/controls",
     "model_module_version": "1.5.0",
     "model_name": "DescriptionStyleModel",
     "state": {
      "_model_module": "@jupyter-widgets/controls",
      "_model_module_version": "1.5.0",
      "_model_name": "DescriptionStyleModel",
      "_view_count": null,
      "_view_module": "@jupyter-widgets/base",
      "_view_module_version": "1.2.0",
      "_view_name": "StyleView",
      "description_width": ""
     }
    },
    "e36b534f40b64a1b9729aff1dc4c093f": {
     "model_module": "@jupyter-widgets/base",
     "model_module_version": "1.2.0",
     "model_name": "LayoutModel",
     "state": {
      "_model_module": "@jupyter-widgets/base",
      "_model_module_version": "1.2.0",
      "_model_name": "LayoutModel",
      "_view_count": null,
      "_view_module": "@jupyter-widgets/base",
      "_view_module_version": "1.2.0",
      "_view_name": "LayoutView",
      "align_content": null,
      "align_items": null,
      "align_self": null,
      "border": null,
      "bottom": null,
      "display": null,
      "flex": null,
      "flex_flow": null,
      "grid_area": null,
      "grid_auto_columns": null,
      "grid_auto_flow": null,
      "grid_auto_rows": null,
      "grid_column": null,
      "grid_gap": null,
      "grid_row": null,
      "grid_template_areas": null,
      "grid_template_columns": null,
      "grid_template_rows": null,
      "height": null,
      "justify_content": null,
      "justify_items": null,
      "left": null,
      "margin": null,
      "max_height": null,
      "max_width": null,
      "min_height": null,
      "min_width": null,
      "object_fit": null,
      "object_position": null,
      "order": null,
      "overflow": null,
      "overflow_x": null,
      "overflow_y": null,
      "padding": null,
      "right": null,
      "top": null,
      "visibility": null,
      "width": null
     }
    },
    "ebc9ff5ba4fd40fca47c4e93f06592e3": {
     "model_module": "@jupyter-widgets/controls",
     "model_module_version": "1.5.0",
     "model_name": "ProgressStyleModel",
     "state": {
      "_model_module": "@jupyter-widgets/controls",
      "_model_module_version": "1.5.0",
      "_model_name": "ProgressStyleModel",
      "_view_count": null,
      "_view_module": "@jupyter-widgets/base",
      "_view_module_version": "1.2.0",
      "_view_name": "StyleView",
      "bar_color": null,
      "description_width": ""
     }
    },
    "f2b8365124d1441abedcf47f8998f4d7": {
     "model_module": "@jupyter-widgets/controls",
     "model_module_version": "1.5.0",
     "model_name": "FloatProgressModel",
     "state": {
      "_dom_classes": [],
      "_model_module": "@jupyter-widgets/controls",
      "_model_module_version": "1.5.0",
      "_model_name": "FloatProgressModel",
      "_view_count": null,
      "_view_module": "@jupyter-widgets/controls",
      "_view_module_version": "1.5.0",
      "_view_name": "ProgressView",
      "bar_style": "success",
      "description": "",
      "description_tooltip": null,
      "layout": "IPY_MODEL_dcf526f179b3422bbcd0c7b506513d3a",
      "max": 731,
      "min": 0,
      "orientation": "horizontal",
      "style": "IPY_MODEL_5c16991a38094e80bd2d3cb10ece25ce",
      "value": 731
     }
    },
    "f36e759cf51741158a5d2ea668ee836e": {
     "model_module": "@jupyter-widgets/controls",
     "model_module_version": "1.5.0",
     "model_name": "ProgressStyleModel",
     "state": {
      "_model_module": "@jupyter-widgets/controls",
      "_model_module_version": "1.5.0",
      "_model_name": "ProgressStyleModel",
      "_view_count": null,
      "_view_module": "@jupyter-widgets/base",
      "_view_module_version": "1.2.0",
      "_view_name": "StyleView",
      "bar_color": null,
      "description_width": ""
     }
    },
    "f39654235a9e409c80de82566e83075b": {
     "model_module": "@jupyter-widgets/controls",
     "model_module_version": "1.5.0",
     "model_name": "DescriptionStyleModel",
     "state": {
      "_model_module": "@jupyter-widgets/controls",
      "_model_module_version": "1.5.0",
      "_model_name": "DescriptionStyleModel",
      "_view_count": null,
      "_view_module": "@jupyter-widgets/base",
      "_view_module_version": "1.2.0",
      "_view_name": "StyleView",
      "description_width": ""
     }
    },
    "f42337d915954d1bb6c90ab7d73f1353": {
     "model_module": "@jupyter-widgets/controls",
     "model_module_version": "1.5.0",
     "model_name": "HTMLModel",
     "state": {
      "_dom_classes": [],
      "_model_module": "@jupyter-widgets/controls",
      "_model_module_version": "1.5.0",
      "_model_name": "HTMLModel",
      "_view_count": null,
      "_view_module": "@jupyter-widgets/controls",
      "_view_module_version": "1.5.0",
      "_view_name": "HTMLView",
      "description": "",
      "description_tooltip": null,
      "layout": "IPY_MODEL_7e05491a4bd64fd7bad365fc97bbe952",
      "placeholder": "​",
      "style": "IPY_MODEL_174f40f1b21644b7bc91716f2d5261d1",
      "value": " 453/453 [00:00&lt;00:00, 13.4kB/s]"
     }
    },
    "f494cbe6b60748d29ba478c7e0045d6f": {
     "model_module": "@jupyter-widgets/base",
     "model_module_version": "1.2.0",
     "model_name": "LayoutModel",
     "state": {
      "_model_module": "@jupyter-widgets/base",
      "_model_module_version": "1.2.0",
      "_model_name": "LayoutModel",
      "_view_count": null,
      "_view_module": "@jupyter-widgets/base",
      "_view_module_version": "1.2.0",
      "_view_name": "LayoutView",
      "align_content": null,
      "align_items": null,
      "align_self": null,
      "border": null,
      "bottom": null,
      "display": null,
      "flex": null,
      "flex_flow": null,
      "grid_area": null,
      "grid_auto_columns": null,
      "grid_auto_flow": null,
      "grid_auto_rows": null,
      "grid_column": null,
      "grid_gap": null,
      "grid_row": null,
      "grid_template_areas": null,
      "grid_template_columns": null,
      "grid_template_rows": null,
      "height": null,
      "justify_content": null,
      "justify_items": null,
      "left": null,
      "margin": null,
      "max_height": null,
      "max_width": null,
      "min_height": null,
      "min_width": null,
      "object_fit": null,
      "object_position": null,
      "order": null,
      "overflow": null,
      "overflow_x": null,
      "overflow_y": null,
      "padding": null,
      "right": null,
      "top": null,
      "visibility": null,
      "width": null
     }
    }
   }
  }
 },
 "nbformat": 4,
 "nbformat_minor": 1
}