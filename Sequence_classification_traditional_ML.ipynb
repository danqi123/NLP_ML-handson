{
 "cells": [
  {
   "cell_type": "markdown",
   "id": "b9e6928b",
   "metadata": {
    "id": "b9e6928b"
   },
   "source": [
    "# Hands-on Machine Learning - (ML) Lab"
   ]
  },
  {
   "cell_type": "markdown",
   "id": "E8of43MMUgOQ",
   "metadata": {
    "id": "E8of43MMUgOQ"
   },
   "source": [
    "## Data Cleaning"
   ]
  },
  {
   "cell_type": "code",
   "execution_count": null,
   "id": "YRyBMcNfM60N",
   "metadata": {
    "id": "YRyBMcNfM60N"
   },
   "outputs": [],
   "source": [
    "import nltk\n",
    "from nltk.tokenize import word_tokenize  \n",
    "from nltk.corpus import stopwords\n",
    "from nltk.stem import WordNetLemmatizer\n",
    "from nltk.stem.snowball import SnowballStemmer\n",
    "from nltk.stem.porter import *\n",
    "import pandas as pd\n",
    "import spacy\n",
    "from wordcloud import WordCloud, STOPWORDS\n",
    "#from spacy.util import minibatch, compounding\n",
    "import re\n",
    "import random\n",
    "\n",
    "import spacy\n",
    "import pandas as pd\n",
    "import matplotlib.pyplot as plt\n",
    "import spacy\n",
    "from wordcloud import WordCloud, STOPWORDS\n",
    "from spacy.util import minibatch, compounding"
   ]
  },
  {
   "cell_type": "code",
   "execution_count": null,
   "id": "42771443",
   "metadata": {
    "id": "42771443"
   },
   "outputs": [],
   "source": [
    "def preprocessing(filename):\n",
    "    with open(filename, \"r\") as f:\n",
    "        Input = f.readlines() \n",
    "        Abs_lines = \"\" \n",
    "        Abs_samples = []\n",
    "        for line in Input:\n",
    "            if line.startswith(\"###\"):\n",
    "                ID = line\n",
    "                Abs_lines = \"\" \n",
    "            elif line.isspace(): \n",
    "                Abs_line_split = Abs_lines.splitlines()\n",
    "                for Abs_line_number, Abs_line in enumerate(Abs_line_split):\n",
    "                    line_data = {} \n",
    "                    part_text_split = Abs_line.split(\"\\t\") \n",
    "                    line_data[\"part\"] = part_text_split[0]\n",
    "                    line_data[\"text\"] = part_text_split[1].lower() \n",
    "                    line_data[\"line_number\"] = Abs_line_number \n",
    "                    line_data[\"total_numb_lines\"] = len(Abs_line_split) - 1 \n",
    "                    Abs_samples.append(line_data) \n",
    "            else:\n",
    "                Abs_lines += line\n",
    "    return Abs_samples"
   ]
  },
  {
   "cell_type": "code",
   "execution_count": null,
   "id": "EIzwPg-HMb2L",
   "metadata": {
    "colab": {
     "base_uri": "https://localhost:8080/",
     "height": 75,
     "resources": {
      "http://localhost:8080/nbextensions/google.colab/files.js": {
       "data": "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",
       "headers": [
        [
         "content-type",
         "application/javascript"
        ]
       ],
       "ok": true,
       "status": 200,
       "status_text": ""
      }
     }
    },
    "executionInfo": {
     "elapsed": 42633,
     "status": "ok",
     "timestamp": 1628690803427,
     "user": {
      "displayName": "liu dingding",
      "photoUrl": "https://lh3.googleusercontent.com/a-/AOh14Gih1sX4YDm7A4eG9t9nBpfxbl8CID0JS-bwJUC6=s64",
      "userId": "00468694136483302831"
     },
     "user_tz": -120
    },
    "id": "EIzwPg-HMb2L",
    "outputId": "ec2abc15-0e6d-4997-a757-a8c89d8013f6"
   },
   "outputs": [
    {
     "data": {
      "text/html": [
       "\n",
       "     <input type=\"file\" id=\"files-3587f1ea-917d-49d0-be6a-194df59f0049\" name=\"files[]\" multiple disabled\n",
       "        style=\"border:none\" />\n",
       "     <output id=\"result-3587f1ea-917d-49d0-be6a-194df59f0049\">\n",
       "      Upload widget is only available when the cell has been executed in the\n",
       "      current browser session. Please rerun this cell to enable.\n",
       "      </output>\n",
       "      <script src=\"/nbextensions/google.colab/files.js\"></script> "
      ],
      "text/plain": [
       "<IPython.core.display.HTML object>"
      ]
     },
     "metadata": {
      "tags": []
     },
     "output_type": "display_data"
    },
    {
     "name": "stdout",
     "output_type": "stream",
     "text": [
      "Saving dev_20k.txt to dev_20k.txt\n"
     ]
    }
   ],
   "source": [
    "# can be used if uploading by colab\n",
    "from google.colab import files\n",
    "uploaded = files.upload()"
   ]
  },
  {
   "cell_type": "code",
   "execution_count": null,
   "id": "VTsqcWGMptaq",
   "metadata": {
    "colab": {
     "base_uri": "https://localhost:8080/",
     "height": 417
    },
    "executionInfo": {
     "elapsed": 1087,
     "status": "ok",
     "timestamp": 1628690744853,
     "user": {
      "displayName": "liu dingding",
      "photoUrl": "https://lh3.googleusercontent.com/a-/AOh14Gih1sX4YDm7A4eG9t9nBpfxbl8CID0JS-bwJUC6=s64",
      "userId": "00468694136483302831"
     },
     "user_tz": -120
    },
    "id": "VTsqcWGMptaq",
    "outputId": "27678dda-bb67-43b8-e4e7-d066e53ce36c"
   },
   "outputs": [
    {
     "data": {
      "text/html": [
       "<div>\n",
       "<style scoped>\n",
       "    .dataframe tbody tr th:only-of-type {\n",
       "        vertical-align: middle;\n",
       "    }\n",
       "\n",
       "    .dataframe tbody tr th {\n",
       "        vertical-align: top;\n",
       "    }\n",
       "\n",
       "    .dataframe thead th {\n",
       "        text-align: right;\n",
       "    }\n",
       "</style>\n",
       "<table border=\"1\" class=\"dataframe\">\n",
       "  <thead>\n",
       "    <tr style=\"text-align: right;\">\n",
       "      <th></th>\n",
       "      <th>part</th>\n",
       "      <th>text</th>\n",
       "      <th>line_number</th>\n",
       "      <th>total_numb_lines</th>\n",
       "    </tr>\n",
       "  </thead>\n",
       "  <tbody>\n",
       "    <tr>\n",
       "      <th>0</th>\n",
       "      <td>OBJECTIVE</td>\n",
       "      <td>to investigate the efficacy of 6 weeks of dail...</td>\n",
       "      <td>0</td>\n",
       "      <td>11</td>\n",
       "    </tr>\n",
       "    <tr>\n",
       "      <th>1</th>\n",
       "      <td>METHODS</td>\n",
       "      <td>a total of 125 patients with primary knee oa w...</td>\n",
       "      <td>1</td>\n",
       "      <td>11</td>\n",
       "    </tr>\n",
       "    <tr>\n",
       "      <th>2</th>\n",
       "      <td>METHODS</td>\n",
       "      <td>outcome measures included pain reduction and i...</td>\n",
       "      <td>2</td>\n",
       "      <td>11</td>\n",
       "    </tr>\n",
       "    <tr>\n",
       "      <th>3</th>\n",
       "      <td>METHODS</td>\n",
       "      <td>pain was assessed using the visual analog pain...</td>\n",
       "      <td>3</td>\n",
       "      <td>11</td>\n",
       "    </tr>\n",
       "    <tr>\n",
       "      <th>4</th>\n",
       "      <td>METHODS</td>\n",
       "      <td>secondary outcome measures included the wester...</td>\n",
       "      <td>4</td>\n",
       "      <td>11</td>\n",
       "    </tr>\n",
       "    <tr>\n",
       "      <th>...</th>\n",
       "      <td>...</td>\n",
       "      <td>...</td>\n",
       "      <td>...</td>\n",
       "      <td>...</td>\n",
       "    </tr>\n",
       "    <tr>\n",
       "      <th>180035</th>\n",
       "      <td>RESULTS</td>\n",
       "      <td>for the absolute change in percent atheroma vo...</td>\n",
       "      <td>7</td>\n",
       "      <td>11</td>\n",
       "    </tr>\n",
       "    <tr>\n",
       "      <th>180036</th>\n",
       "      <td>RESULTS</td>\n",
       "      <td>for pav , a significantly greater percentage o...</td>\n",
       "      <td>8</td>\n",
       "      <td>11</td>\n",
       "    </tr>\n",
       "    <tr>\n",
       "      <th>180037</th>\n",
       "      <td>RESULTS</td>\n",
       "      <td>both strategies had acceptable side effect pro...</td>\n",
       "      <td>9</td>\n",
       "      <td>11</td>\n",
       "    </tr>\n",
       "    <tr>\n",
       "      <th>180038</th>\n",
       "      <td>CONCLUSIONS</td>\n",
       "      <td>compared with standard statin monotherapy , th...</td>\n",
       "      <td>10</td>\n",
       "      <td>11</td>\n",
       "    </tr>\n",
       "    <tr>\n",
       "      <th>180039</th>\n",
       "      <td>CONCLUSIONS</td>\n",
       "      <td>( plaque regression with cholesterol absorptio...</td>\n",
       "      <td>11</td>\n",
       "      <td>11</td>\n",
       "    </tr>\n",
       "  </tbody>\n",
       "</table>\n",
       "<p>180040 rows × 4 columns</p>\n",
       "</div>"
      ],
      "text/plain": [
       "               part  ... total_numb_lines\n",
       "0         OBJECTIVE  ...               11\n",
       "1           METHODS  ...               11\n",
       "2           METHODS  ...               11\n",
       "3           METHODS  ...               11\n",
       "4           METHODS  ...               11\n",
       "...             ...  ...              ...\n",
       "180035      RESULTS  ...               11\n",
       "180036      RESULTS  ...               11\n",
       "180037      RESULTS  ...               11\n",
       "180038  CONCLUSIONS  ...               11\n",
       "180039  CONCLUSIONS  ...               11\n",
       "\n",
       "[180040 rows x 4 columns]"
      ]
     },
     "execution_count": 14,
     "metadata": {
      "tags": []
     },
     "output_type": "execute_result"
    }
   ],
   "source": [
    "train = preprocessing(PubMed_20k_train)\n",
    "Train_dframe = pd.DataFrame(train)\n",
    "Train_dframe"
   ]
  },
  {
   "cell_type": "code",
   "execution_count": null,
   "id": "B0GXGbbIpteJ",
   "metadata": {
    "colab": {
     "base_uri": "https://localhost:8080/",
     "height": 417
    },
    "executionInfo": {
     "elapsed": 207,
     "status": "ok",
     "timestamp": 1628690748077,
     "user": {
      "displayName": "liu dingding",
      "photoUrl": "https://lh3.googleusercontent.com/a-/AOh14Gih1sX4YDm7A4eG9t9nBpfxbl8CID0JS-bwJUC6=s64",
      "userId": "00468694136483302831"
     },
     "user_tz": -120
    },
    "id": "B0GXGbbIpteJ",
    "outputId": "7171b881-00f9-4e69-8980-e70e9d2bb992"
   },
   "outputs": [
    {
     "data": {
      "text/html": [
       "<div>\n",
       "<style scoped>\n",
       "    .dataframe tbody tr th:only-of-type {\n",
       "        vertical-align: middle;\n",
       "    }\n",
       "\n",
       "    .dataframe tbody tr th {\n",
       "        vertical-align: top;\n",
       "    }\n",
       "\n",
       "    .dataframe thead th {\n",
       "        text-align: right;\n",
       "    }\n",
       "</style>\n",
       "<table border=\"1\" class=\"dataframe\">\n",
       "  <thead>\n",
       "    <tr style=\"text-align: right;\">\n",
       "      <th></th>\n",
       "      <th>part</th>\n",
       "      <th>text</th>\n",
       "      <th>line_number</th>\n",
       "      <th>total_numb_lines</th>\n",
       "    </tr>\n",
       "  </thead>\n",
       "  <tbody>\n",
       "    <tr>\n",
       "      <th>0</th>\n",
       "      <td>BACKGROUND</td>\n",
       "      <td>this study analyzed liver function abnormaliti...</td>\n",
       "      <td>0</td>\n",
       "      <td>8</td>\n",
       "    </tr>\n",
       "    <tr>\n",
       "      <th>1</th>\n",
       "      <td>RESULTS</td>\n",
       "      <td>a post hoc analysis was conducted with the use...</td>\n",
       "      <td>1</td>\n",
       "      <td>8</td>\n",
       "    </tr>\n",
       "    <tr>\n",
       "      <th>2</th>\n",
       "      <td>RESULTS</td>\n",
       "      <td>liver function tests ( lfts ) were measured at...</td>\n",
       "      <td>2</td>\n",
       "      <td>8</td>\n",
       "    </tr>\n",
       "    <tr>\n",
       "      <th>3</th>\n",
       "      <td>RESULTS</td>\n",
       "      <td>survival analyses were used to assess the asso...</td>\n",
       "      <td>3</td>\n",
       "      <td>8</td>\n",
       "    </tr>\n",
       "    <tr>\n",
       "      <th>4</th>\n",
       "      <td>RESULTS</td>\n",
       "      <td>the percentage of patients with abnormal lfts ...</td>\n",
       "      <td>4</td>\n",
       "      <td>8</td>\n",
       "    </tr>\n",
       "    <tr>\n",
       "      <th>...</th>\n",
       "      <td>...</td>\n",
       "      <td>...</td>\n",
       "      <td>...</td>\n",
       "      <td>...</td>\n",
       "    </tr>\n",
       "    <tr>\n",
       "      <th>30130</th>\n",
       "      <td>RESULTS</td>\n",
       "      <td>there was a statistically significant between-...</td>\n",
       "      <td>13</td>\n",
       "      <td>17</td>\n",
       "    </tr>\n",
       "    <tr>\n",
       "      <th>30131</th>\n",
       "      <td>RESULTS</td>\n",
       "      <td>there were no statistically significant betwee...</td>\n",
       "      <td>14</td>\n",
       "      <td>17</td>\n",
       "    </tr>\n",
       "    <tr>\n",
       "      <th>30132</th>\n",
       "      <td>RESULTS</td>\n",
       "      <td>there was no significant association between s...</td>\n",
       "      <td>15</td>\n",
       "      <td>17</td>\n",
       "    </tr>\n",
       "    <tr>\n",
       "      <th>30133</th>\n",
       "      <td>RESULTS</td>\n",
       "      <td>no adverse effects were reported .</td>\n",
       "      <td>16</td>\n",
       "      <td>17</td>\n",
       "    </tr>\n",
       "    <tr>\n",
       "      <th>30134</th>\n",
       "      <td>CONCLUSIONS</td>\n",
       "      <td>performing a 6-week do-as-tolerated program of...</td>\n",
       "      <td>17</td>\n",
       "      <td>17</td>\n",
       "    </tr>\n",
       "  </tbody>\n",
       "</table>\n",
       "<p>30135 rows × 4 columns</p>\n",
       "</div>"
      ],
      "text/plain": [
       "              part  ... total_numb_lines\n",
       "0       BACKGROUND  ...                8\n",
       "1          RESULTS  ...                8\n",
       "2          RESULTS  ...                8\n",
       "3          RESULTS  ...                8\n",
       "4          RESULTS  ...                8\n",
       "...            ...  ...              ...\n",
       "30130      RESULTS  ...               17\n",
       "30131      RESULTS  ...               17\n",
       "30132      RESULTS  ...               17\n",
       "30133      RESULTS  ...               17\n",
       "30134  CONCLUSIONS  ...               17\n",
       "\n",
       "[30135 rows x 4 columns]"
      ]
     },
     "execution_count": 15,
     "metadata": {
      "tags": []
     },
     "output_type": "execute_result"
    }
   ],
   "source": [
    "test = preprocessing(PubMed_20k_test)\n",
    "Test_dframe = pd.DataFrame(test)\n",
    "Test_dframe"
   ]
  },
  {
   "cell_type": "code",
   "execution_count": null,
   "id": "1dF6p8_hP2HO",
   "metadata": {
    "id": "1dF6p8_hP2HO"
   },
   "outputs": [],
   "source": [
    "import spacy\n",
    "nlp = spacy.load('en_core_web_sm')"
   ]
  },
  {
   "cell_type": "code",
   "execution_count": null,
   "id": "qMwoc89tPBN2",
   "metadata": {
    "colab": {
     "base_uri": "https://localhost:8080/"
    },
    "executionInfo": {
     "elapsed": 1883,
     "status": "ok",
     "timestamp": 1628690841799,
     "user": {
      "displayName": "liu dingding",
      "photoUrl": "https://lh3.googleusercontent.com/a-/AOh14Gih1sX4YDm7A4eG9t9nBpfxbl8CID0JS-bwJUC6=s64",
      "userId": "00468694136483302831"
     },
     "user_tz": -120
    },
    "id": "qMwoc89tPBN2",
    "outputId": "4e7219f6-3ddf-4ddc-e37b-2c06510e2342"
   },
   "outputs": [
    {
     "name": "stdout",
     "output_type": "stream",
     "text": [
      "[nltk_data] Downloading package punkt to /root/nltk_data...\n",
      "[nltk_data]   Unzipping tokenizers/punkt.zip.\n",
      "[nltk_data] Downloading package wordnet to /root/nltk_data...\n",
      "[nltk_data]   Unzipping corpora/wordnet.zip.\n"
     ]
    }
   ],
   "source": [
    "import nltk\n",
    "nltk.download('punkt')\n",
    "nltk.download('wordnet')\n",
    "from nltk.tokenize import word_tokenize  \n",
    "from nltk.corpus import stopwords\n",
    "from nltk.stem import WordNetLemmatizer\n",
    "from nltk.stem.snowball import SnowballStemmer\n",
    "from nltk.stem.porter import *"
   ]
  },
  {
   "cell_type": "markdown",
   "id": "SwlwXrtVUsAv",
   "metadata": {
    "id": "SwlwXrtVUsAv"
   },
   "source": [
    "Tokenization, stemming, lemmatization and filter stopwords"
   ]
  },
  {
   "cell_type": "code",
   "execution_count": null,
   "id": "8d8e5513",
   "metadata": {
    "id": "8d8e5513"
   },
   "outputs": [],
   "source": [
    "p_stemmer = PorterStemmer()\n",
    "wordnet_lemmatizer = WordNetLemmatizer()\n",
    "stemedList = []\n",
    "\n",
    "def NLP_pipeline(text):\n",
    "\n",
    "  # tokenization\n",
    "    wordlist = word_tokenize(text)\n",
    "\n",
    "  # stemming\n",
    "  #wordlist = [p_stemmer.stem(word) for word in wordlist]\n",
    "\n",
    "  # Lemmatization\n",
    "    wordlist = [wordnet_lemmatizer.lemmatize(word) for word in wordlist]\n",
    "\n",
    "  # filter stopwords\n",
    "    filtered_sentence =[] \n",
    "    for word in wordlist:\n",
    "        lexeme = nlp.vocab[word]\n",
    "        if lexeme.is_stop == False:\n",
    "            filtered_sentence.append(word) \n",
    "    wordlist = filtered_sentence\n",
    "\n",
    "     text = ' '.join(wordlist)\n",
    "  return text"
   ]
  },
  {
   "cell_type": "markdown",
   "id": "Ai03V4E6rEfJ",
   "metadata": {
    "id": "Ai03V4E6rEfJ"
   },
   "source": [
    "### data cleaning on train and test datasets"
   ]
  },
  {
   "cell_type": "code",
   "execution_count": null,
   "id": "9Spe_6UuqGYf",
   "metadata": {
    "id": "9Spe_6UuqGYf"
   },
   "outputs": [],
   "source": [
    "text_train = Train_dframe['text']\n",
    "text_test = Test_dframe['text']\n",
    "Train_dframe['clean_data'] = Train_dframe['text'].apply(lambda x: NLP_pipeline(x))\n",
    "Test_dframe['clean_data'] = Test_dframe['text'].apply(lambda x: NLP_pipeline(x))"
   ]
  },
  {
   "cell_type": "code",
   "execution_count": null,
   "id": "eTRSAE6lqiOQ",
   "metadata": {
    "colab": {
     "base_uri": "https://localhost:8080/",
     "height": 419
    },
    "executionInfo": {
     "elapsed": 21,
     "status": "ok",
     "timestamp": 1628685106660,
     "user": {
      "displayName": "danqi wang",
      "photoUrl": "",
      "userId": "13389840924263856524"
     },
     "user_tz": -120
    },
    "id": "eTRSAE6lqiOQ",
    "outputId": "3dd5ff4e-1629-473a-b4a1-e4cd3817b3e4"
   },
   "outputs": [
    {
     "data": {
      "text/html": [
       "<div>\n",
       "<style scoped>\n",
       "    .dataframe tbody tr th:only-of-type {\n",
       "        vertical-align: middle;\n",
       "    }\n",
       "\n",
       "    .dataframe tbody tr th {\n",
       "        vertical-align: top;\n",
       "    }\n",
       "\n",
       "    .dataframe thead th {\n",
       "        text-align: right;\n",
       "    }\n",
       "</style>\n",
       "<table border=\"1\" class=\"dataframe\">\n",
       "  <thead>\n",
       "    <tr style=\"text-align: right;\">\n",
       "      <th></th>\n",
       "      <th>part</th>\n",
       "      <th>text</th>\n",
       "      <th>line_number</th>\n",
       "      <th>total_numb_lines</th>\n",
       "      <th>clean_data</th>\n",
       "    </tr>\n",
       "  </thead>\n",
       "  <tbody>\n",
       "    <tr>\n",
       "      <th>0</th>\n",
       "      <td>OBJECTIVE</td>\n",
       "      <td>to investigate the efficacy of 6 weeks of dail...</td>\n",
       "      <td>0</td>\n",
       "      <td>11</td>\n",
       "      <td>investigate efficacy 6 week daily low-dose ora...</td>\n",
       "    </tr>\n",
       "    <tr>\n",
       "      <th>1</th>\n",
       "      <td>METHODS</td>\n",
       "      <td>a total of 125 patients with primary knee oa w...</td>\n",
       "      <td>1</td>\n",
       "      <td>11</td>\n",
       "      <td>total 125 patient primary knee oa randomized 1...</td>\n",
       "    </tr>\n",
       "    <tr>\n",
       "      <th>2</th>\n",
       "      <td>METHODS</td>\n",
       "      <td>outcome measures included pain reduction and i...</td>\n",
       "      <td>2</td>\n",
       "      <td>11</td>\n",
       "      <td>outcome measure included pain reduction improv...</td>\n",
       "    </tr>\n",
       "    <tr>\n",
       "      <th>3</th>\n",
       "      <td>METHODS</td>\n",
       "      <td>pain was assessed using the visual analog pain...</td>\n",
       "      <td>3</td>\n",
       "      <td>11</td>\n",
       "      <td>pain wa assessed visual analog pain scale ( 0-...</td>\n",
       "    </tr>\n",
       "    <tr>\n",
       "      <th>4</th>\n",
       "      <td>METHODS</td>\n",
       "      <td>secondary outcome measures included the wester...</td>\n",
       "      <td>4</td>\n",
       "      <td>11</td>\n",
       "      <td>secondary outcome measure included western ont...</td>\n",
       "    </tr>\n",
       "    <tr>\n",
       "      <th>...</th>\n",
       "      <td>...</td>\n",
       "      <td>...</td>\n",
       "      <td>...</td>\n",
       "      <td>...</td>\n",
       "      <td>...</td>\n",
       "    </tr>\n",
       "    <tr>\n",
       "      <th>180035</th>\n",
       "      <td>RESULTS</td>\n",
       "      <td>for the absolute change in percent atheroma vo...</td>\n",
       "      <td>7</td>\n",
       "      <td>11</td>\n",
       "      <td>absolute change percent atheroma volume ( pav ...</td>\n",
       "    </tr>\n",
       "    <tr>\n",
       "      <th>180036</th>\n",
       "      <td>RESULTS</td>\n",
       "      <td>for pav , a significantly greater percentage o...</td>\n",
       "      <td>8</td>\n",
       "      <td>11</td>\n",
       "      <td>pav , significantly greater percentage patient...</td>\n",
       "    </tr>\n",
       "    <tr>\n",
       "      <th>180037</th>\n",
       "      <td>RESULTS</td>\n",
       "      <td>both strategies had acceptable side effect pro...</td>\n",
       "      <td>9</td>\n",
       "      <td>11</td>\n",
       "      <td>strategy acceptable effect profile , low incid...</td>\n",
       "    </tr>\n",
       "    <tr>\n",
       "      <th>180038</th>\n",
       "      <td>CONCLUSIONS</td>\n",
       "      <td>compared with standard statin monotherapy , th...</td>\n",
       "      <td>10</td>\n",
       "      <td>11</td>\n",
       "      <td>compared standard statin monotherapy , combina...</td>\n",
       "    </tr>\n",
       "    <tr>\n",
       "      <th>180039</th>\n",
       "      <td>CONCLUSIONS</td>\n",
       "      <td>( plaque regression with cholesterol absorptio...</td>\n",
       "      <td>11</td>\n",
       "      <td>11</td>\n",
       "      <td>( plaque regression cholesterol absorption inh...</td>\n",
       "    </tr>\n",
       "  </tbody>\n",
       "</table>\n",
       "<p>180040 rows × 5 columns</p>\n",
       "</div>"
      ],
      "text/plain": [
       "               part  ...                                         clean_data\n",
       "0         OBJECTIVE  ...  investigate efficacy 6 week daily low-dose ora...\n",
       "1           METHODS  ...  total 125 patient primary knee oa randomized 1...\n",
       "2           METHODS  ...  outcome measure included pain reduction improv...\n",
       "3           METHODS  ...  pain wa assessed visual analog pain scale ( 0-...\n",
       "4           METHODS  ...  secondary outcome measure included western ont...\n",
       "...             ...  ...                                                ...\n",
       "180035      RESULTS  ...  absolute change percent atheroma volume ( pav ...\n",
       "180036      RESULTS  ...  pav , significantly greater percentage patient...\n",
       "180037      RESULTS  ...  strategy acceptable effect profile , low incid...\n",
       "180038  CONCLUSIONS  ...  compared standard statin monotherapy , combina...\n",
       "180039  CONCLUSIONS  ...  ( plaque regression cholesterol absorption inh...\n",
       "\n",
       "[180040 rows x 5 columns]"
      ]
     },
     "execution_count": 17,
     "metadata": {
      "tags": []
     },
     "output_type": "execute_result"
    }
   ],
   "source": [
    "Train_dframe"
   ]
  },
  {
   "cell_type": "code",
   "execution_count": null,
   "id": "nCQ8I-9Bqkkr",
   "metadata": {
    "colab": {
     "base_uri": "https://localhost:8080/",
     "height": 419
    },
    "executionInfo": {
     "elapsed": 20,
     "status": "ok",
     "timestamp": 1628685106661,
     "user": {
      "displayName": "danqi wang",
      "photoUrl": "",
      "userId": "13389840924263856524"
     },
     "user_tz": -120
    },
    "id": "nCQ8I-9Bqkkr",
    "outputId": "1c5a442a-305d-4ec7-bd7a-891f7b036109"
   },
   "outputs": [
    {
     "data": {
      "text/html": [
       "<div>\n",
       "<style scoped>\n",
       "    .dataframe tbody tr th:only-of-type {\n",
       "        vertical-align: middle;\n",
       "    }\n",
       "\n",
       "    .dataframe tbody tr th {\n",
       "        vertical-align: top;\n",
       "    }\n",
       "\n",
       "    .dataframe thead th {\n",
       "        text-align: right;\n",
       "    }\n",
       "</style>\n",
       "<table border=\"1\" class=\"dataframe\">\n",
       "  <thead>\n",
       "    <tr style=\"text-align: right;\">\n",
       "      <th></th>\n",
       "      <th>part</th>\n",
       "      <th>text</th>\n",
       "      <th>line_number</th>\n",
       "      <th>total_numb_lines</th>\n",
       "      <th>clean_data</th>\n",
       "    </tr>\n",
       "  </thead>\n",
       "  <tbody>\n",
       "    <tr>\n",
       "      <th>0</th>\n",
       "      <td>BACKGROUND</td>\n",
       "      <td>this study analyzed liver function abnormaliti...</td>\n",
       "      <td>0</td>\n",
       "      <td>8</td>\n",
       "      <td>study analyzed liver function abnormality hear...</td>\n",
       "    </tr>\n",
       "    <tr>\n",
       "      <th>1</th>\n",
       "      <td>RESULTS</td>\n",
       "      <td>a post hoc analysis was conducted with the use...</td>\n",
       "      <td>1</td>\n",
       "      <td>8</td>\n",
       "      <td>post hoc analysis wa conducted use data evalua...</td>\n",
       "    </tr>\n",
       "    <tr>\n",
       "      <th>2</th>\n",
       "      <td>RESULTS</td>\n",
       "      <td>liver function tests ( lfts ) were measured at...</td>\n",
       "      <td>2</td>\n",
       "      <td>8</td>\n",
       "      <td>liver function test ( lfts ) measured 7 time p...</td>\n",
       "    </tr>\n",
       "    <tr>\n",
       "      <th>3</th>\n",
       "      <td>RESULTS</td>\n",
       "      <td>survival analyses were used to assess the asso...</td>\n",
       "      <td>3</td>\n",
       "      <td>8</td>\n",
       "      <td>survival analysis ass association admission mo...</td>\n",
       "    </tr>\n",
       "    <tr>\n",
       "      <th>4</th>\n",
       "      <td>RESULTS</td>\n",
       "      <td>the percentage of patients with abnormal lfts ...</td>\n",
       "      <td>4</td>\n",
       "      <td>8</td>\n",
       "      <td>percentage patient abnormal lfts decreased sig...</td>\n",
       "    </tr>\n",
       "    <tr>\n",
       "      <th>...</th>\n",
       "      <td>...</td>\n",
       "      <td>...</td>\n",
       "      <td>...</td>\n",
       "      <td>...</td>\n",
       "      <td>...</td>\n",
       "    </tr>\n",
       "    <tr>\n",
       "      <th>30130</th>\n",
       "      <td>RESULTS</td>\n",
       "      <td>there was a statistically significant between-...</td>\n",
       "      <td>13</td>\n",
       "      <td>17</td>\n",
       "      <td>wa statistically significant between-group dif...</td>\n",
       "    </tr>\n",
       "    <tr>\n",
       "      <th>30131</th>\n",
       "      <td>RESULTS</td>\n",
       "      <td>there were no statistically significant betwee...</td>\n",
       "      <td>14</td>\n",
       "      <td>17</td>\n",
       "      <td>statistically significant between-group differ...</td>\n",
       "    </tr>\n",
       "    <tr>\n",
       "      <th>30132</th>\n",
       "      <td>RESULTS</td>\n",
       "      <td>there was no significant association between s...</td>\n",
       "      <td>15</td>\n",
       "      <td>17</td>\n",
       "      <td>wa significant association satisfaction treatm...</td>\n",
       "    </tr>\n",
       "    <tr>\n",
       "      <th>30133</th>\n",
       "      <td>RESULTS</td>\n",
       "      <td>no adverse effects were reported .</td>\n",
       "      <td>16</td>\n",
       "      <td>17</td>\n",
       "      <td>adverse effect reported .</td>\n",
       "    </tr>\n",
       "    <tr>\n",
       "      <th>30134</th>\n",
       "      <td>CONCLUSIONS</td>\n",
       "      <td>performing a 6-week do-as-tolerated program of...</td>\n",
       "      <td>17</td>\n",
       "      <td>17</td>\n",
       "      <td>performing 6-week do-as-tolerated program ecce...</td>\n",
       "    </tr>\n",
       "  </tbody>\n",
       "</table>\n",
       "<p>30135 rows × 5 columns</p>\n",
       "</div>"
      ],
      "text/plain": [
       "              part  ...                                         clean_data\n",
       "0       BACKGROUND  ...  study analyzed liver function abnormality hear...\n",
       "1          RESULTS  ...  post hoc analysis wa conducted use data evalua...\n",
       "2          RESULTS  ...  liver function test ( lfts ) measured 7 time p...\n",
       "3          RESULTS  ...  survival analysis ass association admission mo...\n",
       "4          RESULTS  ...  percentage patient abnormal lfts decreased sig...\n",
       "...            ...  ...                                                ...\n",
       "30130      RESULTS  ...  wa statistically significant between-group dif...\n",
       "30131      RESULTS  ...  statistically significant between-group differ...\n",
       "30132      RESULTS  ...  wa significant association satisfaction treatm...\n",
       "30133      RESULTS  ...                          adverse effect reported .\n",
       "30134  CONCLUSIONS  ...  performing 6-week do-as-tolerated program ecce...\n",
       "\n",
       "[30135 rows x 5 columns]"
      ]
     },
     "execution_count": 18,
     "metadata": {
      "tags": []
     },
     "output_type": "execute_result"
    }
   ],
   "source": [
    "Test_dframe"
   ]
  },
  {
   "cell_type": "markdown",
   "id": "QV8fw3hGrA9c",
   "metadata": {
    "id": "QV8fw3hGrA9c"
   },
   "source": [
    "## Vectorize text"
   ]
  },
  {
   "cell_type": "markdown",
   "id": "xVVjCWPacsW_",
   "metadata": {
    "id": "xVVjCWPacsW_"
   },
   "source": [
    "Bag of Words(BoW): converts text into the matrix of occurrence of words within a given document.\n",
    "\n",
    "\n",
    "scikit-learn‘s CountVectorizer: generate a BoW matrix.\n",
    "\n",
    "\n",
    "ngram_range parameter: 1: unigrams would be a sequence of single words;\n",
    "\n",
    "2 Bigram: a sequence of 2 contiguous words"
   ]
  },
  {
   "cell_type": "code",
   "execution_count": null,
   "id": "D10aY5oyladm",
   "metadata": {
    "id": "D10aY5oyladm"
   },
   "outputs": [],
   "source": [
    "from sklearn.feature_extraction.text import CountVectorizer,TfidfVectorizer\n",
    "vectorizer = CountVectorizer(ngram_range=(1,1), max_features=1000)"
   ]
  },
  {
   "cell_type": "markdown",
   "id": "MNVBzk1akUjt",
   "metadata": {
    "id": "MNVBzk1akUjt"
   },
   "source": [
    "TF-IDF (Term Frequency-Inverse Document Frequency): Normalizing Bag of Words(BoW) by looking at each word’s frequency in comparison to the document frequency. The higher the TF-IDF, the more important that term is to that document."
   ]
  },
  {
   "cell_type": "markdown",
   "id": "aHlXxwAymKKm",
   "metadata": {
    "id": "aHlXxwAymKKm"
   },
   "source": [
    "![截屏2021-08-11 11.43.33.png](data:image/png;base64,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)"
   ]
  },
  {
   "cell_type": "markdown",
   "id": "APozPtCTxqCZ",
   "metadata": {
    "id": "APozPtCTxqCZ"
   },
   "source": [
    "## Model Training"
   ]
  },
  {
   "cell_type": "markdown",
   "id": "zGB0B02a8zxu",
   "metadata": {
    "id": "zGB0B02a8zxu"
   },
   "source": [
    "x_train, x_test, y_train, y_test"
   ]
  },
  {
   "cell_type": "code",
   "execution_count": null,
   "id": "o9YwjYW1mzMc",
   "metadata": {
    "id": "o9YwjYW1mzMc"
   },
   "outputs": [],
   "source": [
    "# train set feature:\n",
    "x_train = Train_dframe['clean_data']\n",
    "# train set label:\n",
    "y_train = Train_dframe['part']\n",
    "# test set feature:\n",
    "x_test = Test_dframe['clean_data']\n",
    "# test set label:\n",
    "y_test = Test_dframe['part']"
   ]
  },
  {
   "cell_type": "markdown",
   "id": "kvF6-92R9mCX",
   "metadata": {
    "id": "kvF6-92R9mCX"
   },
   "source": [
    "## create a pipeline and generate models"
   ]
  },
  {
   "cell_type": "markdown",
   "id": "6rYfWYUo9vNg",
   "metadata": {
    "id": "6rYfWYUo9vNg"
   },
   "source": [
    "logistic regression"
   ]
  },
  {
   "cell_type": "code",
   "execution_count": null,
   "id": "xYDsywR3mzOg",
   "metadata": {
    "colab": {
     "base_uri": "https://localhost:8080/"
    },
    "executionInfo": {
     "elapsed": 18449,
     "status": "ok",
     "timestamp": 1628685125093,
     "user": {
      "displayName": "danqi wang",
      "photoUrl": "",
      "userId": "13389840924263856524"
     },
     "user_tz": -120
    },
    "id": "xYDsywR3mzOg",
    "outputId": "61f1c3d5-27d8-4e7b-fc65-df532c0f398a"
   },
   "outputs": [
    {
     "name": "stdout",
     "output_type": "stream",
     "text": [
      "[LibLinear]"
     ]
    },
    {
     "data": {
      "text/plain": [
       "Pipeline(memory=None,\n",
       "         steps=[('vectorizer',\n",
       "                 CountVectorizer(analyzer='word', binary=False,\n",
       "                                 decode_error='strict',\n",
       "                                 dtype=<class 'numpy.int64'>, encoding='utf-8',\n",
       "                                 input='content', lowercase=True, max_df=1.0,\n",
       "                                 max_features=1000, min_df=1,\n",
       "                                 ngram_range=(1, 1), preprocessor=None,\n",
       "                                 stop_words=None, strip_accents=None,\n",
       "                                 token_pattern='(?u)\\\\b\\\\w\\\\w+\\\\b',\n",
       "                                 tokenizer=None, vocabulary=None)),\n",
       "                ('classifier',\n",
       "                 LogisticRegression(C=5, class_weight=None, dual=False,\n",
       "                                    fit_intercept=True, intercept_scaling=1,\n",
       "                                    l1_ratio=None, max_iter=1000,\n",
       "                                    multi_class='auto', n_jobs=None,\n",
       "                                    penalty='l2', random_state=0,\n",
       "                                    solver='liblinear', tol=0.0001, verbose=1,\n",
       "                                    warm_start=False))],\n",
       "         verbose=False)"
      ]
     },
     "execution_count": 23,
     "metadata": {
      "tags": []
     },
     "output_type": "execute_result"
    }
   ],
   "source": [
    "# Logistic Regression Classifier\n",
    "from sklearn.linear_model import LogisticRegression\n",
    "from sklearn.pipeline import Pipeline\n",
    "\n",
    "logistic = LogisticRegression(verbose=1, solver='liblinear',random_state=0, C=5, penalty='l2',max_iter=1000)\n",
    "\n",
    "# Create pipeline using Bag of Words\n",
    "pipe = Pipeline([('vectorizer', vectorizer),('classifier', logistic)])\n",
    "\n",
    "# model generation\n",
    "pipe.fit(x_train,y_train)"
   ]
  },
  {
   "cell_type": "markdown",
   "id": "igsRzPJeVHS1",
   "metadata": {
    "id": "igsRzPJeVHS1"
   },
   "source": [
    "random forest"
   ]
  },
  {
   "cell_type": "code",
   "execution_count": null,
   "id": "HZlT0-UuSaLa",
   "metadata": {
    "colab": {
     "base_uri": "https://localhost:8080/"
    },
    "executionInfo": {
     "elapsed": 543983,
     "status": "ok",
     "timestamp": 1628693528675,
     "user": {
      "displayName": "liu dingding",
      "photoUrl": "https://lh3.googleusercontent.com/a-/AOh14Gih1sX4YDm7A4eG9t9nBpfxbl8CID0JS-bwJUC6=s64",
      "userId": "00468694136483302831"
     },
     "user_tz": -120
    },
    "id": "HZlT0-UuSaLa",
    "outputId": "5e5e8909-872a-4ecf-8cee-70d2e199ecd9"
   },
   "outputs": [
    {
     "data": {
      "text/plain": [
       "Pipeline(memory=None,\n",
       "         steps=[('vectorizer',\n",
       "                 CountVectorizer(analyzer='word', binary=False,\n",
       "                                 decode_error='strict',\n",
       "                                 dtype=<class 'numpy.int64'>, encoding='utf-8',\n",
       "                                 input='content', lowercase=True, max_df=1.0,\n",
       "                                 max_features=1000, min_df=1,\n",
       "                                 ngram_range=(1, 1), preprocessor=None,\n",
       "                                 stop_words=None, strip_accents=None,\n",
       "                                 token_pattern='(?u)\\\\b\\\\w\\\\w+\\\\b',\n",
       "                                 tokenizer=None, vocabula...\n",
       "                 RandomForestClassifier(bootstrap=True, ccp_alpha=0.0,\n",
       "                                        class_weight=None, criterion='gini',\n",
       "                                        max_depth=100, max_features='auto',\n",
       "                                        max_leaf_nodes=None, max_samples=None,\n",
       "                                        min_impurity_decrease=0.0,\n",
       "                                        min_impurity_split=None,\n",
       "                                        min_samples_leaf=1, min_samples_split=2,\n",
       "                                        min_weight_fraction_leaf=0.0,\n",
       "                                        n_estimators=100, n_jobs=None,\n",
       "                                        oob_score=False, random_state=0,\n",
       "                                        verbose=0, warm_start=False))],\n",
       "         verbose=False)"
      ]
     },
     "execution_count": 39,
     "metadata": {
      "tags": []
     },
     "output_type": "execute_result"
    }
   ],
   "source": [
    "from sklearn.ensemble import RandomForestClassifier\n",
    "randomforest = RandomForestClassifier(max_depth=100, random_state=0)\n",
    "\n",
    "pipe_randomforest = Pipeline([('vectorizer', vectorizer),('classifier', randomforest)])\n",
    "pipe_randomforest.fit(x_train, y_train)"
   ]
  },
  {
   "cell_type": "markdown",
   "id": "YqqJ1VvHqYqu",
   "metadata": {
    "id": "YqqJ1VvHqYqu"
   },
   "source": [
    "Naive Bayes"
   ]
  },
  {
   "cell_type": "code",
   "execution_count": null,
   "id": "yD8W3kJDgBQw",
   "metadata": {
    "colab": {
     "base_uri": "https://localhost:8080/"
    },
    "executionInfo": {
     "elapsed": 4357,
     "status": "ok",
     "timestamp": 1628693602168,
     "user": {
      "displayName": "liu dingding",
      "photoUrl": "https://lh3.googleusercontent.com/a-/AOh14Gih1sX4YDm7A4eG9t9nBpfxbl8CID0JS-bwJUC6=s64",
      "userId": "00468694136483302831"
     },
     "user_tz": -120
    },
    "id": "yD8W3kJDgBQw",
    "outputId": "6d418802-8bf0-4bbf-95d5-d5eda13e6de9"
   },
   "outputs": [
    {
     "data": {
      "text/plain": [
       "Pipeline(memory=None,\n",
       "         steps=[('vectorizer',\n",
       "                 CountVectorizer(analyzer='word', binary=False,\n",
       "                                 decode_error='strict',\n",
       "                                 dtype=<class 'numpy.int64'>, encoding='utf-8',\n",
       "                                 input='content', lowercase=True, max_df=1.0,\n",
       "                                 max_features=1000, min_df=1,\n",
       "                                 ngram_range=(1, 1), preprocessor=None,\n",
       "                                 stop_words=None, strip_accents=None,\n",
       "                                 token_pattern='(?u)\\\\b\\\\w\\\\w+\\\\b',\n",
       "                                 tokenizer=None, vocabulary=None)),\n",
       "                ('classifier',\n",
       "                 MultinomialNB(alpha=1.0, class_prior=None, fit_prior=True))],\n",
       "         verbose=False)"
      ]
     },
     "execution_count": 40,
     "metadata": {
      "tags": []
     },
     "output_type": "execute_result"
    }
   ],
   "source": [
    "from sklearn.naive_bayes import MultinomialNB\n",
    "clf = MultinomialNB()\n",
    "\n",
    "pipe_clf = Pipeline([('vectorizer', vectorizer),('classifier', clf)])\n",
    "pipe_clf.fit(x_train, y_train)"
   ]
  },
  {
   "cell_type": "markdown",
   "id": "_v95FPC6SG2t",
   "metadata": {
    "id": "_v95FPC6SG2t"
   },
   "source": [
    "### Generate predictions for the test dataset"
   ]
  },
  {
   "cell_type": "code",
   "execution_count": null,
   "id": "zjGONEZd9tkI",
   "metadata": {
    "id": "zjGONEZd9tkI"
   },
   "outputs": [],
   "source": [
    "from sklearn import metrics\n",
    "# Predicting with a test dataset\n",
    "predicted = pipe.predict(x_test)"
   ]
  },
  {
   "cell_type": "code",
   "execution_count": null,
   "id": "hWan0cGxUXsU",
   "metadata": {
    "id": "hWan0cGxUXsU"
   },
   "outputs": [],
   "source": [
    "predicted_forest = pipe_randomforest.predict(x_test)"
   ]
  },
  {
   "cell_type": "code",
   "execution_count": null,
   "id": "bkUJljU19to2",
   "metadata": {
    "colab": {
     "base_uri": "https://localhost:8080/"
    },
    "executionInfo": {
     "elapsed": 1544,
     "status": "ok",
     "timestamp": 1628686436064,
     "user": {
      "displayName": "danqi wang",
      "photoUrl": "",
      "userId": "13389840924263856524"
     },
     "user_tz": -120
    },
    "id": "bkUJljU19to2",
    "outputId": "ed434635-0dd3-484a-e6d0-b708c43d1e98"
   },
   "outputs": [
    {
     "name": "stdout",
     "output_type": "stream",
     "text": [
      "              precision    recall  f1-score   support\n",
      "\n",
      "  BACKGROUND       0.56      0.48      0.51      3621\n",
      " CONCLUSIONS       0.62      0.58      0.60      4571\n",
      "     METHODS       0.75      0.87      0.81      9897\n",
      "   OBJECTIVE       0.64      0.45      0.52      2333\n",
      "     RESULTS       0.82      0.82      0.82      9713\n",
      "\n",
      "    accuracy                           0.73     30135\n",
      "   macro avg       0.68      0.64      0.65     30135\n",
      "weighted avg       0.72      0.73      0.72     30135\n",
      "\n"
     ]
    }
   ],
   "source": [
    "#logistic regression\n",
    "from sklearn.metrics import classification_report\n",
    "print(classification_report(y_test, predicted))"
   ]
  },
  {
   "cell_type": "code",
   "execution_count": null,
   "id": "Z6r4gLDyUfI_",
   "metadata": {
    "colab": {
     "base_uri": "https://localhost:8080/"
    },
    "executionInfo": {
     "elapsed": 1358,
     "status": "ok",
     "timestamp": 1628693612542,
     "user": {
      "displayName": "liu dingding",
      "photoUrl": "https://lh3.googleusercontent.com/a-/AOh14Gih1sX4YDm7A4eG9t9nBpfxbl8CID0JS-bwJUC6=s64",
      "userId": "00468694136483302831"
     },
     "user_tz": -120
    },
    "id": "Z6r4gLDyUfI_",
    "outputId": "158b11df-54e5-40fd-ea39-38540f59ce0f"
   },
   "outputs": [
    {
     "name": "stdout",
     "output_type": "stream",
     "text": [
      "              precision    recall  f1-score   support\n",
      "\n",
      "  BACKGROUND       0.50      0.55      0.52      3621\n",
      " CONCLUSIONS       0.62      0.51      0.56      4571\n",
      "     METHODS       0.75      0.87      0.81      9897\n",
      "   OBJECTIVE       0.67      0.43      0.52      2333\n",
      "     RESULTS       0.82      0.79      0.80      9713\n",
      "\n",
      "    accuracy                           0.72     30135\n",
      "   macro avg       0.67      0.63      0.64     30135\n",
      "weighted avg       0.71      0.72      0.71     30135\n",
      "\n"
     ]
    }
   ],
   "source": [
    "#random forest\n",
    "print(classification_report(y_test, predicted_forest))"
   ]
  },
  {
   "cell_type": "code",
   "execution_count": null,
   "id": "j7-ZyPl7jHY3",
   "metadata": {
    "colab": {
     "base_uri": "https://localhost:8080/"
    },
    "executionInfo": {
     "elapsed": 1591,
     "status": "ok",
     "timestamp": 1628693617340,
     "user": {
      "displayName": "liu dingding",
      "photoUrl": "https://lh3.googleusercontent.com/a-/AOh14Gih1sX4YDm7A4eG9t9nBpfxbl8CID0JS-bwJUC6=s64",
      "userId": "00468694136483302831"
     },
     "user_tz": -120
    },
    "id": "j7-ZyPl7jHY3",
    "outputId": "440ab1d5-9900-45a7-f715-5ae2eb62f2a7"
   },
   "outputs": [
    {
     "name": "stdout",
     "output_type": "stream",
     "text": [
      "              precision    recall  f1-score   support\n",
      "\n",
      "  BACKGROUND       0.49      0.49      0.49      3621\n",
      " CONCLUSIONS       0.55      0.61      0.58      4571\n",
      "     METHODS       0.77      0.82      0.79      9897\n",
      "   OBJECTIVE       0.52      0.50      0.51      2333\n",
      "     RESULTS       0.84      0.75      0.79      9713\n",
      "\n",
      "    accuracy                           0.70     30135\n",
      "   macro avg       0.63      0.63      0.63     30135\n",
      "weighted avg       0.71      0.70      0.70     30135\n",
      "\n"
     ]
    }
   ],
   "source": [
    "#naive bayes\n",
    "predicted_clf = pipe_clf.predict(x_test)\n",
    "print(classification_report(y_test, predicted_clf))"
   ]
  },
  {
   "cell_type": "markdown",
   "id": "Q4vVpf8ReVxF",
   "metadata": {
    "id": "Q4vVpf8ReVxF"
   },
   "source": [
    "### The accuracy for logistic regression, random forest and naive_bayes are 0.73, 0.72 and 0.70."
   ]
  },
  {
   "cell_type": "markdown",
   "id": "TW5Va-IOTiEa",
   "metadata": {
    "id": "TW5Va-IOTiEa"
   },
   "source": [
    "### Visualization of benchmarking results"
   ]
  },
  {
   "cell_type": "code",
   "execution_count": null,
   "id": "5G0P_TANbJ72",
   "metadata": {
    "id": "5G0P_TANbJ72"
   },
   "outputs": [],
   "source": [
    "from sklearn.metrics import precision_recall_fscore_support as score\n",
    "precision,recall,fscore,support=score(y_test,predicted)\n",
    "precision_rf, recall_rf, fscore_rf,support_rf=score(y_test,predicted_forest)\n",
    "precision_nb, recall_nb, fscore_nb, support_nb = score(y_test, predicted_clf)"
   ]
  },
  {
   "cell_type": "code",
   "execution_count": null,
   "id": "KBx5ww8GX5TB",
   "metadata": {
    "colab": {
     "base_uri": "https://localhost:8080/",
     "height": 362
    },
    "executionInfo": {
     "elapsed": 949,
     "status": "ok",
     "timestamp": 1628694586527,
     "user": {
      "displayName": "liu dingding",
      "photoUrl": "https://lh3.googleusercontent.com/a-/AOh14Gih1sX4YDm7A4eG9t9nBpfxbl8CID0JS-bwJUC6=s64",
      "userId": "00468694136483302831"
     },
     "user_tz": -120
    },
    "id": "KBx5ww8GX5TB",
    "outputId": "f567b041-274a-4141-ebbd-75bcb825e61c"
   },
   "outputs": [
    {
     "data": {
      "image/png": "[encoded data removed]",
      "text/plain": [
       "<Figure size 2160x1080 with 3 Axes>"
      ]
     },
     "metadata": {
      "needs_background": "light",
      "tags": []
     },
     "output_type": "display_data"
    }
   ],
   "source": [
    "import matplotlib.pyplot as plt\n",
    "import numpy as np\n",
    " \n",
    "name_list = ['BACKGROUND','CONCLUSIONS','METHODS','OBJECTIVES','RESULTS']\n",
    "\n",
    "\n",
    "x = np.arange(len(name_list)) \n",
    "width = 0.25 \n",
    "\n",
    "plt.figure(figsize=(30,15))\n",
    "\n",
    "plt.subplot(231)\n",
    "plt.title('Precision')\n",
    "plt.bar(x-width , precision, width, label='logistic',tick_label = name_list,fc = 'y')\n",
    "plt.bar(x, precision_rf, width, label='random forest',tick_label = name_list,fc = 'r')\n",
    "plt.bar(x + width, precision_nb, width, label='naive_bayes',tick_label = name_list,fc = 'g')\n",
    "plt.legend()\n",
    "\n",
    "plt.subplot(232)\n",
    "plt.title('Recall')\n",
    "plt.bar(x - width, recall, width, label='logistic',tick_label = name_list,fc = 'y')\n",
    "plt.bar(x, recall_rf, width, label='random forest',tick_label = name_list,fc = 'r')\n",
    "plt.bar(x + width, precision_nb, width, label='naive_bayes',tick_label = name_list,fc = 'g')\n",
    "plt.legend()\n",
    "\n",
    "plt.subplot(233)\n",
    "plt.title('F1-score')\n",
    "plt.bar(x - width, fscore, width, label='logistic',tick_label = name_list,fc = 'y')\n",
    "plt.bar(x, fscore_rf, width, label='random forest',tick_label = name_list,fc = 'r')\n",
    "plt.bar(x + width, fscore_nb, width, label='naive_bayes',tick_label = name_list,fc = 'g')\n",
    "\n",
    "plt.legend()\n",
    "plt.show()\n"
   ]
  },
  {
   "cell_type": "markdown",
   "id": "8JYzwWDaxjZ8",
   "metadata": {
    "id": "8JYzwWDaxjZ8"
   },
   "source": [
    "## Conclusion"
   ]
  },
  {
   "cell_type": "markdown",
   "id": "2fSq82GMxBbD",
   "metadata": {
    "id": "2fSq82GMxBbD"
   },
   "source": [
    "Concluding from the plot, logistic regression performs the best. And according to the precision result, ‘results’ are get accurately classified."
   ]
  }
 ],
 "metadata": {
  "colab": {
   "collapsed_sections": [],
   "name": "Day2_Task2_Manasa Voleti_Dingming Liu_Danqi Wang.ipynb",
   "provenance": []
  },
  "kernelspec": {
   "display_name": "Python 3",
   "language": "python",
   "name": "python3"
  },
  "language_info": {
   "codemirror_mode": {
    "name": "ipython",
    "version": 3
   },
   "file_extension": ".py",
   "mimetype": "text/x-python",
   "name": "python",
   "nbconvert_exporter": "python",
   "pygments_lexer": "ipython3",
   "version": "3.8.8"
  }
 },
 "nbformat": 4,
 "nbformat_minor": 5
}